{
 "cells": [
  {
   "cell_type": "code",
   "execution_count": 1,
   "metadata": {},
   "outputs": [],
   "source": [
    "import pandas as pd\n",
    "from sklearn.metrics import accuracy_score, precision_score, recall_score, f1_score\n",
    "from sklearn.metrics import roc_auc_score, log_loss, confusion_matrix"
   ]
  },
  {
   "cell_type": "code",
   "execution_count": 2,
   "metadata": {},
   "outputs": [],
   "source": [
    "df = pd.read_csv('dementia_dataset (374 records, needs cleaning).csv')"
   ]
  },
  {
   "cell_type": "markdown",
   "metadata": {},
   "source": [
    "#### Data preprocessing"
   ]
  },
  {
   "cell_type": "code",
   "execution_count": 3,
   "metadata": {},
   "outputs": [
    {
     "data": {
      "application/vnd.jupyter.widget-view+json": {
       "model_id": "79c05e92f95548018923a63ebb1a2660",
       "version_major": 2,
       "version_minor": 0
      },
      "text/plain": [
       "Summarize dataset:   0%|          | 0/5 [00:00<?, ?it/s]"
      ]
     },
     "metadata": {},
     "output_type": "display_data"
    },
    {
     "data": {
      "application/vnd.jupyter.widget-view+json": {
       "model_id": "657117f6f21e4996b345f7b660ea1653",
       "version_major": 2,
       "version_minor": 0
      },
      "text/plain": [
       "Generate report structure:   0%|          | 0/1 [00:00<?, ?it/s]"
      ]
     },
     "metadata": {},
     "output_type": "display_data"
    },
    {
     "data": {
      "application/vnd.jupyter.widget-view+json": {
       "model_id": "d5985468e83d41b9b6685d13d914790b",
       "version_major": 2,
       "version_minor": 0
      },
      "text/plain": [
       "Render HTML:   0%|          | 0/1 [00:00<?, ?it/s]"
      ]
     },
     "metadata": {},
     "output_type": "display_data"
    },
    {
     "data": {
      "application/vnd.jupyter.widget-view+json": {
       "model_id": "adb964a528134dd0a9bdb6b940a7a5f7",
       "version_major": 2,
       "version_minor": 0
      },
      "text/plain": [
       "Export report to file:   0%|          | 0/1 [00:00<?, ?it/s]"
      ]
     },
     "metadata": {},
     "output_type": "display_data"
    }
   ],
   "source": [
    "# Import the necessary module\n",
    "from ydata_profiling import ProfileReport\n",
    "\n",
    "# Create a ProfileReport object\n",
    "report = ProfileReport(df)\n",
    "\n",
    "# Generate the data profiling report\n",
    "report.to_file('data_profiling_report.html')\n"
   ]
  },
  {
   "cell_type": "code",
   "execution_count": 4,
   "metadata": {},
   "outputs": [],
   "source": [
    "# remove column hand\n",
    "df = df.drop(columns=['Hand'])"
   ]
  },
  {
   "cell_type": "code",
   "execution_count": 5,
   "metadata": {},
   "outputs": [
    {
     "data": {
      "text/plain": [
       "5.093833780160858"
      ]
     },
     "execution_count": 5,
     "metadata": {},
     "output_type": "execute_result"
    }
   ],
   "source": [
    "# percentage of null in SES\n",
    "df['SES'].isnull().sum()/len(df['SES']) * 100"
   ]
  },
  {
   "cell_type": "code",
   "execution_count": 6,
   "metadata": {},
   "outputs": [],
   "source": [
    "# impute the null values in SES with the mean\n",
    "df['SES'] = df['SES'].fillna(df['SES'].mean())"
   ]
  },
  {
   "cell_type": "code",
   "execution_count": 7,
   "metadata": {},
   "outputs": [],
   "source": [
    "# drop the null values in MMSE\n",
    "df = df.dropna(subset=['MMSE'])"
   ]
  },
  {
   "cell_type": "code",
   "execution_count": 8,
   "metadata": {},
   "outputs": [
    {
     "data": {
      "text/plain": [
       "Subject ID    0\n",
       "MRI ID        0\n",
       "Group         0\n",
       "Visit         0\n",
       "MR Delay      0\n",
       "M/F           0\n",
       "Age           0\n",
       "EDUC          0\n",
       "SES           0\n",
       "MMSE          0\n",
       "CDR           0\n",
       "eTIV          0\n",
       "nWBV          0\n",
       "ASF           0\n",
       "dtype: int64"
      ]
     },
     "execution_count": 8,
     "metadata": {},
     "output_type": "execute_result"
    }
   ],
   "source": [
    "df.isnull().sum()"
   ]
  },
  {
   "cell_type": "code",
   "execution_count": 9,
   "metadata": {},
   "outputs": [],
   "source": [
    "df = df.drop(columns=['Subject ID', 'MRI ID'])"
   ]
  },
  {
   "cell_type": "code",
   "execution_count": 10,
   "metadata": {},
   "outputs": [
    {
     "data": {
      "text/plain": [
       "(371, 12)"
      ]
     },
     "execution_count": 10,
     "metadata": {},
     "output_type": "execute_result"
    }
   ],
   "source": [
    "df.shape"
   ]
  },
  {
   "cell_type": "code",
   "execution_count": 11,
   "metadata": {},
   "outputs": [],
   "source": [
    "# encode M/F column to 0/1\n",
    "df['M/F'] = df['M/F'].replace({'M': 0, 'F': 1})"
   ]
  },
  {
   "cell_type": "code",
   "execution_count": 12,
   "metadata": {},
   "outputs": [],
   "source": [
    "df['Group'] = df['Group'].replace({'Converted': 0, 'Demented': 1, 'Nondemented': 2})"
   ]
  },
  {
   "cell_type": "code",
   "execution_count": 13,
   "metadata": {},
   "outputs": [],
   "source": [
    "# check all the columns in df and convert all the int columns to float\n",
    "for col in df.columns:\n",
    "    if df[col].dtype == 'int64':\n",
    "        df[col] = df[col].astype('float64')"
   ]
  },
  {
   "cell_type": "code",
   "execution_count": 14,
   "metadata": {},
   "outputs": [
    {
     "name": "stdout",
     "output_type": "stream",
     "text": [
      "<class 'pandas.core.frame.DataFrame'>\n",
      "Int64Index: 371 entries, 0 to 372\n",
      "Data columns (total 12 columns):\n",
      " #   Column    Non-Null Count  Dtype  \n",
      "---  ------    --------------  -----  \n",
      " 0   Group     371 non-null    float64\n",
      " 1   Visit     371 non-null    float64\n",
      " 2   MR Delay  371 non-null    float64\n",
      " 3   M/F       371 non-null    float64\n",
      " 4   Age       371 non-null    float64\n",
      " 5   EDUC      371 non-null    float64\n",
      " 6   SES       371 non-null    float64\n",
      " 7   MMSE      371 non-null    float64\n",
      " 8   CDR       371 non-null    float64\n",
      " 9   eTIV      371 non-null    float64\n",
      " 10  nWBV      371 non-null    float64\n",
      " 11  ASF       371 non-null    float64\n",
      "dtypes: float64(12)\n",
      "memory usage: 37.7 KB\n"
     ]
    }
   ],
   "source": [
    "df.info()"
   ]
  },
  {
   "cell_type": "code",
   "execution_count": 15,
   "metadata": {},
   "outputs": [
    {
     "name": "stdout",
     "output_type": "stream",
     "text": [
      "<class 'pandas.core.frame.DataFrame'>\n",
      "Int64Index: 371 entries, 0 to 372\n",
      "Data columns (total 12 columns):\n",
      " #   Column    Non-Null Count  Dtype  \n",
      "---  ------    --------------  -----  \n",
      " 0   Group     371 non-null    float64\n",
      " 1   Visit     371 non-null    float64\n",
      " 2   MR Delay  371 non-null    float64\n",
      " 3   M/F       371 non-null    float64\n",
      " 4   Age       371 non-null    float64\n",
      " 5   EDUC      371 non-null    float64\n",
      " 6   SES       371 non-null    float64\n",
      " 7   MMSE      371 non-null    float64\n",
      " 8   CDR       371 non-null    float64\n",
      " 9   eTIV      371 non-null    float64\n",
      " 10  nWBV      371 non-null    float64\n",
      " 11  ASF       371 non-null    float64\n",
      "dtypes: float64(12)\n",
      "memory usage: 37.7 KB\n"
     ]
    }
   ],
   "source": [
    "df.info()"
   ]
  },
  {
   "cell_type": "code",
   "execution_count": 16,
   "metadata": {},
   "outputs": [],
   "source": [
    "# split into x and y where y is 'Group' \n",
    "x = df.drop(columns=['Group'])\n",
    "y = df['Group']"
   ]
  },
  {
   "cell_type": "markdown",
   "metadata": {},
   "source": [
    "#### Train Test Split"
   ]
  },
  {
   "cell_type": "code",
   "execution_count": 17,
   "metadata": {},
   "outputs": [],
   "source": [
    "from sklearn.model_selection import train_test_split\n",
    "x_train, x_test, y_train, y_test = train_test_split(x,y, test_size= 0.2, random_state=1, stratify=y)"
   ]
  },
  {
   "cell_type": "markdown",
   "metadata": {},
   "source": [
    "#### Standard Scaler"
   ]
  },
  {
   "cell_type": "code",
   "execution_count": 18,
   "metadata": {},
   "outputs": [],
   "source": [
    "from sklearn.preprocessing import StandardScaler\n",
    "\n",
    "scaler = StandardScaler()\n",
    "x_train_subset = x_train.iloc[:, 2:]\n",
    "x_train_scaled = scaler.fit_transform(x_train_subset)\n",
    "x_train.iloc[:, 2:] = x_train_scaled\n",
    "\n",
    "x_test_subset = x_test.iloc[:, 2:]\n",
    "x_test_scaled = scaler.transform(x_test_subset)\n",
    "x_test.iloc[:, 2:] = x_test_scaled\n"
   ]
  },
  {
   "cell_type": "code",
   "execution_count": 19,
   "metadata": {},
   "outputs": [
    {
     "name": "stdout",
     "output_type": "stream",
     "text": [
      "     Visit  MR Delay       M/F       Age      EDUC       SES      MMSE  \\\n",
      "173    3.0    1435.0  0.903300 -0.526994 -0.880272  1.346597 -3.007930   \n",
      "209    1.0       0.0  0.903300  0.001786 -1.225385  1.346597  0.482575   \n",
      "245    1.0       0.0  0.903300 -1.320165 -0.190046  1.346597  0.751075   \n",
      "138    3.0    1282.0  0.903300  0.662762 -2.260725  2.252461 -2.470929   \n",
      "196    1.0       0.0  0.903300 -2.113336  0.500181 -1.370993  0.751075   \n",
      "..     ...       ...       ...       ...       ...       ...       ...   \n",
      "336    2.0     493.0 -1.107052  0.001786  0.500181  0.440734  0.751075   \n",
      "6      2.0     538.0  0.903300  1.720323  1.190408  0.440734 -0.054426   \n",
      "369    3.0    2297.0 -1.107052  1.191543  0.500181 -1.370993 -0.322926   \n",
      "34     3.0     489.0  0.903300  1.455933 -0.190046 -1.370993  0.482575   \n",
      "260    3.0    1192.0  0.903300  0.001786 -0.880272  0.440734  0.482575   \n",
      "\n",
      "          CDR      eTIV      nWBV       ASF  \n",
      "173  1.857568 -0.076297 -0.872577 -0.036131  \n",
      "209 -0.766967  0.513877  1.291804 -0.611893  \n",
      "245 -0.766967  0.092324  1.746056 -0.208860  \n",
      "138  0.545300 -0.154987 -1.246667  0.043036  \n",
      "196 -0.766967  0.120428  1.131479 -0.237648  \n",
      "..        ...       ...       ...       ...  \n",
      "336 -0.766967  1.845985  1.051317 -1.648264  \n",
      "6   -0.766967 -1.638855 -0.284720  1.935854  \n",
      "369  0.545300  1.104052 -1.433712 -1.101291  \n",
      "34  -0.766967 -0.525954 -0.418324  0.446070  \n",
      "260 -0.766967 -0.829472  0.303136  0.813118  \n",
      "\n",
      "[296 rows x 11 columns]\n",
      "     Visit  MR Delay       M/F       Age      EDUC       SES      MMSE  \\\n",
      "40     2.0    1164.0 -1.107052 -0.130409  1.880634 -1.370993 -0.591427   \n",
      "158    3.0    1705.0  0.903300 -0.262604 -0.190046  0.440734  0.214075   \n",
      "66     1.0       0.0  0.903300  1.455933 -0.880272  1.346597  0.751075   \n",
      "64     3.0    1287.0  0.903300  0.662762  0.500181 -1.370993  0.751075   \n",
      "315    2.0     777.0  0.903300  0.530567  1.190408 -1.370993  0.751075   \n",
      "..     ...       ...       ...       ...       ...       ...       ...   \n",
      "362    2.0     182.0  0.903300 -1.452360 -0.535159 -0.465130  0.751075   \n",
      "10     1.0       0.0 -1.107052 -0.791384  0.500181 -0.048023  0.214075   \n",
      "208    2.0     807.0  0.903300  0.794957 -0.880272 -0.048023 -1.128427   \n",
      "188    3.0     563.0 -1.107052 -0.659189 -0.880272 -0.465130 -0.054426   \n",
      "266    1.0       0.0  0.903300 -0.130409  0.500181 -1.370993  0.214075   \n",
      "\n",
      "          CDR      eTIV      nWBV       ASF  \n",
      "40   0.545300  2.441781  0.196253 -2.029707  \n",
      "158 -0.766967  0.086703  1.425407 -0.208860  \n",
      "66  -0.766967 -0.874438  0.249695  0.863497  \n",
      "64  -0.766967 -0.177470 -0.899298  0.064627  \n",
      "315 -0.766967 -1.324095  0.276415  1.475244  \n",
      "..        ...       ...       ...       ...  \n",
      "362 -0.766967  0.081083  0.303136 -0.201663  \n",
      "10   0.545300 -0.756403  0.516902  0.719556  \n",
      "208  0.545300 -0.042573  0.570343 -0.072116  \n",
      "188  1.857568 -0.334850 -1.193226  0.237356  \n",
      "266 -0.766967 -0.818231  0.890992  0.798724  \n",
      "\n",
      "[75 rows x 11 columns]\n",
      "173    1.0\n",
      "209    2.0\n",
      "245    0.0\n",
      "138    1.0\n",
      "196    2.0\n",
      "      ... \n",
      "336    2.0\n",
      "6      2.0\n",
      "369    1.0\n",
      "34     0.0\n",
      "260    2.0\n",
      "Name: Group, Length: 296, dtype: float64\n",
      "40     1.0\n",
      "158    2.0\n",
      "66     2.0\n",
      "64     2.0\n",
      "315    2.0\n",
      "      ... \n",
      "362    2.0\n",
      "10     1.0\n",
      "208    1.0\n",
      "188    1.0\n",
      "266    2.0\n",
      "Name: Group, Length: 75, dtype: float64\n"
     ]
    }
   ],
   "source": [
    "# print all variables\n",
    "print(x_train)\n",
    "print(x_test)\n",
    "print(y_train)\n",
    "print(y_test)"
   ]
  },
  {
   "cell_type": "markdown",
   "metadata": {},
   "source": [
    "#### Model Training"
   ]
  },
  {
   "cell_type": "markdown",
   "metadata": {},
   "source": [
    "##### Logistic Regression"
   ]
  },
  {
   "cell_type": "code",
   "execution_count": 20,
   "metadata": {},
   "outputs": [
    {
     "name": "stdout",
     "output_type": "stream",
     "text": [
      "Accuracy: 0.91\n",
      "Confusion Matrix:\n",
      "[[ 3  1  4]\n",
      " [ 2 27  0]\n",
      " [ 0  0 38]]\n"
     ]
    },
    {
     "name": "stderr",
     "output_type": "stream",
     "text": [
      "C:\\Users\\Ananya\\AppData\\Roaming\\Python\\Python311\\site-packages\\sklearn\\linear_model\\_logistic.py:460: ConvergenceWarning: lbfgs failed to converge (status=1):\n",
      "STOP: TOTAL NO. of ITERATIONS REACHED LIMIT.\n",
      "\n",
      "Increase the number of iterations (max_iter) or scale the data as shown in:\n",
      "    https://scikit-learn.org/stable/modules/preprocessing.html\n",
      "Please also refer to the documentation for alternative solver options:\n",
      "    https://scikit-learn.org/stable/modules/linear_model.html#logistic-regression\n",
      "  n_iter_i = _check_optimize_result(\n"
     ]
    }
   ],
   "source": [
    "from sklearn.linear_model import LogisticRegression\n",
    "\n",
    "model = LogisticRegression()\n",
    "model.fit(x_train, y_train)\n",
    "predictions = model.predict(x_test)\n",
    "\n",
    "accuracy = accuracy_score(y_test, predictions)\n",
    "print(f\"Accuracy: {accuracy:.2f}\")\n",
    "conf_matrix = confusion_matrix(y_test, predictions)\n",
    "print(\"Confusion Matrix:\")\n",
    "print(conf_matrix)"
   ]
  },
  {
   "cell_type": "markdown",
   "metadata": {},
   "source": [
    "##### Decision Trees"
   ]
  },
  {
   "cell_type": "code",
   "execution_count": 21,
   "metadata": {},
   "outputs": [
    {
     "name": "stdout",
     "output_type": "stream",
     "text": [
      "Accuracy: 0.84\n",
      "Confusion Matrix:\n",
      "[[ 3  2  3]\n",
      " [ 4 24  1]\n",
      " [ 2  0 36]]\n"
     ]
    }
   ],
   "source": [
    "from sklearn.tree import DecisionTreeClassifier\n",
    "model = DecisionTreeClassifier()\n",
    "model.fit(x_train, y_train)\n",
    "predictions = model.predict(x_test)\n",
    "\n",
    "accuracy = accuracy_score(y_test, predictions)\n",
    "print(f\"Accuracy: {accuracy:.2f}\")\n",
    "conf_matrix = confusion_matrix(y_test, predictions)\n",
    "print(\"Confusion Matrix:\")\n",
    "print(conf_matrix)"
   ]
  },
  {
   "cell_type": "markdown",
   "metadata": {},
   "source": [
    "##### Random Forest"
   ]
  },
  {
   "cell_type": "code",
   "execution_count": 22,
   "metadata": {},
   "outputs": [
    {
     "name": "stdout",
     "output_type": "stream",
     "text": [
      "Accuracy: 0.88\n",
      "Confusion Matrix:\n",
      "[[ 1  3  4]\n",
      " [ 2 27  0]\n",
      " [ 0  0 38]]\n"
     ]
    }
   ],
   "source": [
    "from sklearn.ensemble import RandomForestClassifier\n",
    "model = RandomForestClassifier()\n",
    "model.fit(x_train, y_train)\n",
    "predictions = model.predict(x_test)\n",
    "\n",
    "accuracy = accuracy_score(y_test, predictions)\n",
    "print(f\"Accuracy: {accuracy:.2f}\")\n",
    "conf_matrix = confusion_matrix(y_test, predictions)\n",
    "print(\"Confusion Matrix:\")\n",
    "print(conf_matrix)"
   ]
  },
  {
   "cell_type": "markdown",
   "metadata": {},
   "source": [
    "##### SVM - linear kernel"
   ]
  },
  {
   "cell_type": "code",
   "execution_count": 23,
   "metadata": {},
   "outputs": [
    {
     "name": "stdout",
     "output_type": "stream",
     "text": [
      "Accuracy: 0.91\n",
      "Confusion Matrix:\n",
      "[[ 2  2  4]\n",
      " [ 1 28  0]\n",
      " [ 0  0 38]]\n"
     ]
    }
   ],
   "source": [
    "from sklearn.svm import SVC\n",
    "model = SVC(kernel='linear')\n",
    "model.fit(x_train, y_train)\n",
    "predictions = model.predict(x_test)\n",
    "accuracy = accuracy_score(y_test, predictions)\n",
    "print(f\"Accuracy: {accuracy:.2f}\")\n",
    "conf_matrix = confusion_matrix(y_test, predictions)\n",
    "print(\"Confusion Matrix:\")\n",
    "print(conf_matrix)"
   ]
  },
  {
   "cell_type": "markdown",
   "metadata": {},
   "source": [
    "##### SVM - rbf kernel"
   ]
  },
  {
   "cell_type": "code",
   "execution_count": 24,
   "metadata": {},
   "outputs": [
    {
     "name": "stdout",
     "output_type": "stream",
     "text": [
      "Accuracy: 0.91\n",
      "Confusion Matrix:\n",
      "[[ 2  2  4]\n",
      " [ 1 28  0]\n",
      " [ 0  0 38]]\n"
     ]
    }
   ],
   "source": [
    "from sklearn.svm import SVC\n",
    "model = SVC(kernel='linear')\n",
    "model.fit(x_train, y_train)\n",
    "predictions = model.predict(x_test)\n",
    "accuracy = accuracy_score(y_test, predictions)\n",
    "print(f\"Accuracy: {accuracy:.2f}\")\n",
    "conf_matrix = confusion_matrix(y_test, predictions)\n",
    "print(\"Confusion Matrix:\")\n",
    "print(conf_matrix)"
   ]
  },
  {
   "cell_type": "markdown",
   "metadata": {},
   "source": [
    "##### K - NearestNeighbors"
   ]
  },
  {
   "cell_type": "code",
   "execution_count": 25,
   "metadata": {},
   "outputs": [
    {
     "name": "stdout",
     "output_type": "stream",
     "text": [
      "Accuracy: 0.59\n",
      "Confusion Matrix:\n",
      "[[ 0  0  8]\n",
      " [ 4 15 10]\n",
      " [ 3  6 29]]\n"
     ]
    }
   ],
   "source": [
    "from sklearn.neighbors import KNeighborsClassifier\n",
    "model = KNeighborsClassifier()\n",
    "model.fit(x_train, y_train)\n",
    "predictions = model.predict(x_test)\n",
    "accuracy = accuracy_score(y_test, predictions)\n",
    "print(f\"Accuracy: {accuracy:.2f}\")\n",
    "conf_matrix = confusion_matrix(y_test, predictions)\n",
    "print(\"Confusion Matrix:\")\n",
    "print(conf_matrix)"
   ]
  },
  {
   "cell_type": "markdown",
   "metadata": {},
   "source": [
    "##### XGboost"
   ]
  },
  {
   "cell_type": "code",
   "execution_count": 26,
   "metadata": {},
   "outputs": [
    {
     "name": "stdout",
     "output_type": "stream",
     "text": [
      "Accuracy: 0.89\n",
      "Confusion Matrix:\n",
      "[[ 2  3  3]\n",
      " [ 2 27  0]\n",
      " [ 0  0 38]]\n"
     ]
    }
   ],
   "source": [
    "import xgboost as xgb\n",
    "model = xgb.XGBClassifier()\n",
    "model.fit(x_train, y_train)\n",
    "predictions = model.predict(x_test)\n",
    "accuracy = accuracy_score(y_test, predictions)\n",
    "print(f\"Accuracy: {accuracy:.2f}\")\n",
    "conf_matrix = confusion_matrix(y_test, predictions)\n",
    "print(\"Confusion Matrix:\")\n",
    "print(conf_matrix)"
   ]
  },
  {
   "cell_type": "markdown",
   "metadata": {},
   "source": [
    "#### K-Fold"
   ]
  },
  {
   "cell_type": "code",
   "execution_count": 27,
   "metadata": {},
   "outputs": [
    {
     "name": "stdout",
     "output_type": "stream",
     "text": [
      "Cross-validation scores: [0.95       0.88135593 0.83050847 0.91525424 0.94915254]\n",
      "Mean accuracy: 0.9052542372881357\n"
     ]
    }
   ],
   "source": [
    "from sklearn.model_selection import cross_val_score, KFold\n",
    "\n",
    "# Create a KFold cross-validation object\n",
    "kfold = KFold(n_splits=5, shuffle=True, random_state=42)\n",
    "\n",
    "# Replace 'model' with your chosen model (e.g., logistic_regression, svm_classifier, random_forest)\n",
    "scores = cross_val_score(model, x_train, y_train, cv=kfold, scoring='accuracy')\n",
    "\n",
    "# Print cross-validation scores\n",
    "print(\"Cross-validation scores:\", scores)\n",
    "print(\"Mean accuracy:\", scores.mean())"
   ]
  },
  {
   "cell_type": "code",
   "execution_count": 28,
   "metadata": {},
   "outputs": [
    {
     "name": "stdout",
     "output_type": "stream",
     "text": [
      "Cross-validation scores: [0.95348837 0.8372093  0.88095238 0.80952381 0.9047619  0.95238095\n",
      " 0.92857143]\n",
      "Mean accuracy: 0.8952697358012973\n"
     ]
    }
   ],
   "source": [
    "from sklearn.model_selection import cross_val_score, KFold\n",
    "\n",
    "# Create a KFold cross-validation object\n",
    "kfold = KFold(n_splits=7, shuffle=True, random_state=42)\n",
    "\n",
    "# Replace 'model' with your chosen model (e.g., logistic_regression, svm_classifier, random_forest)\n",
    "scores = cross_val_score(model, x_train, y_train, cv=kfold, scoring='accuracy')\n",
    "\n",
    "# Print cross-validation scores\n",
    "print(\"Cross-validation scores:\", scores)\n",
    "print(\"Mean accuracy:\", scores.mean())"
   ]
  },
  {
   "cell_type": "code",
   "execution_count": 29,
   "metadata": {},
   "outputs": [
    {
     "name": "stderr",
     "output_type": "stream",
     "text": [
      "C:\\Users\\Ananya\\AppData\\Roaming\\Python\\Python311\\site-packages\\sklearn\\linear_model\\_logistic.py:460: ConvergenceWarning: lbfgs failed to converge (status=1):\n",
      "STOP: TOTAL NO. of ITERATIONS REACHED LIMIT.\n",
      "\n",
      "Increase the number of iterations (max_iter) or scale the data as shown in:\n",
      "    https://scikit-learn.org/stable/modules/preprocessing.html\n",
      "Please also refer to the documentation for alternative solver options:\n",
      "    https://scikit-learn.org/stable/modules/linear_model.html#logistic-regression\n",
      "  n_iter_i = _check_optimize_result(\n"
     ]
    },
    {
     "data": {
      "text/html": [
       "<style>#sk-container-id-1 {color: black;}#sk-container-id-1 pre{padding: 0;}#sk-container-id-1 div.sk-toggleable {background-color: white;}#sk-container-id-1 label.sk-toggleable__label {cursor: pointer;display: block;width: 100%;margin-bottom: 0;padding: 0.3em;box-sizing: border-box;text-align: center;}#sk-container-id-1 label.sk-toggleable__label-arrow:before {content: \"▸\";float: left;margin-right: 0.25em;color: #696969;}#sk-container-id-1 label.sk-toggleable__label-arrow:hover:before {color: black;}#sk-container-id-1 div.sk-estimator:hover label.sk-toggleable__label-arrow:before {color: black;}#sk-container-id-1 div.sk-toggleable__content {max-height: 0;max-width: 0;overflow: hidden;text-align: left;background-color: #f0f8ff;}#sk-container-id-1 div.sk-toggleable__content pre {margin: 0.2em;color: black;border-radius: 0.25em;background-color: #f0f8ff;}#sk-container-id-1 input.sk-toggleable__control:checked~div.sk-toggleable__content {max-height: 200px;max-width: 100%;overflow: auto;}#sk-container-id-1 input.sk-toggleable__control:checked~label.sk-toggleable__label-arrow:before {content: \"▾\";}#sk-container-id-1 div.sk-estimator input.sk-toggleable__control:checked~label.sk-toggleable__label {background-color: #d4ebff;}#sk-container-id-1 div.sk-label input.sk-toggleable__control:checked~label.sk-toggleable__label {background-color: #d4ebff;}#sk-container-id-1 input.sk-hidden--visually {border: 0;clip: rect(1px 1px 1px 1px);clip: rect(1px, 1px, 1px, 1px);height: 1px;margin: -1px;overflow: hidden;padding: 0;position: absolute;width: 1px;}#sk-container-id-1 div.sk-estimator {font-family: monospace;background-color: #f0f8ff;border: 1px dotted black;border-radius: 0.25em;box-sizing: border-box;margin-bottom: 0.5em;}#sk-container-id-1 div.sk-estimator:hover {background-color: #d4ebff;}#sk-container-id-1 div.sk-parallel-item::after {content: \"\";width: 100%;border-bottom: 1px solid gray;flex-grow: 1;}#sk-container-id-1 div.sk-label:hover label.sk-toggleable__label {background-color: #d4ebff;}#sk-container-id-1 div.sk-serial::before {content: \"\";position: absolute;border-left: 1px solid gray;box-sizing: border-box;top: 0;bottom: 0;left: 50%;z-index: 0;}#sk-container-id-1 div.sk-serial {display: flex;flex-direction: column;align-items: center;background-color: white;padding-right: 0.2em;padding-left: 0.2em;position: relative;}#sk-container-id-1 div.sk-item {position: relative;z-index: 1;}#sk-container-id-1 div.sk-parallel {display: flex;align-items: stretch;justify-content: center;background-color: white;position: relative;}#sk-container-id-1 div.sk-item::before, #sk-container-id-1 div.sk-parallel-item::before {content: \"\";position: absolute;border-left: 1px solid gray;box-sizing: border-box;top: 0;bottom: 0;left: 50%;z-index: -1;}#sk-container-id-1 div.sk-parallel-item {display: flex;flex-direction: column;z-index: 1;position: relative;background-color: white;}#sk-container-id-1 div.sk-parallel-item:first-child::after {align-self: flex-end;width: 50%;}#sk-container-id-1 div.sk-parallel-item:last-child::after {align-self: flex-start;width: 50%;}#sk-container-id-1 div.sk-parallel-item:only-child::after {width: 0;}#sk-container-id-1 div.sk-dashed-wrapped {border: 1px dashed gray;margin: 0 0.4em 0.5em 0.4em;box-sizing: border-box;padding-bottom: 0.4em;background-color: white;}#sk-container-id-1 div.sk-label label {font-family: monospace;font-weight: bold;display: inline-block;line-height: 1.2em;}#sk-container-id-1 div.sk-label-container {text-align: center;}#sk-container-id-1 div.sk-container {/* jupyter's `normalize.less` sets `[hidden] { display: none; }` but bootstrap.min.css set `[hidden] { display: none !important; }` so we also need the `!important` here to be able to override the default hidden behavior on the sphinx rendered scikit-learn.org. See: https://github.com/scikit-learn/scikit-learn/issues/21755 */display: inline-block !important;position: relative;}#sk-container-id-1 div.sk-text-repr-fallback {display: none;}</style><div id=\"sk-container-id-1\" class=\"sk-top-container\"><div class=\"sk-text-repr-fallback\"><pre>LogisticRegression()</pre><b>In a Jupyter environment, please rerun this cell to show the HTML representation or trust the notebook. <br />On GitHub, the HTML representation is unable to render, please try loading this page with nbviewer.org.</b></div><div class=\"sk-container\" hidden><div class=\"sk-item\"><div class=\"sk-estimator sk-toggleable\"><input class=\"sk-toggleable__control sk-hidden--visually\" id=\"sk-estimator-id-1\" type=\"checkbox\" checked><label for=\"sk-estimator-id-1\" class=\"sk-toggleable__label sk-toggleable__label-arrow\">LogisticRegression</label><div class=\"sk-toggleable__content\"><pre>LogisticRegression()</pre></div></div></div></div></div>"
      ],
      "text/plain": [
       "LogisticRegression()"
      ]
     },
     "execution_count": 29,
     "metadata": {},
     "output_type": "execute_result"
    }
   ],
   "source": [
    "from sklearn.linear_model import LogisticRegression\n",
    "\n",
    "# Instantiate the model with regularization\n",
    "logistic_regression_l1 = LogisticRegression(penalty='l1', solver='liblinear', C=1.0)\n",
    "logistic_regression_l2 = LogisticRegression(penalty='l2', solver='lbfgs', C=1.0)\n",
    "\n",
    "# Fit the models to your data\n",
    "logistic_regression_l1.fit(x_train, y_train)\n",
    "logistic_regression_l2.fit(x_train, y_train)"
   ]
  },
  {
   "cell_type": "code",
   "execution_count": 30,
   "metadata": {},
   "outputs": [
    {
     "name": "stdout",
     "output_type": "stream",
     "text": [
      "L1 accuracy: 0.9066666666666666\n",
      "L2 accuracy: 0.9066666666666666\n"
     ]
    }
   ],
   "source": [
    "# print accuracy\n",
    "print(\"L1 accuracy:\", logistic_regression_l1.score(x_test, y_test))\n",
    "print(\"L2 accuracy:\", logistic_regression_l2.score(x_test, y_test))"
   ]
  },
  {
   "cell_type": "markdown",
   "metadata": {},
   "source": [
    "##### Validation and learning curves:"
   ]
  },
  {
   "cell_type": "code",
   "execution_count": null,
   "metadata": {},
   "outputs": [],
   "source": [
    "from sklearn.model_selection import validation_curve, learning_curve\n",
    "import matplotlib.pyplot as plt\n",
    "\n",
    "# Define hyperparameter values to be tested\n",
    "param_range = [0.001, 0.01, 0.1, 1, 10]\n",
    "\n",
    "# Validation Curve for SVM\n",
    "train_scores, test_scores = validation_curve(\n",
    "    SVC(kernel='linear'), x_train, y_train, param_name=\"C\", param_range=param_range, cv=5, scoring=\"accuracy\"\n",
    ")\n",
    "\n",
    "# Plot Validation Curve\n",
    "plt.figure(figsize=(10, 6))\n",
    "plt.title(\"Validation Curve for SVM (Linear Kernel)\")\n",
    "plt.xlabel(\"C (Regularization Parameter)\")\n",
    "plt.ylabel(\"Accuracy\")\n",
    "plt.semilogx(param_range, np.mean(train_scores, axis=1), label=\"Training Accuracy\")\n",
    "plt.semilogx(param_range, np.mean(test_scores, axis=1), label=\"Validation Accuracy\")\n",
    "plt.legend(loc=\"best\")\n",
    "plt.grid()\n",
    "plt.show()\n"
   ]
  }
 ],
 "metadata": {
  "kernelspec": {
   "display_name": "Python 3",
   "language": "python",
   "name": "python3"
  },
  "language_info": {
   "codemirror_mode": {
    "name": "ipython",
    "version": 3
   },
   "file_extension": ".py",
   "mimetype": "text/x-python",
   "name": "python",
   "nbconvert_exporter": "python",
   "pygments_lexer": "ipython3",
   "version": "3.11.2"
  },
  "orig_nbformat": 4
 },
 "nbformat": 4,
 "nbformat_minor": 2
}
