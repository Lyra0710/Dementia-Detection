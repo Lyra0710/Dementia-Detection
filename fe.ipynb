{
 "cells": [
  {
   "cell_type": "code",
   "execution_count": 1,
   "metadata": {},
   "outputs": [],
   "source": [
    "import pandas as pd"
   ]
  },
  {
   "cell_type": "code",
   "execution_count": 2,
   "metadata": {},
   "outputs": [],
   "source": [
    "df = pd.read_csv('dementia_dataset (374 records, needs cleaning).csv')"
   ]
  },
  {
   "cell_type": "markdown",
   "metadata": {},
   "source": [
    "#### Data preprocessing"
   ]
  },
  {
   "cell_type": "code",
   "execution_count": 3,
   "metadata": {},
   "outputs": [
    {
     "data": {
      "application/vnd.jupyter.widget-view+json": {
       "model_id": "ba76478bd8da461d8eac42816fecce73",
       "version_major": 2,
       "version_minor": 0
      },
      "text/plain": [
       "Summarize dataset:   0%|          | 0/5 [00:00<?, ?it/s]"
      ]
     },
     "metadata": {},
     "output_type": "display_data"
    },
    {
     "data": {
      "application/vnd.jupyter.widget-view+json": {
       "model_id": "0ad419a4480649b3b3001703e44c7f2a",
       "version_major": 2,
       "version_minor": 0
      },
      "text/plain": [
       "Generate report structure:   0%|          | 0/1 [00:00<?, ?it/s]"
      ]
     },
     "metadata": {},
     "output_type": "display_data"
    },
    {
     "data": {
      "application/vnd.jupyter.widget-view+json": {
       "model_id": "ca8881145edd4ec497bb1b0bdaad8db0",
       "version_major": 2,
       "version_minor": 0
      },
      "text/plain": [
       "Render HTML:   0%|          | 0/1 [00:00<?, ?it/s]"
      ]
     },
     "metadata": {},
     "output_type": "display_data"
    },
    {
     "data": {
      "application/vnd.jupyter.widget-view+json": {
       "model_id": "338979ec028142bba8dbd267ffd89178",
       "version_major": 2,
       "version_minor": 0
      },
      "text/plain": [
       "Export report to file:   0%|          | 0/1 [00:00<?, ?it/s]"
      ]
     },
     "metadata": {},
     "output_type": "display_data"
    }
   ],
   "source": [
    "# Import the necessary module\n",
    "from ydata_profiling import ProfileReport\n",
    "\n",
    "# Create a ProfileReport object\n",
    "report = ProfileReport(df)\n",
    "\n",
    "# Generate the data profiling report\n",
    "report.to_file('data_profiling_report.html')\n"
   ]
  },
  {
   "cell_type": "code",
   "execution_count": 5,
   "metadata": {},
   "outputs": [],
   "source": [
    "# remove column hand\n",
    "df = df.drop(columns=['Hand'])"
   ]
  },
  {
   "cell_type": "code",
   "execution_count": 9,
   "metadata": {},
   "outputs": [
    {
     "data": {
      "text/plain": [
       "5.093833780160858"
      ]
     },
     "execution_count": 9,
     "metadata": {},
     "output_type": "execute_result"
    }
   ],
   "source": [
    "# percentage of null in SES\n",
    "df['SES'].isnull().sum()/len(df['SES']) * 100"
   ]
  },
  {
   "cell_type": "code",
   "execution_count": 10,
   "metadata": {},
   "outputs": [],
   "source": [
    "# impute the null values in SES with the mean\n",
    "df['SES'] = df['SES'].fillna(df['SES'].mean())"
   ]
  },
  {
   "cell_type": "code",
   "execution_count": 12,
   "metadata": {},
   "outputs": [],
   "source": [
    "# drop the null values in MMSE\n",
    "df = df.dropna(subset=['MMSE'])"
   ]
  },
  {
   "cell_type": "code",
   "execution_count": 13,
   "metadata": {},
   "outputs": [
    {
     "data": {
      "text/plain": [
       "Subject ID    0\n",
       "MRI ID        0\n",
       "Group         0\n",
       "Visit         0\n",
       "MR Delay      0\n",
       "M/F           0\n",
       "Age           0\n",
       "EDUC          0\n",
       "SES           0\n",
       "MMSE          0\n",
       "CDR           0\n",
       "eTIV          0\n",
       "nWBV          0\n",
       "ASF           0\n",
       "dtype: int64"
      ]
     },
     "execution_count": 13,
     "metadata": {},
     "output_type": "execute_result"
    }
   ],
   "source": [
    "df.isnull().sum()"
   ]
  },
  {
   "cell_type": "code",
   "execution_count": 15,
   "metadata": {},
   "outputs": [
    {
     "data": {
      "text/plain": [
       "(371, 14)"
      ]
     },
     "execution_count": 15,
     "metadata": {},
     "output_type": "execute_result"
    }
   ],
   "source": [
    "df.shape"
   ]
  },
  {
   "cell_type": "code",
   "execution_count": 19,
   "metadata": {},
   "outputs": [],
   "source": [
    "# encode M/F column to 0/1\n",
    "df['M/F'] = df['M/F'].replace({'M': 0, 'F': 1})"
   ]
  },
  {
   "cell_type": "code",
   "execution_count": 21,
   "metadata": {},
   "outputs": [],
   "source": [
    "# check all the columns in df and convert all the int columns to float\n",
    "for col in df.columns:\n",
    "    if df[col].dtype == 'int64':\n",
    "        df[col] = df[col].astype('float64')"
   ]
  },
  {
   "cell_type": "code",
   "execution_count": 23,
   "metadata": {},
   "outputs": [
    {
     "name": "stdout",
     "output_type": "stream",
     "text": [
      "<class 'pandas.core.frame.DataFrame'>\n",
      "Int64Index: 371 entries, 0 to 372\n",
      "Data columns (total 14 columns):\n",
      " #   Column      Non-Null Count  Dtype  \n",
      "---  ------      --------------  -----  \n",
      " 0   Subject ID  371 non-null    object \n",
      " 1   MRI ID      371 non-null    object \n",
      " 2   Group       371 non-null    object \n",
      " 3   Visit       371 non-null    float64\n",
      " 4   MR Delay    371 non-null    float64\n",
      " 5   M/F         371 non-null    float64\n",
      " 6   Age         371 non-null    float64\n",
      " 7   EDUC        371 non-null    float64\n",
      " 8   SES         371 non-null    float64\n",
      " 9   MMSE        371 non-null    float64\n",
      " 10  CDR         371 non-null    float64\n",
      " 11  eTIV        371 non-null    float64\n",
      " 12  nWBV        371 non-null    float64\n",
      " 13  ASF         371 non-null    float64\n",
      "dtypes: float64(11), object(3)\n",
      "memory usage: 43.5+ KB\n"
     ]
    }
   ],
   "source": [
    "df.info()"
   ]
  },
  {
   "cell_type": "code",
   "execution_count": 24,
   "metadata": {},
   "outputs": [],
   "source": [
    "df = df.drop(columns=['Subject ID', 'MRI ID'])"
   ]
  },
  {
   "cell_type": "code",
   "execution_count": 25,
   "metadata": {},
   "outputs": [
    {
     "name": "stdout",
     "output_type": "stream",
     "text": [
      "<class 'pandas.core.frame.DataFrame'>\n",
      "Int64Index: 371 entries, 0 to 372\n",
      "Data columns (total 12 columns):\n",
      " #   Column    Non-Null Count  Dtype  \n",
      "---  ------    --------------  -----  \n",
      " 0   Group     371 non-null    object \n",
      " 1   Visit     371 non-null    float64\n",
      " 2   MR Delay  371 non-null    float64\n",
      " 3   M/F       371 non-null    float64\n",
      " 4   Age       371 non-null    float64\n",
      " 5   EDUC      371 non-null    float64\n",
      " 6   SES       371 non-null    float64\n",
      " 7   MMSE      371 non-null    float64\n",
      " 8   CDR       371 non-null    float64\n",
      " 9   eTIV      371 non-null    float64\n",
      " 10  nWBV      371 non-null    float64\n",
      " 11  ASF       371 non-null    float64\n",
      "dtypes: float64(11), object(1)\n",
      "memory usage: 37.7+ KB\n"
     ]
    }
   ],
   "source": [
    "df.info()"
   ]
  }
 ],
 "metadata": {
  "kernelspec": {
   "display_name": "Python 3",
   "language": "python",
   "name": "python3"
  },
  "language_info": {
   "codemirror_mode": {
    "name": "ipython",
    "version": 3
   },
   "file_extension": ".py",
   "mimetype": "text/x-python",
   "name": "python",
   "nbconvert_exporter": "python",
   "pygments_lexer": "ipython3",
   "version": "3.11.2"
  },
  "orig_nbformat": 4
 },
 "nbformat": 4,
 "nbformat_minor": 2
}
