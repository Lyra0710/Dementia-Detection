{
 "cells": [
  {
   "cell_type": "markdown",
   "metadata": {},
   "source": [
    "### UDsb1 Physical Eval"
   ]
  },
  {
   "cell_type": "markdown",
   "metadata": {},
   "source": [
    "#### Preprocessing"
   ]
  },
  {
   "cell_type": "code",
   "execution_count": 1,
   "metadata": {},
   "outputs": [],
   "source": [
    "import pandas as pd\n",
    "import numpy as np"
   ]
  },
  {
   "cell_type": "code",
   "execution_count": 2,
   "metadata": {},
   "outputs": [],
   "source": [
    "df = pd.read_csv(\"OASIS3_UDSb1_physical_eval.csv\")"
   ]
  },
  {
   "cell_type": "code",
   "execution_count": 3,
   "metadata": {},
   "outputs": [],
   "source": [
    "# # Import the necessary module\n",
    "# from ydata_profiling import ProfileReport\n",
    "\n",
    "# # Create a ProfileReport object\n",
    "# report = ProfileReport(df)\n",
    "\n",
    "# # Generate the data profiling report\n",
    "# report.to_file('oasis_3_report.html')"
   ]
  },
  {
   "cell_type": "code",
   "execution_count": 4,
   "metadata": {},
   "outputs": [
    {
     "data": {
      "text/plain": [
       "OASISID                   0\n",
       "OASIS_session_label       0\n",
       "days_to_visit             0\n",
       "age at visit              0\n",
       "WEIGHT                 1003\n",
       "HEIGHT                 1763\n",
       "BPSYS                  1027\n",
       "BPDIAS                 1034\n",
       "HRATE                  1859\n",
       "VISION                 1848\n",
       "VISCORR                1850\n",
       "VISWCORR               3159\n",
       "HEARING                1849\n",
       "HEARAID                1858\n",
       "HEARWAID               7442\n",
       "dtype: int64"
      ]
     },
     "execution_count": 4,
     "metadata": {},
     "output_type": "execute_result"
    }
   ],
   "source": [
    "df.isnull().sum()"
   ]
  },
  {
   "cell_type": "code",
   "execution_count": 5,
   "metadata": {},
   "outputs": [
    {
     "data": {
      "text/plain": [
       "(8626, 15)"
      ]
     },
     "execution_count": 5,
     "metadata": {},
     "output_type": "execute_result"
    }
   ],
   "source": [
    "df.shape"
   ]
  },
  {
   "cell_type": "code",
   "execution_count": 6,
   "metadata": {},
   "outputs": [],
   "source": [
    "df.drop('HEARWAID', axis=1, inplace=True)"
   ]
  },
  {
   "cell_type": "code",
   "execution_count": 7,
   "metadata": {},
   "outputs": [
    {
     "name": "stderr",
     "output_type": "stream",
     "text": [
      "C:\\Users\\Ananya\\AppData\\Local\\Temp\\ipykernel_26416\\3216825617.py:2: FutureWarning: The default value of numeric_only in DataFrame.mean is deprecated. In a future version, it will default to False. In addition, specifying 'numeric_only=None' is deprecated. Select only valid columns or specify the value of numeric_only to silence this warning.\n",
      "  df.fillna(df.mean(), inplace=True)\n"
     ]
    }
   ],
   "source": [
    "# impute the missing values to the mean of the column\n",
    "df.fillna(df.mean(), inplace=True)"
   ]
  },
  {
   "cell_type": "code",
   "execution_count": 8,
   "metadata": {},
   "outputs": [
    {
     "data": {
      "text/plain": [
       "OASISID                0\n",
       "OASIS_session_label    0\n",
       "days_to_visit          0\n",
       "age at visit           0\n",
       "WEIGHT                 0\n",
       "HEIGHT                 0\n",
       "BPSYS                  0\n",
       "BPDIAS                 0\n",
       "HRATE                  0\n",
       "VISION                 0\n",
       "VISCORR                0\n",
       "VISWCORR               0\n",
       "HEARING                0\n",
       "HEARAID                0\n",
       "dtype: int64"
      ]
     },
     "execution_count": 8,
     "metadata": {},
     "output_type": "execute_result"
    }
   ],
   "source": [
    "df.isnull().sum()"
   ]
  },
  {
   "cell_type": "code",
   "execution_count": 9,
   "metadata": {},
   "outputs": [
    {
     "name": "stdout",
     "output_type": "stream",
     "text": [
      "<class 'pandas.core.frame.DataFrame'>\n",
      "RangeIndex: 8626 entries, 0 to 8625\n",
      "Data columns (total 14 columns):\n",
      " #   Column               Non-Null Count  Dtype  \n",
      "---  ------               --------------  -----  \n",
      " 0   OASISID              8626 non-null   object \n",
      " 1   OASIS_session_label  8626 non-null   object \n",
      " 2   days_to_visit        8626 non-null   int64  \n",
      " 3   age at visit         8626 non-null   float64\n",
      " 4   WEIGHT               8626 non-null   float64\n",
      " 5   HEIGHT               8626 non-null   float64\n",
      " 6   BPSYS                8626 non-null   float64\n",
      " 7   BPDIAS               8626 non-null   float64\n",
      " 8   HRATE                8626 non-null   float64\n",
      " 9   VISION               8626 non-null   float64\n",
      " 10  VISCORR              8626 non-null   float64\n",
      " 11  VISWCORR             8626 non-null   float64\n",
      " 12  HEARING              8626 non-null   float64\n",
      " 13  HEARAID              8626 non-null   float64\n",
      "dtypes: float64(11), int64(1), object(2)\n",
      "memory usage: 943.6+ KB\n"
     ]
    }
   ],
   "source": [
    "df.info()"
   ]
  },
  {
   "cell_type": "code",
   "execution_count": 10,
   "metadata": {},
   "outputs": [],
   "source": [
    "# convert days_to_visit to float\n",
    "df['days_to_visit'] = df['days_to_visit'].astype(float)"
   ]
  },
  {
   "cell_type": "code",
   "execution_count": 11,
   "metadata": {},
   "outputs": [
    {
     "name": "stdout",
     "output_type": "stream",
     "text": [
      "<class 'pandas.core.frame.DataFrame'>\n",
      "RangeIndex: 8626 entries, 0 to 8625\n",
      "Data columns (total 14 columns):\n",
      " #   Column               Non-Null Count  Dtype  \n",
      "---  ------               --------------  -----  \n",
      " 0   OASISID              8626 non-null   object \n",
      " 1   OASIS_session_label  8626 non-null   object \n",
      " 2   days_to_visit        8626 non-null   float64\n",
      " 3   age at visit         8626 non-null   float64\n",
      " 4   WEIGHT               8626 non-null   float64\n",
      " 5   HEIGHT               8626 non-null   float64\n",
      " 6   BPSYS                8626 non-null   float64\n",
      " 7   BPDIAS               8626 non-null   float64\n",
      " 8   HRATE                8626 non-null   float64\n",
      " 9   VISION               8626 non-null   float64\n",
      " 10  VISCORR              8626 non-null   float64\n",
      " 11  VISWCORR             8626 non-null   float64\n",
      " 12  HEARING              8626 non-null   float64\n",
      " 13  HEARAID              8626 non-null   float64\n",
      "dtypes: float64(12), object(2)\n",
      "memory usage: 943.6+ KB\n"
     ]
    }
   ],
   "source": [
    "df.info()"
   ]
  },
  {
   "cell_type": "markdown",
   "metadata": {},
   "source": [
    "### Taking dx1 column from b4"
   ]
  },
  {
   "cell_type": "markdown",
   "metadata": {},
   "source": [
    "#### Preprocessing"
   ]
  },
  {
   "cell_type": "code",
   "execution_count": 12,
   "metadata": {},
   "outputs": [],
   "source": [
    "df2 = pd.read_csv(\"OASIS3_UDSb4_cdr.csv\")"
   ]
  },
  {
   "cell_type": "code",
   "execution_count": 13,
   "metadata": {},
   "outputs": [
    {
     "data": {
      "text/plain": [
       "(8626, 23)"
      ]
     },
     "execution_count": 13,
     "metadata": {},
     "output_type": "execute_result"
    }
   ],
   "source": [
    "df2.shape"
   ]
  },
  {
   "cell_type": "markdown",
   "metadata": {},
   "source": [
    "##### Checking Skewness"
   ]
  },
  {
   "cell_type": "code",
   "execution_count": 14,
   "metadata": {},
   "outputs": [],
   "source": [
    "# %matplotlib inline\n",
    "\n",
    "# import matplotlib.pyplot as plt\n",
    "\n",
    "# # Your plotting code here\n",
    "\n",
    "# plt.show()  # Display the plot in the Jupyter Notebook output\n"
   ]
  },
  {
   "cell_type": "code",
   "execution_count": 15,
   "metadata": {},
   "outputs": [],
   "source": [
    "# create a new dataframe with only the columns we need\n",
    "df2 = df2[['OASIS_session_label', 'dx1']]\n"
   ]
  },
  {
   "cell_type": "code",
   "execution_count": 16,
   "metadata": {},
   "outputs": [
    {
     "name": "stdout",
     "output_type": "stream",
     "text": [
      "<class 'pandas.core.frame.DataFrame'>\n",
      "RangeIndex: 8626 entries, 0 to 8625\n",
      "Data columns (total 2 columns):\n",
      " #   Column               Non-Null Count  Dtype \n",
      "---  ------               --------------  ----- \n",
      " 0   OASIS_session_label  8626 non-null   object\n",
      " 1   dx1                  8625 non-null   object\n",
      "dtypes: object(2)\n",
      "memory usage: 134.9+ KB\n"
     ]
    }
   ],
   "source": [
    "df2.info()"
   ]
  },
  {
   "cell_type": "code",
   "execution_count": 17,
   "metadata": {},
   "outputs": [
    {
     "data": {
      "text/html": [
       "<div>\n",
       "<style scoped>\n",
       "    .dataframe tbody tr th:only-of-type {\n",
       "        vertical-align: middle;\n",
       "    }\n",
       "\n",
       "    .dataframe tbody tr th {\n",
       "        vertical-align: top;\n",
       "    }\n",
       "\n",
       "    .dataframe thead th {\n",
       "        text-align: right;\n",
       "    }\n",
       "</style>\n",
       "<table border=\"1\" class=\"dataframe\">\n",
       "  <thead>\n",
       "    <tr style=\"text-align: right;\">\n",
       "      <th></th>\n",
       "      <th>OASIS_session_label</th>\n",
       "      <th>dx1</th>\n",
       "    </tr>\n",
       "  </thead>\n",
       "  <tbody>\n",
       "    <tr>\n",
       "      <th>0</th>\n",
       "      <td>OAS30001_UDSb4_d0000</td>\n",
       "      <td>Cognitively normal</td>\n",
       "    </tr>\n",
       "    <tr>\n",
       "      <th>1</th>\n",
       "      <td>OAS30001_UDSb4_d0339</td>\n",
       "      <td>Cognitively normal</td>\n",
       "    </tr>\n",
       "    <tr>\n",
       "      <th>2</th>\n",
       "      <td>OAS30001_UDSb4_d0722</td>\n",
       "      <td>Cognitively normal</td>\n",
       "    </tr>\n",
       "    <tr>\n",
       "      <th>3</th>\n",
       "      <td>OAS30001_UDSb4_d1106</td>\n",
       "      <td>Cognitively normal</td>\n",
       "    </tr>\n",
       "    <tr>\n",
       "      <th>4</th>\n",
       "      <td>OAS30001_UDSb4_d1456</td>\n",
       "      <td>Cognitively normal</td>\n",
       "    </tr>\n",
       "  </tbody>\n",
       "</table>\n",
       "</div>"
      ],
      "text/plain": [
       "    OASIS_session_label                 dx1\n",
       "0  OAS30001_UDSb4_d0000  Cognitively normal\n",
       "1  OAS30001_UDSb4_d0339  Cognitively normal\n",
       "2  OAS30001_UDSb4_d0722  Cognitively normal\n",
       "3  OAS30001_UDSb4_d1106  Cognitively normal\n",
       "4  OAS30001_UDSb4_d1456  Cognitively normal"
      ]
     },
     "execution_count": 17,
     "metadata": {},
     "output_type": "execute_result"
    }
   ],
   "source": [
    "df2.head()"
   ]
  },
  {
   "cell_type": "code",
   "execution_count": 18,
   "metadata": {},
   "outputs": [
    {
     "data": {
      "text/html": [
       "<div>\n",
       "<style scoped>\n",
       "    .dataframe tbody tr th:only-of-type {\n",
       "        vertical-align: middle;\n",
       "    }\n",
       "\n",
       "    .dataframe tbody tr th {\n",
       "        vertical-align: top;\n",
       "    }\n",
       "\n",
       "    .dataframe thead th {\n",
       "        text-align: right;\n",
       "    }\n",
       "</style>\n",
       "<table border=\"1\" class=\"dataframe\">\n",
       "  <thead>\n",
       "    <tr style=\"text-align: right;\">\n",
       "      <th></th>\n",
       "      <th>OASISID</th>\n",
       "      <th>OASIS_session_label</th>\n",
       "      <th>days_to_visit</th>\n",
       "      <th>age at visit</th>\n",
       "      <th>WEIGHT</th>\n",
       "      <th>HEIGHT</th>\n",
       "      <th>BPSYS</th>\n",
       "      <th>BPDIAS</th>\n",
       "      <th>HRATE</th>\n",
       "      <th>VISION</th>\n",
       "      <th>VISCORR</th>\n",
       "      <th>VISWCORR</th>\n",
       "      <th>HEARING</th>\n",
       "      <th>HEARAID</th>\n",
       "    </tr>\n",
       "  </thead>\n",
       "  <tbody>\n",
       "    <tr>\n",
       "      <th>0</th>\n",
       "      <td>OAS30001</td>\n",
       "      <td>OAS30001_UDSb1_d0000</td>\n",
       "      <td>0.0</td>\n",
       "      <td>65.19</td>\n",
       "      <td>999.0</td>\n",
       "      <td>999.0</td>\n",
       "      <td>138.0</td>\n",
       "      <td>70.0</td>\n",
       "      <td>72.0</td>\n",
       "      <td>1.0</td>\n",
       "      <td>1.0</td>\n",
       "      <td>1.0</td>\n",
       "      <td>1.0</td>\n",
       "      <td>0.0</td>\n",
       "    </tr>\n",
       "    <tr>\n",
       "      <th>1</th>\n",
       "      <td>OAS30001</td>\n",
       "      <td>OAS30001_UDSb1_d0339</td>\n",
       "      <td>339.0</td>\n",
       "      <td>66.12</td>\n",
       "      <td>155.0</td>\n",
       "      <td>64.0</td>\n",
       "      <td>138.0</td>\n",
       "      <td>72.0</td>\n",
       "      <td>78.0</td>\n",
       "      <td>0.0</td>\n",
       "      <td>1.0</td>\n",
       "      <td>1.0</td>\n",
       "      <td>1.0</td>\n",
       "      <td>0.0</td>\n",
       "    </tr>\n",
       "    <tr>\n",
       "      <th>2</th>\n",
       "      <td>OAS30001</td>\n",
       "      <td>OAS30001_UDSb1_d0722</td>\n",
       "      <td>722.0</td>\n",
       "      <td>67.17</td>\n",
       "      <td>162.0</td>\n",
       "      <td>64.0</td>\n",
       "      <td>144.0</td>\n",
       "      <td>80.0</td>\n",
       "      <td>60.0</td>\n",
       "      <td>0.0</td>\n",
       "      <td>1.0</td>\n",
       "      <td>1.0</td>\n",
       "      <td>1.0</td>\n",
       "      <td>0.0</td>\n",
       "    </tr>\n",
       "    <tr>\n",
       "      <th>3</th>\n",
       "      <td>OAS30001</td>\n",
       "      <td>OAS30001_UDSb1_d1106</td>\n",
       "      <td>1106.0</td>\n",
       "      <td>68.22</td>\n",
       "      <td>167.0</td>\n",
       "      <td>63.5</td>\n",
       "      <td>130.0</td>\n",
       "      <td>82.0</td>\n",
       "      <td>68.0</td>\n",
       "      <td>0.0</td>\n",
       "      <td>1.0</td>\n",
       "      <td>1.0</td>\n",
       "      <td>1.0</td>\n",
       "      <td>0.0</td>\n",
       "    </tr>\n",
       "    <tr>\n",
       "      <th>4</th>\n",
       "      <td>OAS30001</td>\n",
       "      <td>OAS30001_UDSb1_d1456</td>\n",
       "      <td>1456.0</td>\n",
       "      <td>69.18</td>\n",
       "      <td>173.0</td>\n",
       "      <td>63.5</td>\n",
       "      <td>142.0</td>\n",
       "      <td>70.0</td>\n",
       "      <td>72.0</td>\n",
       "      <td>1.0</td>\n",
       "      <td>1.0</td>\n",
       "      <td>1.0</td>\n",
       "      <td>1.0</td>\n",
       "      <td>0.0</td>\n",
       "    </tr>\n",
       "  </tbody>\n",
       "</table>\n",
       "</div>"
      ],
      "text/plain": [
       "    OASISID   OASIS_session_label  days_to_visit  age at visit  WEIGHT  \\\n",
       "0  OAS30001  OAS30001_UDSb1_d0000            0.0         65.19   999.0   \n",
       "1  OAS30001  OAS30001_UDSb1_d0339          339.0         66.12   155.0   \n",
       "2  OAS30001  OAS30001_UDSb1_d0722          722.0         67.17   162.0   \n",
       "3  OAS30001  OAS30001_UDSb1_d1106         1106.0         68.22   167.0   \n",
       "4  OAS30001  OAS30001_UDSb1_d1456         1456.0         69.18   173.0   \n",
       "\n",
       "   HEIGHT  BPSYS  BPDIAS  HRATE  VISION  VISCORR  VISWCORR  HEARING  HEARAID  \n",
       "0   999.0  138.0    70.0   72.0     1.0      1.0       1.0      1.0      0.0  \n",
       "1    64.0  138.0    72.0   78.0     0.0      1.0       1.0      1.0      0.0  \n",
       "2    64.0  144.0    80.0   60.0     0.0      1.0       1.0      1.0      0.0  \n",
       "3    63.5  130.0    82.0   68.0     0.0      1.0       1.0      1.0      0.0  \n",
       "4    63.5  142.0    70.0   72.0     1.0      1.0       1.0      1.0      0.0  "
      ]
     },
     "execution_count": 18,
     "metadata": {},
     "output_type": "execute_result"
    }
   ],
   "source": [
    "df.head()"
   ]
  },
  {
   "cell_type": "markdown",
   "metadata": {},
   "source": [
    "##### Merging"
   ]
  },
  {
   "cell_type": "code",
   "execution_count": 19,
   "metadata": {},
   "outputs": [],
   "source": [
    "# merge the two dataframes, df and df2, on OASIS_session_label based on the first 8 characters and last 5 characters\n",
    "# Extract the first 8 characters and last 5 characters from 'OASIS_session_label' in both dataframes\n",
    "df['OASIS_session_label_first8'] = df['OASIS_session_label'].str[:8]\n",
    "df['OASIS_session_label_last5'] = df['OASIS_session_label'].str[-5:]\n",
    "df2['OASIS_session_label_first8'] = df2['OASIS_session_label'].str[:8]\n",
    "df2['OASIS_session_label_last5'] = df2['OASIS_session_label'].str[-5:]\n",
    "\n",
    "# Merge the dataframes based on the first 8 and last 5 characters\n",
    "df_final = df.merge(df2, on=['OASIS_session_label_first8', 'OASIS_session_label_last5'], how='inner')\n",
    "\n",
    "# Drop the temporary columns if needed\n",
    "df_final.drop(['OASIS_session_label_first8', 'OASIS_session_label_last5'], axis=1, inplace=True)"
   ]
  },
  {
   "cell_type": "code",
   "execution_count": 20,
   "metadata": {},
   "outputs": [
    {
     "name": "stdout",
     "output_type": "stream",
     "text": [
      "<class 'pandas.core.frame.DataFrame'>\n",
      "Int64Index: 8602 entries, 0 to 8601\n",
      "Data columns (total 16 columns):\n",
      " #   Column                 Non-Null Count  Dtype  \n",
      "---  ------                 --------------  -----  \n",
      " 0   OASISID                8602 non-null   object \n",
      " 1   OASIS_session_label_x  8602 non-null   object \n",
      " 2   days_to_visit          8602 non-null   float64\n",
      " 3   age at visit           8602 non-null   float64\n",
      " 4   WEIGHT                 8602 non-null   float64\n",
      " 5   HEIGHT                 8602 non-null   float64\n",
      " 6   BPSYS                  8602 non-null   float64\n",
      " 7   BPDIAS                 8602 non-null   float64\n",
      " 8   HRATE                  8602 non-null   float64\n",
      " 9   VISION                 8602 non-null   float64\n",
      " 10  VISCORR                8602 non-null   float64\n",
      " 11  VISWCORR               8602 non-null   float64\n",
      " 12  HEARING                8602 non-null   float64\n",
      " 13  HEARAID                8602 non-null   float64\n",
      " 14  OASIS_session_label_y  8602 non-null   object \n",
      " 15  dx1                    8601 non-null   object \n",
      "dtypes: float64(12), object(4)\n",
      "memory usage: 1.1+ MB\n"
     ]
    }
   ],
   "source": [
    "df_final.info()"
   ]
  },
  {
   "cell_type": "code",
   "execution_count": 21,
   "metadata": {},
   "outputs": [
    {
     "data": {
      "text/html": [
       "<div>\n",
       "<style scoped>\n",
       "    .dataframe tbody tr th:only-of-type {\n",
       "        vertical-align: middle;\n",
       "    }\n",
       "\n",
       "    .dataframe tbody tr th {\n",
       "        vertical-align: top;\n",
       "    }\n",
       "\n",
       "    .dataframe thead th {\n",
       "        text-align: right;\n",
       "    }\n",
       "</style>\n",
       "<table border=\"1\" class=\"dataframe\">\n",
       "  <thead>\n",
       "    <tr style=\"text-align: right;\">\n",
       "      <th></th>\n",
       "      <th>OASISID</th>\n",
       "      <th>OASIS_session_label_x</th>\n",
       "      <th>days_to_visit</th>\n",
       "      <th>age at visit</th>\n",
       "      <th>WEIGHT</th>\n",
       "      <th>HEIGHT</th>\n",
       "      <th>BPSYS</th>\n",
       "      <th>BPDIAS</th>\n",
       "      <th>HRATE</th>\n",
       "      <th>VISION</th>\n",
       "      <th>VISCORR</th>\n",
       "      <th>VISWCORR</th>\n",
       "      <th>HEARING</th>\n",
       "      <th>HEARAID</th>\n",
       "      <th>OASIS_session_label_y</th>\n",
       "      <th>dx1</th>\n",
       "    </tr>\n",
       "  </thead>\n",
       "  <tbody>\n",
       "    <tr>\n",
       "      <th>0</th>\n",
       "      <td>OAS30001</td>\n",
       "      <td>OAS30001_UDSb1_d0000</td>\n",
       "      <td>0.0</td>\n",
       "      <td>65.19</td>\n",
       "      <td>999.0</td>\n",
       "      <td>999.0</td>\n",
       "      <td>138.0</td>\n",
       "      <td>70.0</td>\n",
       "      <td>72.0</td>\n",
       "      <td>1.0</td>\n",
       "      <td>1.0</td>\n",
       "      <td>1.0</td>\n",
       "      <td>1.0</td>\n",
       "      <td>0.0</td>\n",
       "      <td>OAS30001_UDSb4_d0000</td>\n",
       "      <td>Cognitively normal</td>\n",
       "    </tr>\n",
       "    <tr>\n",
       "      <th>1</th>\n",
       "      <td>OAS30001</td>\n",
       "      <td>OAS30001_UDSb1_d0339</td>\n",
       "      <td>339.0</td>\n",
       "      <td>66.12</td>\n",
       "      <td>155.0</td>\n",
       "      <td>64.0</td>\n",
       "      <td>138.0</td>\n",
       "      <td>72.0</td>\n",
       "      <td>78.0</td>\n",
       "      <td>0.0</td>\n",
       "      <td>1.0</td>\n",
       "      <td>1.0</td>\n",
       "      <td>1.0</td>\n",
       "      <td>0.0</td>\n",
       "      <td>OAS30001_UDSb4_d0339</td>\n",
       "      <td>Cognitively normal</td>\n",
       "    </tr>\n",
       "    <tr>\n",
       "      <th>2</th>\n",
       "      <td>OAS30001</td>\n",
       "      <td>OAS30001_UDSb1_d0722</td>\n",
       "      <td>722.0</td>\n",
       "      <td>67.17</td>\n",
       "      <td>162.0</td>\n",
       "      <td>64.0</td>\n",
       "      <td>144.0</td>\n",
       "      <td>80.0</td>\n",
       "      <td>60.0</td>\n",
       "      <td>0.0</td>\n",
       "      <td>1.0</td>\n",
       "      <td>1.0</td>\n",
       "      <td>1.0</td>\n",
       "      <td>0.0</td>\n",
       "      <td>OAS30001_UDSb4_d0722</td>\n",
       "      <td>Cognitively normal</td>\n",
       "    </tr>\n",
       "    <tr>\n",
       "      <th>3</th>\n",
       "      <td>OAS30001</td>\n",
       "      <td>OAS30001_UDSb1_d1106</td>\n",
       "      <td>1106.0</td>\n",
       "      <td>68.22</td>\n",
       "      <td>167.0</td>\n",
       "      <td>63.5</td>\n",
       "      <td>130.0</td>\n",
       "      <td>82.0</td>\n",
       "      <td>68.0</td>\n",
       "      <td>0.0</td>\n",
       "      <td>1.0</td>\n",
       "      <td>1.0</td>\n",
       "      <td>1.0</td>\n",
       "      <td>0.0</td>\n",
       "      <td>OAS30001_UDSb4_d1106</td>\n",
       "      <td>Cognitively normal</td>\n",
       "    </tr>\n",
       "    <tr>\n",
       "      <th>4</th>\n",
       "      <td>OAS30001</td>\n",
       "      <td>OAS30001_UDSb1_d1456</td>\n",
       "      <td>1456.0</td>\n",
       "      <td>69.18</td>\n",
       "      <td>173.0</td>\n",
       "      <td>63.5</td>\n",
       "      <td>142.0</td>\n",
       "      <td>70.0</td>\n",
       "      <td>72.0</td>\n",
       "      <td>1.0</td>\n",
       "      <td>1.0</td>\n",
       "      <td>1.0</td>\n",
       "      <td>1.0</td>\n",
       "      <td>0.0</td>\n",
       "      <td>OAS30001_UDSb4_d1456</td>\n",
       "      <td>Cognitively normal</td>\n",
       "    </tr>\n",
       "  </tbody>\n",
       "</table>\n",
       "</div>"
      ],
      "text/plain": [
       "    OASISID OASIS_session_label_x  days_to_visit  age at visit  WEIGHT  \\\n",
       "0  OAS30001  OAS30001_UDSb1_d0000            0.0         65.19   999.0   \n",
       "1  OAS30001  OAS30001_UDSb1_d0339          339.0         66.12   155.0   \n",
       "2  OAS30001  OAS30001_UDSb1_d0722          722.0         67.17   162.0   \n",
       "3  OAS30001  OAS30001_UDSb1_d1106         1106.0         68.22   167.0   \n",
       "4  OAS30001  OAS30001_UDSb1_d1456         1456.0         69.18   173.0   \n",
       "\n",
       "   HEIGHT  BPSYS  BPDIAS  HRATE  VISION  VISCORR  VISWCORR  HEARING  HEARAID  \\\n",
       "0   999.0  138.0    70.0   72.0     1.0      1.0       1.0      1.0      0.0   \n",
       "1    64.0  138.0    72.0   78.0     0.0      1.0       1.0      1.0      0.0   \n",
       "2    64.0  144.0    80.0   60.0     0.0      1.0       1.0      1.0      0.0   \n",
       "3    63.5  130.0    82.0   68.0     0.0      1.0       1.0      1.0      0.0   \n",
       "4    63.5  142.0    70.0   72.0     1.0      1.0       1.0      1.0      0.0   \n",
       "\n",
       "  OASIS_session_label_y                 dx1  \n",
       "0  OAS30001_UDSb4_d0000  Cognitively normal  \n",
       "1  OAS30001_UDSb4_d0339  Cognitively normal  \n",
       "2  OAS30001_UDSb4_d0722  Cognitively normal  \n",
       "3  OAS30001_UDSb4_d1106  Cognitively normal  \n",
       "4  OAS30001_UDSb4_d1456  Cognitively normal  "
      ]
     },
     "execution_count": 21,
     "metadata": {},
     "output_type": "execute_result"
    }
   ],
   "source": [
    "df_final.head()"
   ]
  },
  {
   "cell_type": "code",
   "execution_count": 22,
   "metadata": {},
   "outputs": [],
   "source": [
    "# store df_final as a csv file\n",
    "df_final.to_csv('OASIS3_UDSb1_merged.csv', index=False)"
   ]
  },
  {
   "cell_type": "code",
   "execution_count": 23,
   "metadata": {},
   "outputs": [],
   "source": [
    "# # Import the necessary module\n",
    "# from ydata_profiling import ProfileReport\n",
    "\n",
    "# # Create a ProfileReport object\n",
    "# report = ProfileReport(df)\n",
    "\n",
    "# # Generate the data profiling report\n",
    "# report.to_file('merged_report.html')"
   ]
  },
  {
   "cell_type": "code",
   "execution_count": 24,
   "metadata": {},
   "outputs": [],
   "source": [
    "df_final.drop('OASIS_session_label_x', axis=1, inplace=True)"
   ]
  },
  {
   "cell_type": "code",
   "execution_count": 25,
   "metadata": {},
   "outputs": [],
   "source": [
    "df_final.drop('OASIS_session_label_y', axis=1, inplace=True)"
   ]
  },
  {
   "cell_type": "code",
   "execution_count": 26,
   "metadata": {},
   "outputs": [],
   "source": [
    "df_final.drop('OASISID', axis=1, inplace=True)"
   ]
  },
  {
   "cell_type": "code",
   "execution_count": 27,
   "metadata": {},
   "outputs": [
    {
     "data": {
      "text/html": [
       "<div>\n",
       "<style scoped>\n",
       "    .dataframe tbody tr th:only-of-type {\n",
       "        vertical-align: middle;\n",
       "    }\n",
       "\n",
       "    .dataframe tbody tr th {\n",
       "        vertical-align: top;\n",
       "    }\n",
       "\n",
       "    .dataframe thead th {\n",
       "        text-align: right;\n",
       "    }\n",
       "</style>\n",
       "<table border=\"1\" class=\"dataframe\">\n",
       "  <thead>\n",
       "    <tr style=\"text-align: right;\">\n",
       "      <th></th>\n",
       "      <th>days_to_visit</th>\n",
       "      <th>age at visit</th>\n",
       "      <th>WEIGHT</th>\n",
       "      <th>HEIGHT</th>\n",
       "      <th>BPSYS</th>\n",
       "      <th>BPDIAS</th>\n",
       "      <th>HRATE</th>\n",
       "      <th>VISION</th>\n",
       "      <th>VISCORR</th>\n",
       "      <th>VISWCORR</th>\n",
       "      <th>HEARING</th>\n",
       "      <th>HEARAID</th>\n",
       "      <th>dx1</th>\n",
       "    </tr>\n",
       "  </thead>\n",
       "  <tbody>\n",
       "    <tr>\n",
       "      <th>0</th>\n",
       "      <td>0.0</td>\n",
       "      <td>65.19</td>\n",
       "      <td>999.0</td>\n",
       "      <td>999.0</td>\n",
       "      <td>138.0</td>\n",
       "      <td>70.0</td>\n",
       "      <td>72.0</td>\n",
       "      <td>1.0</td>\n",
       "      <td>1.0</td>\n",
       "      <td>1.0</td>\n",
       "      <td>1.0</td>\n",
       "      <td>0.0</td>\n",
       "      <td>Cognitively normal</td>\n",
       "    </tr>\n",
       "    <tr>\n",
       "      <th>1</th>\n",
       "      <td>339.0</td>\n",
       "      <td>66.12</td>\n",
       "      <td>155.0</td>\n",
       "      <td>64.0</td>\n",
       "      <td>138.0</td>\n",
       "      <td>72.0</td>\n",
       "      <td>78.0</td>\n",
       "      <td>0.0</td>\n",
       "      <td>1.0</td>\n",
       "      <td>1.0</td>\n",
       "      <td>1.0</td>\n",
       "      <td>0.0</td>\n",
       "      <td>Cognitively normal</td>\n",
       "    </tr>\n",
       "    <tr>\n",
       "      <th>2</th>\n",
       "      <td>722.0</td>\n",
       "      <td>67.17</td>\n",
       "      <td>162.0</td>\n",
       "      <td>64.0</td>\n",
       "      <td>144.0</td>\n",
       "      <td>80.0</td>\n",
       "      <td>60.0</td>\n",
       "      <td>0.0</td>\n",
       "      <td>1.0</td>\n",
       "      <td>1.0</td>\n",
       "      <td>1.0</td>\n",
       "      <td>0.0</td>\n",
       "      <td>Cognitively normal</td>\n",
       "    </tr>\n",
       "    <tr>\n",
       "      <th>3</th>\n",
       "      <td>1106.0</td>\n",
       "      <td>68.22</td>\n",
       "      <td>167.0</td>\n",
       "      <td>63.5</td>\n",
       "      <td>130.0</td>\n",
       "      <td>82.0</td>\n",
       "      <td>68.0</td>\n",
       "      <td>0.0</td>\n",
       "      <td>1.0</td>\n",
       "      <td>1.0</td>\n",
       "      <td>1.0</td>\n",
       "      <td>0.0</td>\n",
       "      <td>Cognitively normal</td>\n",
       "    </tr>\n",
       "    <tr>\n",
       "      <th>4</th>\n",
       "      <td>1456.0</td>\n",
       "      <td>69.18</td>\n",
       "      <td>173.0</td>\n",
       "      <td>63.5</td>\n",
       "      <td>142.0</td>\n",
       "      <td>70.0</td>\n",
       "      <td>72.0</td>\n",
       "      <td>1.0</td>\n",
       "      <td>1.0</td>\n",
       "      <td>1.0</td>\n",
       "      <td>1.0</td>\n",
       "      <td>0.0</td>\n",
       "      <td>Cognitively normal</td>\n",
       "    </tr>\n",
       "  </tbody>\n",
       "</table>\n",
       "</div>"
      ],
      "text/plain": [
       "   days_to_visit  age at visit  WEIGHT  HEIGHT  BPSYS  BPDIAS  HRATE  VISION  \\\n",
       "0            0.0         65.19   999.0   999.0  138.0    70.0   72.0     1.0   \n",
       "1          339.0         66.12   155.0    64.0  138.0    72.0   78.0     0.0   \n",
       "2          722.0         67.17   162.0    64.0  144.0    80.0   60.0     0.0   \n",
       "3         1106.0         68.22   167.0    63.5  130.0    82.0   68.0     0.0   \n",
       "4         1456.0         69.18   173.0    63.5  142.0    70.0   72.0     1.0   \n",
       "\n",
       "   VISCORR  VISWCORR  HEARING  HEARAID                 dx1  \n",
       "0      1.0       1.0      1.0      0.0  Cognitively normal  \n",
       "1      1.0       1.0      1.0      0.0  Cognitively normal  \n",
       "2      1.0       1.0      1.0      0.0  Cognitively normal  \n",
       "3      1.0       1.0      1.0      0.0  Cognitively normal  \n",
       "4      1.0       1.0      1.0      0.0  Cognitively normal  "
      ]
     },
     "execution_count": 27,
     "metadata": {},
     "output_type": "execute_result"
    }
   ],
   "source": [
    "df_final.head()"
   ]
  },
  {
   "cell_type": "code",
   "execution_count": 28,
   "metadata": {},
   "outputs": [
    {
     "name": "stdout",
     "output_type": "stream",
     "text": [
      "<class 'pandas.core.frame.DataFrame'>\n",
      "Int64Index: 8602 entries, 0 to 8601\n",
      "Data columns (total 13 columns):\n",
      " #   Column         Non-Null Count  Dtype  \n",
      "---  ------         --------------  -----  \n",
      " 0   days_to_visit  8602 non-null   float64\n",
      " 1   age at visit   8602 non-null   float64\n",
      " 2   WEIGHT         8602 non-null   float64\n",
      " 3   HEIGHT         8602 non-null   float64\n",
      " 4   BPSYS          8602 non-null   float64\n",
      " 5   BPDIAS         8602 non-null   float64\n",
      " 6   HRATE          8602 non-null   float64\n",
      " 7   VISION         8602 non-null   float64\n",
      " 8   VISCORR        8602 non-null   float64\n",
      " 9   VISWCORR       8602 non-null   float64\n",
      " 10  HEARING        8602 non-null   float64\n",
      " 11  HEARAID        8602 non-null   float64\n",
      " 12  dx1            8601 non-null   object \n",
      "dtypes: float64(12), object(1)\n",
      "memory usage: 940.8+ KB\n"
     ]
    }
   ],
   "source": [
    "df_final.info()"
   ]
  },
  {
   "cell_type": "markdown",
   "metadata": {},
   "source": [
    "##### Encoding"
   ]
  },
  {
   "cell_type": "code",
   "execution_count": 29,
   "metadata": {},
   "outputs": [],
   "source": [
    "# encode column dx1\n",
    "from sklearn.preprocessing import LabelEncoder\n"
   ]
  },
  {
   "cell_type": "code",
   "execution_count": 30,
   "metadata": {},
   "outputs": [],
   "source": [
    "# split the data into train and test sets\n",
    "from sklearn.model_selection import train_test_split\n",
    "\n",
    "x = df_final.drop('dx1', axis=1)\n",
    "y = df_final['dx1']\n",
    "\n",
    "x_train, x_test, y_train, y_test = train_test_split(x, y, test_size=0.3, random_state=42)"
   ]
  },
  {
   "cell_type": "markdown",
   "metadata": {},
   "source": [
    "##### Logistic Regression"
   ]
  },
  {
   "cell_type": "code",
   "execution_count": 31,
   "metadata": {},
   "outputs": [
    {
     "name": "stderr",
     "output_type": "stream",
     "text": [
      "C:\\Users\\Ananya\\AppData\\Roaming\\Python\\Python311\\site-packages\\sklearn\\linear_model\\_logistic.py:460: ConvergenceWarning: lbfgs failed to converge (status=1):\n",
      "STOP: TOTAL NO. of ITERATIONS REACHED LIMIT.\n",
      "\n",
      "Increase the number of iterations (max_iter) or scale the data as shown in:\n",
      "    https://scikit-learn.org/stable/modules/preprocessing.html\n",
      "Please also refer to the documentation for alternative solver options:\n",
      "    https://scikit-learn.org/stable/modules/linear_model.html#logistic-regression\n",
      "  n_iter_i = _check_optimize_result(\n"
     ]
    },
    {
     "ename": "TypeError",
     "evalue": "'<' not supported between instances of 'float' and 'str'",
     "output_type": "error",
     "traceback": [
      "\u001b[1;31m---------------------------------------------------------------------------\u001b[0m",
      "\u001b[1;31mTypeError\u001b[0m                                 Traceback (most recent call last)",
      "\u001b[1;32mc:\\Users\\Ananya\\OneDrive\\Projects and Labs\\Minor Project\\OASIS 3 and 4\\OASIS_3_udSB1.ipynb Cell 39\u001b[0m line \u001b[0;36m7\n\u001b[0;32m      <a href='vscode-notebook-cell:/c%3A/Users/Ananya/OneDrive/Projects%20and%20Labs/Minor%20Project/OASIS%203%20and%204/OASIS_3_udSB1.ipynb#X53sZmlsZQ%3D%3D?line=3'>4</a>\u001b[0m model\u001b[39m.\u001b[39mfit(x_train, y_train)\n\u001b[0;32m      <a href='vscode-notebook-cell:/c%3A/Users/Ananya/OneDrive/Projects%20and%20Labs/Minor%20Project/OASIS%203%20and%204/OASIS_3_udSB1.ipynb#X53sZmlsZQ%3D%3D?line=4'>5</a>\u001b[0m predictions \u001b[39m=\u001b[39m model\u001b[39m.\u001b[39mpredict(x_test)\n\u001b[1;32m----> <a href='vscode-notebook-cell:/c%3A/Users/Ananya/OneDrive/Projects%20and%20Labs/Minor%20Project/OASIS%203%20and%204/OASIS_3_udSB1.ipynb#X53sZmlsZQ%3D%3D?line=6'>7</a>\u001b[0m accuracy \u001b[39m=\u001b[39m accuracy_score(y_test, predictions)\n\u001b[0;32m      <a href='vscode-notebook-cell:/c%3A/Users/Ananya/OneDrive/Projects%20and%20Labs/Minor%20Project/OASIS%203%20and%204/OASIS_3_udSB1.ipynb#X53sZmlsZQ%3D%3D?line=7'>8</a>\u001b[0m \u001b[39mprint\u001b[39m(\u001b[39mf\u001b[39m\u001b[39m\"\u001b[39m\u001b[39mAccuracy: \u001b[39m\u001b[39m{\u001b[39;00maccuracy\u001b[39m:\u001b[39;00m\u001b[39m.2f\u001b[39m\u001b[39m}\u001b[39;00m\u001b[39m\"\u001b[39m)\n\u001b[0;32m      <a href='vscode-notebook-cell:/c%3A/Users/Ananya/OneDrive/Projects%20and%20Labs/Minor%20Project/OASIS%203%20and%204/OASIS_3_udSB1.ipynb#X53sZmlsZQ%3D%3D?line=8'>9</a>\u001b[0m conf_matrix \u001b[39m=\u001b[39m confusion_matrix(y_test, predictions)\n",
      "File \u001b[1;32m~\\AppData\\Roaming\\Python\\Python311\\site-packages\\sklearn\\utils\\_param_validation.py:211\u001b[0m, in \u001b[0;36mvalidate_params.<locals>.decorator.<locals>.wrapper\u001b[1;34m(*args, **kwargs)\u001b[0m\n\u001b[0;32m    205\u001b[0m \u001b[39mtry\u001b[39;00m:\n\u001b[0;32m    206\u001b[0m     \u001b[39mwith\u001b[39;00m config_context(\n\u001b[0;32m    207\u001b[0m         skip_parameter_validation\u001b[39m=\u001b[39m(\n\u001b[0;32m    208\u001b[0m             prefer_skip_nested_validation \u001b[39mor\u001b[39;00m global_skip_validation\n\u001b[0;32m    209\u001b[0m         )\n\u001b[0;32m    210\u001b[0m     ):\n\u001b[1;32m--> 211\u001b[0m         \u001b[39mreturn\u001b[39;00m func(\u001b[39m*\u001b[39;49margs, \u001b[39m*\u001b[39;49m\u001b[39m*\u001b[39;49mkwargs)\n\u001b[0;32m    212\u001b[0m \u001b[39mexcept\u001b[39;00m InvalidParameterError \u001b[39mas\u001b[39;00m e:\n\u001b[0;32m    213\u001b[0m     \u001b[39m# When the function is just a wrapper around an estimator, we allow\u001b[39;00m\n\u001b[0;32m    214\u001b[0m     \u001b[39m# the function to delegate validation to the estimator, but we replace\u001b[39;00m\n\u001b[0;32m    215\u001b[0m     \u001b[39m# the name of the estimator by the name of the function in the error\u001b[39;00m\n\u001b[0;32m    216\u001b[0m     \u001b[39m# message to avoid confusion.\u001b[39;00m\n\u001b[0;32m    217\u001b[0m     msg \u001b[39m=\u001b[39m re\u001b[39m.\u001b[39msub(\n\u001b[0;32m    218\u001b[0m         \u001b[39mr\u001b[39m\u001b[39m\"\u001b[39m\u001b[39mparameter of \u001b[39m\u001b[39m\\\u001b[39m\u001b[39mw+ must be\u001b[39m\u001b[39m\"\u001b[39m,\n\u001b[0;32m    219\u001b[0m         \u001b[39mf\u001b[39m\u001b[39m\"\u001b[39m\u001b[39mparameter of \u001b[39m\u001b[39m{\u001b[39;00mfunc\u001b[39m.\u001b[39m\u001b[39m__qualname__\u001b[39m\u001b[39m}\u001b[39;00m\u001b[39m must be\u001b[39m\u001b[39m\"\u001b[39m,\n\u001b[0;32m    220\u001b[0m         \u001b[39mstr\u001b[39m(e),\n\u001b[0;32m    221\u001b[0m     )\n",
      "File \u001b[1;32m~\\AppData\\Roaming\\Python\\Python311\\site-packages\\sklearn\\metrics\\_classification.py:220\u001b[0m, in \u001b[0;36maccuracy_score\u001b[1;34m(y_true, y_pred, normalize, sample_weight)\u001b[0m\n\u001b[0;32m    154\u001b[0m \u001b[39m\u001b[39m\u001b[39m\"\"\"Accuracy classification score.\u001b[39;00m\n\u001b[0;32m    155\u001b[0m \n\u001b[0;32m    156\u001b[0m \u001b[39mIn multilabel classification, this function computes subset accuracy:\u001b[39;00m\n\u001b[1;32m   (...)\u001b[0m\n\u001b[0;32m    216\u001b[0m \u001b[39m0.5\u001b[39;00m\n\u001b[0;32m    217\u001b[0m \u001b[39m\"\"\"\u001b[39;00m\n\u001b[0;32m    219\u001b[0m \u001b[39m# Compute accuracy for each possible representation\u001b[39;00m\n\u001b[1;32m--> 220\u001b[0m y_type, y_true, y_pred \u001b[39m=\u001b[39m _check_targets(y_true, y_pred)\n\u001b[0;32m    221\u001b[0m check_consistent_length(y_true, y_pred, sample_weight)\n\u001b[0;32m    222\u001b[0m \u001b[39mif\u001b[39;00m y_type\u001b[39m.\u001b[39mstartswith(\u001b[39m\"\u001b[39m\u001b[39mmultilabel\u001b[39m\u001b[39m\"\u001b[39m):\n",
      "File \u001b[1;32m~\\AppData\\Roaming\\Python\\Python311\\site-packages\\sklearn\\metrics\\_classification.py:85\u001b[0m, in \u001b[0;36m_check_targets\u001b[1;34m(y_true, y_pred)\u001b[0m\n\u001b[0;32m     58\u001b[0m \u001b[39m\u001b[39m\u001b[39m\"\"\"Check that y_true and y_pred belong to the same classification task.\u001b[39;00m\n\u001b[0;32m     59\u001b[0m \n\u001b[0;32m     60\u001b[0m \u001b[39mThis converts multiclass or binary types to a common shape, and raises a\u001b[39;00m\n\u001b[1;32m   (...)\u001b[0m\n\u001b[0;32m     82\u001b[0m \u001b[39my_pred : array or indicator matrix\u001b[39;00m\n\u001b[0;32m     83\u001b[0m \u001b[39m\"\"\"\u001b[39;00m\n\u001b[0;32m     84\u001b[0m check_consistent_length(y_true, y_pred)\n\u001b[1;32m---> 85\u001b[0m type_true \u001b[39m=\u001b[39m type_of_target(y_true, input_name\u001b[39m=\u001b[39;49m\u001b[39m\"\u001b[39;49m\u001b[39my_true\u001b[39;49m\u001b[39m\"\u001b[39;49m)\n\u001b[0;32m     86\u001b[0m type_pred \u001b[39m=\u001b[39m type_of_target(y_pred, input_name\u001b[39m=\u001b[39m\u001b[39m\"\u001b[39m\u001b[39my_pred\u001b[39m\u001b[39m\"\u001b[39m)\n\u001b[0;32m     88\u001b[0m y_type \u001b[39m=\u001b[39m {type_true, type_pred}\n",
      "File \u001b[1;32m~\\AppData\\Roaming\\Python\\Python311\\site-packages\\sklearn\\utils\\multiclass.py:388\u001b[0m, in \u001b[0;36mtype_of_target\u001b[1;34m(y, input_name)\u001b[0m\n\u001b[0;32m    386\u001b[0m \u001b[39m# Check multiclass\u001b[39;00m\n\u001b[0;32m    387\u001b[0m first_row \u001b[39m=\u001b[39m y[\u001b[39m0\u001b[39m] \u001b[39mif\u001b[39;00m \u001b[39mnot\u001b[39;00m issparse(y) \u001b[39melse\u001b[39;00m y\u001b[39m.\u001b[39mgetrow(\u001b[39m0\u001b[39m)\u001b[39m.\u001b[39mdata\n\u001b[1;32m--> 388\u001b[0m \u001b[39mif\u001b[39;00m xp\u001b[39m.\u001b[39;49munique_values(y)\u001b[39m.\u001b[39mshape[\u001b[39m0\u001b[39m] \u001b[39m>\u001b[39m \u001b[39m2\u001b[39m \u001b[39mor\u001b[39;00m (y\u001b[39m.\u001b[39mndim \u001b[39m==\u001b[39m \u001b[39m2\u001b[39m \u001b[39mand\u001b[39;00m \u001b[39mlen\u001b[39m(first_row) \u001b[39m>\u001b[39m \u001b[39m1\u001b[39m):\n\u001b[0;32m    389\u001b[0m     \u001b[39m# [1, 2, 3] or [[1., 2., 3]] or [[1, 2]]\u001b[39;00m\n\u001b[0;32m    390\u001b[0m     \u001b[39mreturn\u001b[39;00m \u001b[39m\"\u001b[39m\u001b[39mmulticlass\u001b[39m\u001b[39m\"\u001b[39m \u001b[39m+\u001b[39m suffix\n\u001b[0;32m    391\u001b[0m \u001b[39melse\u001b[39;00m:\n",
      "File \u001b[1;32m~\\AppData\\Roaming\\Python\\Python311\\site-packages\\sklearn\\utils\\_array_api.py:262\u001b[0m, in \u001b[0;36m_NumPyAPIWrapper.unique_values\u001b[1;34m(self, x)\u001b[0m\n\u001b[0;32m    261\u001b[0m \u001b[39mdef\u001b[39;00m \u001b[39munique_values\u001b[39m(\u001b[39mself\u001b[39m, x):\n\u001b[1;32m--> 262\u001b[0m     \u001b[39mreturn\u001b[39;00m numpy\u001b[39m.\u001b[39;49munique(x)\n",
      "File \u001b[1;32m<__array_function__ internals>:180\u001b[0m, in \u001b[0;36munique\u001b[1;34m(*args, **kwargs)\u001b[0m\n",
      "File \u001b[1;32m~\\AppData\\Roaming\\Python\\Python311\\site-packages\\numpy\\lib\\arraysetops.py:274\u001b[0m, in \u001b[0;36munique\u001b[1;34m(ar, return_index, return_inverse, return_counts, axis, equal_nan)\u001b[0m\n\u001b[0;32m    272\u001b[0m ar \u001b[39m=\u001b[39m np\u001b[39m.\u001b[39masanyarray(ar)\n\u001b[0;32m    273\u001b[0m \u001b[39mif\u001b[39;00m axis \u001b[39mis\u001b[39;00m \u001b[39mNone\u001b[39;00m:\n\u001b[1;32m--> 274\u001b[0m     ret \u001b[39m=\u001b[39m _unique1d(ar, return_index, return_inverse, return_counts, \n\u001b[0;32m    275\u001b[0m                     equal_nan\u001b[39m=\u001b[39;49mequal_nan)\n\u001b[0;32m    276\u001b[0m     \u001b[39mreturn\u001b[39;00m _unpack_tuple(ret)\n\u001b[0;32m    278\u001b[0m \u001b[39m# axis was specified and not None\u001b[39;00m\n",
      "File \u001b[1;32m~\\AppData\\Roaming\\Python\\Python311\\site-packages\\numpy\\lib\\arraysetops.py:336\u001b[0m, in \u001b[0;36m_unique1d\u001b[1;34m(ar, return_index, return_inverse, return_counts, equal_nan)\u001b[0m\n\u001b[0;32m    334\u001b[0m     aux \u001b[39m=\u001b[39m ar[perm]\n\u001b[0;32m    335\u001b[0m \u001b[39melse\u001b[39;00m:\n\u001b[1;32m--> 336\u001b[0m     ar\u001b[39m.\u001b[39msort()\n\u001b[0;32m    337\u001b[0m     aux \u001b[39m=\u001b[39m ar\n\u001b[0;32m    338\u001b[0m mask \u001b[39m=\u001b[39m np\u001b[39m.\u001b[39mempty(aux\u001b[39m.\u001b[39mshape, dtype\u001b[39m=\u001b[39mnp\u001b[39m.\u001b[39mbool_)\n",
      "\u001b[1;31mTypeError\u001b[0m: '<' not supported between instances of 'float' and 'str'"
     ]
    }
   ],
   "source": [
    "from sklearn.linear_model import LogisticRegression\n",
    "from sklearn.metrics import accuracy_score, confusion_matrix\n",
    "model = LogisticRegression()\n",
    "model.fit(x_train, y_train)\n",
    "predictions = model.predict(x_test)\n",
    "\n",
    "accuracy = accuracy_score(y_test, predictions)\n",
    "print(f\"Accuracy: {accuracy:.2f}\")\n",
    "conf_matrix = confusion_matrix(y_test, predictions)\n",
    "print(\"Confusion Matrix:\")\n",
    "print(conf_matrix)\n",
    "\n",
    "# log = {'model': 'Logistic Regression', 'accuracy': accuracy}\n",
    "# csv_logger.log(log)"
   ]
  }
 ],
 "metadata": {
  "kernelspec": {
   "display_name": "Python 3",
   "language": "python",
   "name": "python3"
  },
  "language_info": {
   "codemirror_mode": {
    "name": "ipython",
    "version": 3
   },
   "file_extension": ".py",
   "mimetype": "text/x-python",
   "name": "python",
   "nbconvert_exporter": "python",
   "pygments_lexer": "ipython3",
   "version": "3.11.2"
  }
 },
 "nbformat": 4,
 "nbformat_minor": 2
}
