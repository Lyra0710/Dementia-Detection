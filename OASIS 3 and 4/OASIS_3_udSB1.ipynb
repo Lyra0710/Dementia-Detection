{
 "cells": [
  {
   "cell_type": "markdown",
   "metadata": {},
   "source": [
    "### UDsb1 Physical Eval"
   ]
  },
  {
   "cell_type": "markdown",
   "metadata": {},
   "source": [
    "#### Preprocessing"
   ]
  },
  {
   "cell_type": "code",
   "execution_count": 1,
   "metadata": {},
   "outputs": [],
   "source": [
    "import pandas as pd\n",
    "import numpy as np"
   ]
  },
  {
   "cell_type": "code",
   "execution_count": 2,
   "metadata": {},
   "outputs": [],
   "source": [
    "df = pd.read_csv(\"OASIS3_UDSb1_physical_eval.csv\")"
   ]
  },
  {
   "cell_type": "code",
   "execution_count": 3,
   "metadata": {},
   "outputs": [],
   "source": [
    "# # Import the necessary module\n",
    "# from ydata_profiling import ProfileReport\n",
    "\n",
    "# # Create a ProfileReport object\n",
    "# report = ProfileReport(df)\n",
    "\n",
    "# # Generate the data profiling report\n",
    "# report.to_file('oasis_3_report.html')"
   ]
  },
  {
   "cell_type": "code",
   "execution_count": 4,
   "metadata": {},
   "outputs": [
    {
     "data": {
      "text/plain": [
       "OASISID                   0\n",
       "OASIS_session_label       0\n",
       "days_to_visit             0\n",
       "age at visit              0\n",
       "WEIGHT                 1003\n",
       "HEIGHT                 1763\n",
       "BPSYS                  1027\n",
       "BPDIAS                 1034\n",
       "HRATE                  1859\n",
       "VISION                 1848\n",
       "VISCORR                1850\n",
       "VISWCORR               3159\n",
       "HEARING                1849\n",
       "HEARAID                1858\n",
       "HEARWAID               7442\n",
       "dtype: int64"
      ]
     },
     "execution_count": 4,
     "metadata": {},
     "output_type": "execute_result"
    }
   ],
   "source": [
    "df.isnull().sum()"
   ]
  },
  {
   "cell_type": "code",
   "execution_count": 5,
   "metadata": {},
   "outputs": [
    {
     "data": {
      "text/plain": [
       "(8626, 15)"
      ]
     },
     "execution_count": 5,
     "metadata": {},
     "output_type": "execute_result"
    }
   ],
   "source": [
    "df.shape"
   ]
  },
  {
   "cell_type": "code",
   "execution_count": 6,
   "metadata": {},
   "outputs": [],
   "source": [
    "df.drop('HEARWAID', axis=1, inplace=True)"
   ]
  },
  {
   "cell_type": "code",
   "execution_count": 7,
   "metadata": {},
   "outputs": [
    {
     "name": "stderr",
     "output_type": "stream",
     "text": [
      "C:\\Users\\Ananya\\AppData\\Local\\Temp\\ipykernel_28604\\3216825617.py:2: FutureWarning: The default value of numeric_only in DataFrame.mean is deprecated. In a future version, it will default to False. In addition, specifying 'numeric_only=None' is deprecated. Select only valid columns or specify the value of numeric_only to silence this warning.\n",
      "  df.fillna(df.mean(), inplace=True)\n"
     ]
    }
   ],
   "source": [
    "# impute the missing values to the mean of the column\n",
    "df.fillna(df.mean(), inplace=True)"
   ]
  },
  {
   "cell_type": "code",
   "execution_count": 8,
   "metadata": {},
   "outputs": [
    {
     "data": {
      "text/plain": [
       "OASISID                0\n",
       "OASIS_session_label    0\n",
       "days_to_visit          0\n",
       "age at visit           0\n",
       "WEIGHT                 0\n",
       "HEIGHT                 0\n",
       "BPSYS                  0\n",
       "BPDIAS                 0\n",
       "HRATE                  0\n",
       "VISION                 0\n",
       "VISCORR                0\n",
       "VISWCORR               0\n",
       "HEARING                0\n",
       "HEARAID                0\n",
       "dtype: int64"
      ]
     },
     "execution_count": 8,
     "metadata": {},
     "output_type": "execute_result"
    }
   ],
   "source": [
    "df.isnull().sum()"
   ]
  },
  {
   "cell_type": "code",
   "execution_count": 9,
   "metadata": {},
   "outputs": [
    {
     "name": "stdout",
     "output_type": "stream",
     "text": [
      "<class 'pandas.core.frame.DataFrame'>\n",
      "RangeIndex: 8626 entries, 0 to 8625\n",
      "Data columns (total 14 columns):\n",
      " #   Column               Non-Null Count  Dtype  \n",
      "---  ------               --------------  -----  \n",
      " 0   OASISID              8626 non-null   object \n",
      " 1   OASIS_session_label  8626 non-null   object \n",
      " 2   days_to_visit        8626 non-null   int64  \n",
      " 3   age at visit         8626 non-null   float64\n",
      " 4   WEIGHT               8626 non-null   float64\n",
      " 5   HEIGHT               8626 non-null   float64\n",
      " 6   BPSYS                8626 non-null   float64\n",
      " 7   BPDIAS               8626 non-null   float64\n",
      " 8   HRATE                8626 non-null   float64\n",
      " 9   VISION               8626 non-null   float64\n",
      " 10  VISCORR              8626 non-null   float64\n",
      " 11  VISWCORR             8626 non-null   float64\n",
      " 12  HEARING              8626 non-null   float64\n",
      " 13  HEARAID              8626 non-null   float64\n",
      "dtypes: float64(11), int64(1), object(2)\n",
      "memory usage: 943.6+ KB\n"
     ]
    }
   ],
   "source": [
    "df.info()"
   ]
  },
  {
   "cell_type": "code",
   "execution_count": 10,
   "metadata": {},
   "outputs": [],
   "source": [
    "# convert days_to_visit to float\n",
    "df['days_to_visit'] = df['days_to_visit'].astype(float)"
   ]
  },
  {
   "cell_type": "code",
   "execution_count": 11,
   "metadata": {},
   "outputs": [
    {
     "name": "stdout",
     "output_type": "stream",
     "text": [
      "<class 'pandas.core.frame.DataFrame'>\n",
      "RangeIndex: 8626 entries, 0 to 8625\n",
      "Data columns (total 14 columns):\n",
      " #   Column               Non-Null Count  Dtype  \n",
      "---  ------               --------------  -----  \n",
      " 0   OASISID              8626 non-null   object \n",
      " 1   OASIS_session_label  8626 non-null   object \n",
      " 2   days_to_visit        8626 non-null   float64\n",
      " 3   age at visit         8626 non-null   float64\n",
      " 4   WEIGHT               8626 non-null   float64\n",
      " 5   HEIGHT               8626 non-null   float64\n",
      " 6   BPSYS                8626 non-null   float64\n",
      " 7   BPDIAS               8626 non-null   float64\n",
      " 8   HRATE                8626 non-null   float64\n",
      " 9   VISION               8626 non-null   float64\n",
      " 10  VISCORR              8626 non-null   float64\n",
      " 11  VISWCORR             8626 non-null   float64\n",
      " 12  HEARING              8626 non-null   float64\n",
      " 13  HEARAID              8626 non-null   float64\n",
      "dtypes: float64(12), object(2)\n",
      "memory usage: 943.6+ KB\n"
     ]
    }
   ],
   "source": [
    "df.info()"
   ]
  },
  {
   "cell_type": "markdown",
   "metadata": {},
   "source": [
    "### Taking dx1 column from b4"
   ]
  },
  {
   "cell_type": "markdown",
   "metadata": {},
   "source": [
    "#### Preprocessing"
   ]
  },
  {
   "cell_type": "code",
   "execution_count": 12,
   "metadata": {},
   "outputs": [],
   "source": [
    "df2 = pd.read_csv(\"OASIS3_UDSb4_cdr.csv\")"
   ]
  },
  {
   "cell_type": "code",
   "execution_count": 13,
   "metadata": {},
   "outputs": [
    {
     "data": {
      "text/plain": [
       "(8626, 23)"
      ]
     },
     "execution_count": 13,
     "metadata": {},
     "output_type": "execute_result"
    }
   ],
   "source": [
    "df2.shape"
   ]
  },
  {
   "cell_type": "markdown",
   "metadata": {},
   "source": [
    "##### Checking Skewness"
   ]
  },
  {
   "cell_type": "code",
   "execution_count": 14,
   "metadata": {},
   "outputs": [],
   "source": [
    "# %matplotlib inline\n",
    "\n",
    "# import matplotlib.pyplot as plt\n",
    "\n",
    "# # Your plotting code here\n",
    "\n",
    "# plt.show()  # Display the plot in the Jupyter Notebook output\n"
   ]
  },
  {
   "cell_type": "code",
   "execution_count": 15,
   "metadata": {},
   "outputs": [],
   "source": [
    "# create a new dataframe with only the columns we need\n",
    "df2 = df2[['OASIS_session_label', 'dx1']]\n"
   ]
  },
  {
   "cell_type": "code",
   "execution_count": 16,
   "metadata": {},
   "outputs": [
    {
     "name": "stdout",
     "output_type": "stream",
     "text": [
      "<class 'pandas.core.frame.DataFrame'>\n",
      "RangeIndex: 8626 entries, 0 to 8625\n",
      "Data columns (total 2 columns):\n",
      " #   Column               Non-Null Count  Dtype \n",
      "---  ------               --------------  ----- \n",
      " 0   OASIS_session_label  8626 non-null   object\n",
      " 1   dx1                  8625 non-null   object\n",
      "dtypes: object(2)\n",
      "memory usage: 134.9+ KB\n"
     ]
    }
   ],
   "source": [
    "df2.info()"
   ]
  },
  {
   "cell_type": "code",
   "execution_count": 17,
   "metadata": {},
   "outputs": [
    {
     "data": {
      "text/html": [
       "<div>\n",
       "<style scoped>\n",
       "    .dataframe tbody tr th:only-of-type {\n",
       "        vertical-align: middle;\n",
       "    }\n",
       "\n",
       "    .dataframe tbody tr th {\n",
       "        vertical-align: top;\n",
       "    }\n",
       "\n",
       "    .dataframe thead th {\n",
       "        text-align: right;\n",
       "    }\n",
       "</style>\n",
       "<table border=\"1\" class=\"dataframe\">\n",
       "  <thead>\n",
       "    <tr style=\"text-align: right;\">\n",
       "      <th></th>\n",
       "      <th>OASIS_session_label</th>\n",
       "      <th>dx1</th>\n",
       "    </tr>\n",
       "  </thead>\n",
       "  <tbody>\n",
       "    <tr>\n",
       "      <th>0</th>\n",
       "      <td>OAS30001_UDSb4_d0000</td>\n",
       "      <td>Cognitively normal</td>\n",
       "    </tr>\n",
       "    <tr>\n",
       "      <th>1</th>\n",
       "      <td>OAS30001_UDSb4_d0339</td>\n",
       "      <td>Cognitively normal</td>\n",
       "    </tr>\n",
       "    <tr>\n",
       "      <th>2</th>\n",
       "      <td>OAS30001_UDSb4_d0722</td>\n",
       "      <td>Cognitively normal</td>\n",
       "    </tr>\n",
       "    <tr>\n",
       "      <th>3</th>\n",
       "      <td>OAS30001_UDSb4_d1106</td>\n",
       "      <td>Cognitively normal</td>\n",
       "    </tr>\n",
       "    <tr>\n",
       "      <th>4</th>\n",
       "      <td>OAS30001_UDSb4_d1456</td>\n",
       "      <td>Cognitively normal</td>\n",
       "    </tr>\n",
       "  </tbody>\n",
       "</table>\n",
       "</div>"
      ],
      "text/plain": [
       "    OASIS_session_label                 dx1\n",
       "0  OAS30001_UDSb4_d0000  Cognitively normal\n",
       "1  OAS30001_UDSb4_d0339  Cognitively normal\n",
       "2  OAS30001_UDSb4_d0722  Cognitively normal\n",
       "3  OAS30001_UDSb4_d1106  Cognitively normal\n",
       "4  OAS30001_UDSb4_d1456  Cognitively normal"
      ]
     },
     "execution_count": 17,
     "metadata": {},
     "output_type": "execute_result"
    }
   ],
   "source": [
    "df2.head()"
   ]
  },
  {
   "cell_type": "code",
   "execution_count": 18,
   "metadata": {},
   "outputs": [
    {
     "data": {
      "text/html": [
       "<div>\n",
       "<style scoped>\n",
       "    .dataframe tbody tr th:only-of-type {\n",
       "        vertical-align: middle;\n",
       "    }\n",
       "\n",
       "    .dataframe tbody tr th {\n",
       "        vertical-align: top;\n",
       "    }\n",
       "\n",
       "    .dataframe thead th {\n",
       "        text-align: right;\n",
       "    }\n",
       "</style>\n",
       "<table border=\"1\" class=\"dataframe\">\n",
       "  <thead>\n",
       "    <tr style=\"text-align: right;\">\n",
       "      <th></th>\n",
       "      <th>OASISID</th>\n",
       "      <th>OASIS_session_label</th>\n",
       "      <th>days_to_visit</th>\n",
       "      <th>age at visit</th>\n",
       "      <th>WEIGHT</th>\n",
       "      <th>HEIGHT</th>\n",
       "      <th>BPSYS</th>\n",
       "      <th>BPDIAS</th>\n",
       "      <th>HRATE</th>\n",
       "      <th>VISION</th>\n",
       "      <th>VISCORR</th>\n",
       "      <th>VISWCORR</th>\n",
       "      <th>HEARING</th>\n",
       "      <th>HEARAID</th>\n",
       "    </tr>\n",
       "  </thead>\n",
       "  <tbody>\n",
       "    <tr>\n",
       "      <th>0</th>\n",
       "      <td>OAS30001</td>\n",
       "      <td>OAS30001_UDSb1_d0000</td>\n",
       "      <td>0.0</td>\n",
       "      <td>65.19</td>\n",
       "      <td>999.0</td>\n",
       "      <td>999.0</td>\n",
       "      <td>138.0</td>\n",
       "      <td>70.0</td>\n",
       "      <td>72.0</td>\n",
       "      <td>1.0</td>\n",
       "      <td>1.0</td>\n",
       "      <td>1.0</td>\n",
       "      <td>1.0</td>\n",
       "      <td>0.0</td>\n",
       "    </tr>\n",
       "    <tr>\n",
       "      <th>1</th>\n",
       "      <td>OAS30001</td>\n",
       "      <td>OAS30001_UDSb1_d0339</td>\n",
       "      <td>339.0</td>\n",
       "      <td>66.12</td>\n",
       "      <td>155.0</td>\n",
       "      <td>64.0</td>\n",
       "      <td>138.0</td>\n",
       "      <td>72.0</td>\n",
       "      <td>78.0</td>\n",
       "      <td>0.0</td>\n",
       "      <td>1.0</td>\n",
       "      <td>1.0</td>\n",
       "      <td>1.0</td>\n",
       "      <td>0.0</td>\n",
       "    </tr>\n",
       "    <tr>\n",
       "      <th>2</th>\n",
       "      <td>OAS30001</td>\n",
       "      <td>OAS30001_UDSb1_d0722</td>\n",
       "      <td>722.0</td>\n",
       "      <td>67.17</td>\n",
       "      <td>162.0</td>\n",
       "      <td>64.0</td>\n",
       "      <td>144.0</td>\n",
       "      <td>80.0</td>\n",
       "      <td>60.0</td>\n",
       "      <td>0.0</td>\n",
       "      <td>1.0</td>\n",
       "      <td>1.0</td>\n",
       "      <td>1.0</td>\n",
       "      <td>0.0</td>\n",
       "    </tr>\n",
       "    <tr>\n",
       "      <th>3</th>\n",
       "      <td>OAS30001</td>\n",
       "      <td>OAS30001_UDSb1_d1106</td>\n",
       "      <td>1106.0</td>\n",
       "      <td>68.22</td>\n",
       "      <td>167.0</td>\n",
       "      <td>63.5</td>\n",
       "      <td>130.0</td>\n",
       "      <td>82.0</td>\n",
       "      <td>68.0</td>\n",
       "      <td>0.0</td>\n",
       "      <td>1.0</td>\n",
       "      <td>1.0</td>\n",
       "      <td>1.0</td>\n",
       "      <td>0.0</td>\n",
       "    </tr>\n",
       "    <tr>\n",
       "      <th>4</th>\n",
       "      <td>OAS30001</td>\n",
       "      <td>OAS30001_UDSb1_d1456</td>\n",
       "      <td>1456.0</td>\n",
       "      <td>69.18</td>\n",
       "      <td>173.0</td>\n",
       "      <td>63.5</td>\n",
       "      <td>142.0</td>\n",
       "      <td>70.0</td>\n",
       "      <td>72.0</td>\n",
       "      <td>1.0</td>\n",
       "      <td>1.0</td>\n",
       "      <td>1.0</td>\n",
       "      <td>1.0</td>\n",
       "      <td>0.0</td>\n",
       "    </tr>\n",
       "  </tbody>\n",
       "</table>\n",
       "</div>"
      ],
      "text/plain": [
       "    OASISID   OASIS_session_label  days_to_visit  age at visit  WEIGHT  \\\n",
       "0  OAS30001  OAS30001_UDSb1_d0000            0.0         65.19   999.0   \n",
       "1  OAS30001  OAS30001_UDSb1_d0339          339.0         66.12   155.0   \n",
       "2  OAS30001  OAS30001_UDSb1_d0722          722.0         67.17   162.0   \n",
       "3  OAS30001  OAS30001_UDSb1_d1106         1106.0         68.22   167.0   \n",
       "4  OAS30001  OAS30001_UDSb1_d1456         1456.0         69.18   173.0   \n",
       "\n",
       "   HEIGHT  BPSYS  BPDIAS  HRATE  VISION  VISCORR  VISWCORR  HEARING  HEARAID  \n",
       "0   999.0  138.0    70.0   72.0     1.0      1.0       1.0      1.0      0.0  \n",
       "1    64.0  138.0    72.0   78.0     0.0      1.0       1.0      1.0      0.0  \n",
       "2    64.0  144.0    80.0   60.0     0.0      1.0       1.0      1.0      0.0  \n",
       "3    63.5  130.0    82.0   68.0     0.0      1.0       1.0      1.0      0.0  \n",
       "4    63.5  142.0    70.0   72.0     1.0      1.0       1.0      1.0      0.0  "
      ]
     },
     "execution_count": 18,
     "metadata": {},
     "output_type": "execute_result"
    }
   ],
   "source": [
    "df.head()"
   ]
  },
  {
   "cell_type": "markdown",
   "metadata": {},
   "source": [
    "##### Merging"
   ]
  },
  {
   "cell_type": "code",
   "execution_count": 23,
   "metadata": {},
   "outputs": [],
   "source": [
    "# merge the two dataframes, df and df2, on OASIS_session_label based on the first 8 characters and last 5 characters\n",
    "# Extract the first 8 characters and last 5 characters from 'OASIS_session_label' in both dataframes\n",
    "df['OASIS_session_label_first8'] = df['OASIS_session_label'].str[:8]\n",
    "df['OASIS_session_label_last5'] = df['OASIS_session_label'].str[-5:]\n",
    "df2['OASIS_session_label_first8'] = df2['OASIS_session_label'].str[:8]\n",
    "df2['OASIS_session_label_last5'] = df2['OASIS_session_label'].str[-5:]\n",
    "\n",
    "# Merge the dataframes based on the first 8 and last 5 characters\n",
    "df_final = df.merge(df2, on=['OASIS_session_label_first8', 'OASIS_session_label_last5'], how='inner')\n",
    "\n",
    "# Drop the temporary columns if needed\n",
    "df_final.drop(['OASIS_session_label_first8', 'OASIS_session_label_last5'], axis=1, inplace=True)"
   ]
  },
  {
   "cell_type": "code",
   "execution_count": 24,
   "metadata": {},
   "outputs": [
    {
     "name": "stdout",
     "output_type": "stream",
     "text": [
      "<class 'pandas.core.frame.DataFrame'>\n",
      "Int64Index: 8602 entries, 0 to 8601\n",
      "Data columns (total 16 columns):\n",
      " #   Column                 Non-Null Count  Dtype  \n",
      "---  ------                 --------------  -----  \n",
      " 0   OASISID                8602 non-null   object \n",
      " 1   OASIS_session_label_x  8602 non-null   object \n",
      " 2   days_to_visit          8602 non-null   float64\n",
      " 3   age at visit           8602 non-null   float64\n",
      " 4   WEIGHT                 8602 non-null   float64\n",
      " 5   HEIGHT                 8602 non-null   float64\n",
      " 6   BPSYS                  8602 non-null   float64\n",
      " 7   BPDIAS                 8602 non-null   float64\n",
      " 8   HRATE                  8602 non-null   float64\n",
      " 9   VISION                 8602 non-null   float64\n",
      " 10  VISCORR                8602 non-null   float64\n",
      " 11  VISWCORR               8602 non-null   float64\n",
      " 12  HEARING                8602 non-null   float64\n",
      " 13  HEARAID                8602 non-null   float64\n",
      " 14  OASIS_session_label_y  8602 non-null   object \n",
      " 15  dx1                    8601 non-null   object \n",
      "dtypes: float64(12), object(4)\n",
      "memory usage: 1.1+ MB\n"
     ]
    }
   ],
   "source": [
    "df_final.info()"
   ]
  },
  {
   "cell_type": "code",
   "execution_count": 25,
   "metadata": {},
   "outputs": [
    {
     "data": {
      "text/html": [
       "<div>\n",
       "<style scoped>\n",
       "    .dataframe tbody tr th:only-of-type {\n",
       "        vertical-align: middle;\n",
       "    }\n",
       "\n",
       "    .dataframe tbody tr th {\n",
       "        vertical-align: top;\n",
       "    }\n",
       "\n",
       "    .dataframe thead th {\n",
       "        text-align: right;\n",
       "    }\n",
       "</style>\n",
       "<table border=\"1\" class=\"dataframe\">\n",
       "  <thead>\n",
       "    <tr style=\"text-align: right;\">\n",
       "      <th></th>\n",
       "      <th>OASISID</th>\n",
       "      <th>OASIS_session_label_x</th>\n",
       "      <th>days_to_visit</th>\n",
       "      <th>age at visit</th>\n",
       "      <th>WEIGHT</th>\n",
       "      <th>HEIGHT</th>\n",
       "      <th>BPSYS</th>\n",
       "      <th>BPDIAS</th>\n",
       "      <th>HRATE</th>\n",
       "      <th>VISION</th>\n",
       "      <th>VISCORR</th>\n",
       "      <th>VISWCORR</th>\n",
       "      <th>HEARING</th>\n",
       "      <th>HEARAID</th>\n",
       "      <th>OASIS_session_label_y</th>\n",
       "      <th>dx1</th>\n",
       "    </tr>\n",
       "  </thead>\n",
       "  <tbody>\n",
       "    <tr>\n",
       "      <th>0</th>\n",
       "      <td>OAS30001</td>\n",
       "      <td>OAS30001_UDSb1_d0000</td>\n",
       "      <td>0.0</td>\n",
       "      <td>65.19</td>\n",
       "      <td>999.0</td>\n",
       "      <td>999.0</td>\n",
       "      <td>138.0</td>\n",
       "      <td>70.0</td>\n",
       "      <td>72.0</td>\n",
       "      <td>1.0</td>\n",
       "      <td>1.0</td>\n",
       "      <td>1.0</td>\n",
       "      <td>1.0</td>\n",
       "      <td>0.0</td>\n",
       "      <td>OAS30001_UDSb4_d0000</td>\n",
       "      <td>Cognitively normal</td>\n",
       "    </tr>\n",
       "    <tr>\n",
       "      <th>1</th>\n",
       "      <td>OAS30001</td>\n",
       "      <td>OAS30001_UDSb1_d0339</td>\n",
       "      <td>339.0</td>\n",
       "      <td>66.12</td>\n",
       "      <td>155.0</td>\n",
       "      <td>64.0</td>\n",
       "      <td>138.0</td>\n",
       "      <td>72.0</td>\n",
       "      <td>78.0</td>\n",
       "      <td>0.0</td>\n",
       "      <td>1.0</td>\n",
       "      <td>1.0</td>\n",
       "      <td>1.0</td>\n",
       "      <td>0.0</td>\n",
       "      <td>OAS30001_UDSb4_d0339</td>\n",
       "      <td>Cognitively normal</td>\n",
       "    </tr>\n",
       "    <tr>\n",
       "      <th>2</th>\n",
       "      <td>OAS30001</td>\n",
       "      <td>OAS30001_UDSb1_d0722</td>\n",
       "      <td>722.0</td>\n",
       "      <td>67.17</td>\n",
       "      <td>162.0</td>\n",
       "      <td>64.0</td>\n",
       "      <td>144.0</td>\n",
       "      <td>80.0</td>\n",
       "      <td>60.0</td>\n",
       "      <td>0.0</td>\n",
       "      <td>1.0</td>\n",
       "      <td>1.0</td>\n",
       "      <td>1.0</td>\n",
       "      <td>0.0</td>\n",
       "      <td>OAS30001_UDSb4_d0722</td>\n",
       "      <td>Cognitively normal</td>\n",
       "    </tr>\n",
       "    <tr>\n",
       "      <th>3</th>\n",
       "      <td>OAS30001</td>\n",
       "      <td>OAS30001_UDSb1_d1106</td>\n",
       "      <td>1106.0</td>\n",
       "      <td>68.22</td>\n",
       "      <td>167.0</td>\n",
       "      <td>63.5</td>\n",
       "      <td>130.0</td>\n",
       "      <td>82.0</td>\n",
       "      <td>68.0</td>\n",
       "      <td>0.0</td>\n",
       "      <td>1.0</td>\n",
       "      <td>1.0</td>\n",
       "      <td>1.0</td>\n",
       "      <td>0.0</td>\n",
       "      <td>OAS30001_UDSb4_d1106</td>\n",
       "      <td>Cognitively normal</td>\n",
       "    </tr>\n",
       "    <tr>\n",
       "      <th>4</th>\n",
       "      <td>OAS30001</td>\n",
       "      <td>OAS30001_UDSb1_d1456</td>\n",
       "      <td>1456.0</td>\n",
       "      <td>69.18</td>\n",
       "      <td>173.0</td>\n",
       "      <td>63.5</td>\n",
       "      <td>142.0</td>\n",
       "      <td>70.0</td>\n",
       "      <td>72.0</td>\n",
       "      <td>1.0</td>\n",
       "      <td>1.0</td>\n",
       "      <td>1.0</td>\n",
       "      <td>1.0</td>\n",
       "      <td>0.0</td>\n",
       "      <td>OAS30001_UDSb4_d1456</td>\n",
       "      <td>Cognitively normal</td>\n",
       "    </tr>\n",
       "  </tbody>\n",
       "</table>\n",
       "</div>"
      ],
      "text/plain": [
       "    OASISID OASIS_session_label_x  days_to_visit  age at visit  WEIGHT  \\\n",
       "0  OAS30001  OAS30001_UDSb1_d0000            0.0         65.19   999.0   \n",
       "1  OAS30001  OAS30001_UDSb1_d0339          339.0         66.12   155.0   \n",
       "2  OAS30001  OAS30001_UDSb1_d0722          722.0         67.17   162.0   \n",
       "3  OAS30001  OAS30001_UDSb1_d1106         1106.0         68.22   167.0   \n",
       "4  OAS30001  OAS30001_UDSb1_d1456         1456.0         69.18   173.0   \n",
       "\n",
       "   HEIGHT  BPSYS  BPDIAS  HRATE  VISION  VISCORR  VISWCORR  HEARING  HEARAID  \\\n",
       "0   999.0  138.0    70.0   72.0     1.0      1.0       1.0      1.0      0.0   \n",
       "1    64.0  138.0    72.0   78.0     0.0      1.0       1.0      1.0      0.0   \n",
       "2    64.0  144.0    80.0   60.0     0.0      1.0       1.0      1.0      0.0   \n",
       "3    63.5  130.0    82.0   68.0     0.0      1.0       1.0      1.0      0.0   \n",
       "4    63.5  142.0    70.0   72.0     1.0      1.0       1.0      1.0      0.0   \n",
       "\n",
       "  OASIS_session_label_y                 dx1  \n",
       "0  OAS30001_UDSb4_d0000  Cognitively normal  \n",
       "1  OAS30001_UDSb4_d0339  Cognitively normal  \n",
       "2  OAS30001_UDSb4_d0722  Cognitively normal  \n",
       "3  OAS30001_UDSb4_d1106  Cognitively normal  \n",
       "4  OAS30001_UDSb4_d1456  Cognitively normal  "
      ]
     },
     "execution_count": 25,
     "metadata": {},
     "output_type": "execute_result"
    }
   ],
   "source": [
    "df_final.head()"
   ]
  },
  {
   "cell_type": "code",
   "execution_count": 26,
   "metadata": {},
   "outputs": [],
   "source": [
    "# store df_final as a csv file\n",
    "df_final.to_csv('OASIS3_UDSb1_merged.csv', index=False)"
   ]
  },
  {
   "cell_type": "code",
   "execution_count": 27,
   "metadata": {},
   "outputs": [
    {
     "data": {
      "application/vnd.jupyter.widget-view+json": {
       "model_id": "fb2a80c71b3841da8a1f6c5ce24724c4",
       "version_major": 2,
       "version_minor": 0
      },
      "text/plain": [
       "Summarize dataset:   0%|          | 0/5 [00:00<?, ?it/s]"
      ]
     },
     "metadata": {},
     "output_type": "display_data"
    },
    {
     "data": {
      "application/vnd.jupyter.widget-view+json": {
       "model_id": "6115f705737343349b4536dc634e5579",
       "version_major": 2,
       "version_minor": 0
      },
      "text/plain": [
       "Generate report structure:   0%|          | 0/1 [00:00<?, ?it/s]"
      ]
     },
     "metadata": {},
     "output_type": "display_data"
    },
    {
     "data": {
      "application/vnd.jupyter.widget-view+json": {
       "model_id": "dfe919e3025c4a53925b6cfb194c061c",
       "version_major": 2,
       "version_minor": 0
      },
      "text/plain": [
       "Render HTML:   0%|          | 0/1 [00:00<?, ?it/s]"
      ]
     },
     "metadata": {},
     "output_type": "display_data"
    },
    {
     "data": {
      "application/vnd.jupyter.widget-view+json": {
       "model_id": "487161fbd81749f3ae457c974c3480f8",
       "version_major": 2,
       "version_minor": 0
      },
      "text/plain": [
       "Export report to file:   0%|          | 0/1 [00:00<?, ?it/s]"
      ]
     },
     "metadata": {},
     "output_type": "display_data"
    }
   ],
   "source": [
    "# # Import the necessary module\n",
    "# from ydata_profiling import ProfileReport\n",
    "\n",
    "# # Create a ProfileReport object\n",
    "# report = ProfileReport(df)\n",
    "\n",
    "# # Generate the data profiling report\n",
    "# report.to_file('merged_report.html')"
   ]
  },
  {
   "cell_type": "code",
   "execution_count": null,
   "metadata": {},
   "outputs": [],
   "source": [
    "# split the data into train and test sets\n",
    "from sklearn.model_selection import train_test_split\n",
    "\n",
    "x = df_final.drop('dx1', axis=1)\n",
    "y = df_final['dx1']\n",
    "\n",
    "x_train, x_test, y_train, y_test = train_test_split(x, y, test_size=0.3, random_state=42)"
   ]
  }
 ],
 "metadata": {
  "kernelspec": {
   "display_name": "Python 3",
   "language": "python",
   "name": "python3"
  },
  "language_info": {
   "codemirror_mode": {
    "name": "ipython",
    "version": 3
   },
   "file_extension": ".py",
   "mimetype": "text/x-python",
   "name": "python",
   "nbconvert_exporter": "python",
   "pygments_lexer": "ipython3",
   "version": "3.11.2"
  }
 },
 "nbformat": 4,
 "nbformat_minor": 2
}
