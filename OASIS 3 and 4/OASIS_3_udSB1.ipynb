{
 "cells": [
  {
   "cell_type": "markdown",
   "metadata": {},
   "source": [
    "### UDsb1 Physical Eval"
   ]
  },
  {
   "cell_type": "markdown",
   "metadata": {},
   "source": [
    "#### Preprocessing"
   ]
  },
  {
   "cell_type": "code",
   "execution_count": 1,
   "metadata": {},
   "outputs": [],
   "source": [
    "import pandas as pd\n",
    "import numpy as np"
   ]
  },
  {
   "cell_type": "code",
   "execution_count": 2,
   "metadata": {},
   "outputs": [],
   "source": [
    "df = pd.read_csv(\"OASIS3_UDSb1_physical_eval.csv\")"
   ]
  },
  {
   "cell_type": "code",
   "execution_count": 3,
   "metadata": {},
   "outputs": [],
   "source": [
    "# # Import the necessary module\n",
    "# from ydata_profiling import ProfileReport\n",
    "\n",
    "# # Create a ProfileReport object\n",
    "# report = ProfileReport(df)\n",
    "\n",
    "# # Generate the data profiling report\n",
    "# report.to_file('oasis_3_report.html')"
   ]
  },
  {
   "cell_type": "code",
   "execution_count": 4,
   "metadata": {},
   "outputs": [
    {
     "data": {
      "text/plain": [
       "OASISID                   0\n",
       "OASIS_session_label       0\n",
       "days_to_visit             0\n",
       "age at visit              0\n",
       "WEIGHT                 1003\n",
       "HEIGHT                 1763\n",
       "BPSYS                  1027\n",
       "BPDIAS                 1034\n",
       "HRATE                  1859\n",
       "VISION                 1848\n",
       "VISCORR                1850\n",
       "VISWCORR               3159\n",
       "HEARING                1849\n",
       "HEARAID                1858\n",
       "HEARWAID               7442\n",
       "dtype: int64"
      ]
     },
     "execution_count": 4,
     "metadata": {},
     "output_type": "execute_result"
    }
   ],
   "source": [
    "df.isnull().sum()"
   ]
  },
  {
   "cell_type": "code",
   "execution_count": 5,
   "metadata": {},
   "outputs": [
    {
     "data": {
      "text/plain": [
       "(8626, 15)"
      ]
     },
     "execution_count": 5,
     "metadata": {},
     "output_type": "execute_result"
    }
   ],
   "source": [
    "df.shape"
   ]
  },
  {
   "cell_type": "code",
   "execution_count": 6,
   "metadata": {},
   "outputs": [],
   "source": [
    "df.drop('HEARWAID', axis=1, inplace=True)"
   ]
  },
  {
   "cell_type": "code",
   "execution_count": 7,
   "metadata": {},
   "outputs": [
    {
     "name": "stderr",
     "output_type": "stream",
     "text": [
      "C:\\Users\\Ananya\\AppData\\Local\\Temp\\ipykernel_29192\\3216825617.py:2: FutureWarning: The default value of numeric_only in DataFrame.mean is deprecated. In a future version, it will default to False. In addition, specifying 'numeric_only=None' is deprecated. Select only valid columns or specify the value of numeric_only to silence this warning.\n",
      "  df.fillna(df.mean(), inplace=True)\n"
     ]
    }
   ],
   "source": [
    "# impute the missing values to the mean of the column\n",
    "df.fillna(df.mean(), inplace=True)"
   ]
  },
  {
   "cell_type": "code",
   "execution_count": 8,
   "metadata": {},
   "outputs": [
    {
     "data": {
      "text/plain": [
       "OASISID                0\n",
       "OASIS_session_label    0\n",
       "days_to_visit          0\n",
       "age at visit           0\n",
       "WEIGHT                 0\n",
       "HEIGHT                 0\n",
       "BPSYS                  0\n",
       "BPDIAS                 0\n",
       "HRATE                  0\n",
       "VISION                 0\n",
       "VISCORR                0\n",
       "VISWCORR               0\n",
       "HEARING                0\n",
       "HEARAID                0\n",
       "dtype: int64"
      ]
     },
     "execution_count": 8,
     "metadata": {},
     "output_type": "execute_result"
    }
   ],
   "source": [
    "df.isnull().sum()"
   ]
  },
  {
   "cell_type": "code",
   "execution_count": 9,
   "metadata": {},
   "outputs": [
    {
     "name": "stdout",
     "output_type": "stream",
     "text": [
      "<class 'pandas.core.frame.DataFrame'>\n",
      "RangeIndex: 8626 entries, 0 to 8625\n",
      "Data columns (total 14 columns):\n",
      " #   Column               Non-Null Count  Dtype  \n",
      "---  ------               --------------  -----  \n",
      " 0   OASISID              8626 non-null   object \n",
      " 1   OASIS_session_label  8626 non-null   object \n",
      " 2   days_to_visit        8626 non-null   int64  \n",
      " 3   age at visit         8626 non-null   float64\n",
      " 4   WEIGHT               8626 non-null   float64\n",
      " 5   HEIGHT               8626 non-null   float64\n",
      " 6   BPSYS                8626 non-null   float64\n",
      " 7   BPDIAS               8626 non-null   float64\n",
      " 8   HRATE                8626 non-null   float64\n",
      " 9   VISION               8626 non-null   float64\n",
      " 10  VISCORR              8626 non-null   float64\n",
      " 11  VISWCORR             8626 non-null   float64\n",
      " 12  HEARING              8626 non-null   float64\n",
      " 13  HEARAID              8626 non-null   float64\n",
      "dtypes: float64(11), int64(1), object(2)\n",
      "memory usage: 943.6+ KB\n"
     ]
    }
   ],
   "source": [
    "df.info()"
   ]
  },
  {
   "cell_type": "code",
   "execution_count": 10,
   "metadata": {},
   "outputs": [],
   "source": [
    "# convert days_to_visit to float\n",
    "df['days_to_visit'] = df['days_to_visit'].astype(float)"
   ]
  },
  {
   "cell_type": "code",
   "execution_count": 11,
   "metadata": {},
   "outputs": [
    {
     "name": "stdout",
     "output_type": "stream",
     "text": [
      "<class 'pandas.core.frame.DataFrame'>\n",
      "RangeIndex: 8626 entries, 0 to 8625\n",
      "Data columns (total 14 columns):\n",
      " #   Column               Non-Null Count  Dtype  \n",
      "---  ------               --------------  -----  \n",
      " 0   OASISID              8626 non-null   object \n",
      " 1   OASIS_session_label  8626 non-null   object \n",
      " 2   days_to_visit        8626 non-null   float64\n",
      " 3   age at visit         8626 non-null   float64\n",
      " 4   WEIGHT               8626 non-null   float64\n",
      " 5   HEIGHT               8626 non-null   float64\n",
      " 6   BPSYS                8626 non-null   float64\n",
      " 7   BPDIAS               8626 non-null   float64\n",
      " 8   HRATE                8626 non-null   float64\n",
      " 9   VISION               8626 non-null   float64\n",
      " 10  VISCORR              8626 non-null   float64\n",
      " 11  VISWCORR             8626 non-null   float64\n",
      " 12  HEARING              8626 non-null   float64\n",
      " 13  HEARAID              8626 non-null   float64\n",
      "dtypes: float64(12), object(2)\n",
      "memory usage: 943.6+ KB\n"
     ]
    }
   ],
   "source": [
    "df.info()"
   ]
  },
  {
   "cell_type": "markdown",
   "metadata": {},
   "source": [
    "### Taking dx1 column from b4"
   ]
  },
  {
   "cell_type": "markdown",
   "metadata": {},
   "source": [
    "#### Preprocessing"
   ]
  },
  {
   "cell_type": "code",
   "execution_count": 12,
   "metadata": {},
   "outputs": [],
   "source": [
    "df2 = pd.read_csv(\"OASIS3_UDSb4_cdr.csv\")"
   ]
  },
  {
   "cell_type": "code",
   "execution_count": 13,
   "metadata": {},
   "outputs": [
    {
     "data": {
      "text/plain": [
       "(8626, 23)"
      ]
     },
     "execution_count": 13,
     "metadata": {},
     "output_type": "execute_result"
    }
   ],
   "source": [
    "df2.shape"
   ]
  },
  {
   "cell_type": "markdown",
   "metadata": {},
   "source": [
    "##### Checking Skewness"
   ]
  },
  {
   "cell_type": "code",
   "execution_count": 14,
   "metadata": {},
   "outputs": [],
   "source": [
    "# %matplotlib inline\n",
    "\n",
    "# import matplotlib.pyplot as plt\n",
    "\n",
    "# # Your plotting code here\n",
    "\n",
    "# plt.show()  # Display the plot in the Jupyter Notebook output\n"
   ]
  },
  {
   "cell_type": "code",
   "execution_count": 15,
   "metadata": {},
   "outputs": [],
   "source": [
    "# create a new dataframe with only the columns we need\n",
    "df2 = df2[['OASIS_session_label', 'dx1']]\n"
   ]
  },
  {
   "cell_type": "code",
   "execution_count": 16,
   "metadata": {},
   "outputs": [
    {
     "data": {
      "text/html": [
       "<div>\n",
       "<style scoped>\n",
       "    .dataframe tbody tr th:only-of-type {\n",
       "        vertical-align: middle;\n",
       "    }\n",
       "\n",
       "    .dataframe tbody tr th {\n",
       "        vertical-align: top;\n",
       "    }\n",
       "\n",
       "    .dataframe thead th {\n",
       "        text-align: right;\n",
       "    }\n",
       "</style>\n",
       "<table border=\"1\" class=\"dataframe\">\n",
       "  <thead>\n",
       "    <tr style=\"text-align: right;\">\n",
       "      <th></th>\n",
       "      <th>OASISID</th>\n",
       "      <th>OASIS_session_label</th>\n",
       "      <th>days_to_visit</th>\n",
       "      <th>age at visit</th>\n",
       "      <th>WEIGHT</th>\n",
       "      <th>HEIGHT</th>\n",
       "      <th>BPSYS</th>\n",
       "      <th>BPDIAS</th>\n",
       "      <th>HRATE</th>\n",
       "      <th>VISION</th>\n",
       "      <th>VISCORR</th>\n",
       "      <th>VISWCORR</th>\n",
       "      <th>HEARING</th>\n",
       "      <th>HEARAID</th>\n",
       "    </tr>\n",
       "  </thead>\n",
       "  <tbody>\n",
       "    <tr>\n",
       "      <th>0</th>\n",
       "      <td>OAS30001</td>\n",
       "      <td>OAS30001_UDSb1_d0000</td>\n",
       "      <td>0.0</td>\n",
       "      <td>65.19</td>\n",
       "      <td>999.0</td>\n",
       "      <td>999.0</td>\n",
       "      <td>138.0</td>\n",
       "      <td>70.0</td>\n",
       "      <td>72.0</td>\n",
       "      <td>1.0</td>\n",
       "      <td>1.0</td>\n",
       "      <td>1.0</td>\n",
       "      <td>1.0</td>\n",
       "      <td>0.0</td>\n",
       "    </tr>\n",
       "    <tr>\n",
       "      <th>1</th>\n",
       "      <td>OAS30001</td>\n",
       "      <td>OAS30001_UDSb1_d0339</td>\n",
       "      <td>339.0</td>\n",
       "      <td>66.12</td>\n",
       "      <td>155.0</td>\n",
       "      <td>64.0</td>\n",
       "      <td>138.0</td>\n",
       "      <td>72.0</td>\n",
       "      <td>78.0</td>\n",
       "      <td>0.0</td>\n",
       "      <td>1.0</td>\n",
       "      <td>1.0</td>\n",
       "      <td>1.0</td>\n",
       "      <td>0.0</td>\n",
       "    </tr>\n",
       "    <tr>\n",
       "      <th>2</th>\n",
       "      <td>OAS30001</td>\n",
       "      <td>OAS30001_UDSb1_d0722</td>\n",
       "      <td>722.0</td>\n",
       "      <td>67.17</td>\n",
       "      <td>162.0</td>\n",
       "      <td>64.0</td>\n",
       "      <td>144.0</td>\n",
       "      <td>80.0</td>\n",
       "      <td>60.0</td>\n",
       "      <td>0.0</td>\n",
       "      <td>1.0</td>\n",
       "      <td>1.0</td>\n",
       "      <td>1.0</td>\n",
       "      <td>0.0</td>\n",
       "    </tr>\n",
       "    <tr>\n",
       "      <th>3</th>\n",
       "      <td>OAS30001</td>\n",
       "      <td>OAS30001_UDSb1_d1106</td>\n",
       "      <td>1106.0</td>\n",
       "      <td>68.22</td>\n",
       "      <td>167.0</td>\n",
       "      <td>63.5</td>\n",
       "      <td>130.0</td>\n",
       "      <td>82.0</td>\n",
       "      <td>68.0</td>\n",
       "      <td>0.0</td>\n",
       "      <td>1.0</td>\n",
       "      <td>1.0</td>\n",
       "      <td>1.0</td>\n",
       "      <td>0.0</td>\n",
       "    </tr>\n",
       "    <tr>\n",
       "      <th>4</th>\n",
       "      <td>OAS30001</td>\n",
       "      <td>OAS30001_UDSb1_d1456</td>\n",
       "      <td>1456.0</td>\n",
       "      <td>69.18</td>\n",
       "      <td>173.0</td>\n",
       "      <td>63.5</td>\n",
       "      <td>142.0</td>\n",
       "      <td>70.0</td>\n",
       "      <td>72.0</td>\n",
       "      <td>1.0</td>\n",
       "      <td>1.0</td>\n",
       "      <td>1.0</td>\n",
       "      <td>1.0</td>\n",
       "      <td>0.0</td>\n",
       "    </tr>\n",
       "  </tbody>\n",
       "</table>\n",
       "</div>"
      ],
      "text/plain": [
       "    OASISID   OASIS_session_label  days_to_visit  age at visit  WEIGHT  \\\n",
       "0  OAS30001  OAS30001_UDSb1_d0000            0.0         65.19   999.0   \n",
       "1  OAS30001  OAS30001_UDSb1_d0339          339.0         66.12   155.0   \n",
       "2  OAS30001  OAS30001_UDSb1_d0722          722.0         67.17   162.0   \n",
       "3  OAS30001  OAS30001_UDSb1_d1106         1106.0         68.22   167.0   \n",
       "4  OAS30001  OAS30001_UDSb1_d1456         1456.0         69.18   173.0   \n",
       "\n",
       "   HEIGHT  BPSYS  BPDIAS  HRATE  VISION  VISCORR  VISWCORR  HEARING  HEARAID  \n",
       "0   999.0  138.0    70.0   72.0     1.0      1.0       1.0      1.0      0.0  \n",
       "1    64.0  138.0    72.0   78.0     0.0      1.0       1.0      1.0      0.0  \n",
       "2    64.0  144.0    80.0   60.0     0.0      1.0       1.0      1.0      0.0  \n",
       "3    63.5  130.0    82.0   68.0     0.0      1.0       1.0      1.0      0.0  \n",
       "4    63.5  142.0    70.0   72.0     1.0      1.0       1.0      1.0      0.0  "
      ]
     },
     "execution_count": 16,
     "metadata": {},
     "output_type": "execute_result"
    }
   ],
   "source": [
    "df.head()"
   ]
  },
  {
   "cell_type": "markdown",
   "metadata": {},
   "source": [
    "##### Merging"
   ]
  },
  {
   "cell_type": "code",
   "execution_count": 17,
   "metadata": {},
   "outputs": [],
   "source": [
    "# merge df and df2 based on last 5 character in OASIS_session_label\n",
    "df_final = pd.merge(df, df2, left_on='OASIS_session_label', right_on='OASIS_session_label', how='left')"
   ]
  },
  {
   "cell_type": "code",
   "execution_count": 18,
   "metadata": {},
   "outputs": [
    {
     "name": "stdout",
     "output_type": "stream",
     "text": [
      "<class 'pandas.core.frame.DataFrame'>\n",
      "Int64Index: 8626 entries, 0 to 8625\n",
      "Data columns (total 15 columns):\n",
      " #   Column               Non-Null Count  Dtype  \n",
      "---  ------               --------------  -----  \n",
      " 0   OASISID              8626 non-null   object \n",
      " 1   OASIS_session_label  8626 non-null   object \n",
      " 2   days_to_visit        8626 non-null   float64\n",
      " 3   age at visit         8626 non-null   float64\n",
      " 4   WEIGHT               8626 non-null   float64\n",
      " 5   HEIGHT               8626 non-null   float64\n",
      " 6   BPSYS                8626 non-null   float64\n",
      " 7   BPDIAS               8626 non-null   float64\n",
      " 8   HRATE                8626 non-null   float64\n",
      " 9   VISION               8626 non-null   float64\n",
      " 10  VISCORR              8626 non-null   float64\n",
      " 11  VISWCORR             8626 non-null   float64\n",
      " 12  HEARING              8626 non-null   float64\n",
      " 13  HEARAID              8626 non-null   float64\n",
      " 14  dx1                  0 non-null      object \n",
      "dtypes: float64(12), object(3)\n",
      "memory usage: 1.1+ MB\n"
     ]
    }
   ],
   "source": [
    "df_final.info()"
   ]
  },
  {
   "cell_type": "code",
   "execution_count": 19,
   "metadata": {},
   "outputs": [],
   "source": [
    "df_final.drop('OASISID', axis=1, inplace=True)"
   ]
  },
  {
   "cell_type": "code",
   "execution_count": 20,
   "metadata": {},
   "outputs": [
    {
     "data": {
      "text/html": [
       "<div>\n",
       "<style scoped>\n",
       "    .dataframe tbody tr th:only-of-type {\n",
       "        vertical-align: middle;\n",
       "    }\n",
       "\n",
       "    .dataframe tbody tr th {\n",
       "        vertical-align: top;\n",
       "    }\n",
       "\n",
       "    .dataframe thead th {\n",
       "        text-align: right;\n",
       "    }\n",
       "</style>\n",
       "<table border=\"1\" class=\"dataframe\">\n",
       "  <thead>\n",
       "    <tr style=\"text-align: right;\">\n",
       "      <th></th>\n",
       "      <th>OASIS_session_label</th>\n",
       "      <th>days_to_visit</th>\n",
       "      <th>age at visit</th>\n",
       "      <th>WEIGHT</th>\n",
       "      <th>HEIGHT</th>\n",
       "      <th>BPSYS</th>\n",
       "      <th>BPDIAS</th>\n",
       "      <th>HRATE</th>\n",
       "      <th>VISION</th>\n",
       "      <th>VISCORR</th>\n",
       "      <th>VISWCORR</th>\n",
       "      <th>HEARING</th>\n",
       "      <th>HEARAID</th>\n",
       "      <th>dx1</th>\n",
       "    </tr>\n",
       "  </thead>\n",
       "  <tbody>\n",
       "    <tr>\n",
       "      <th>0</th>\n",
       "      <td>OAS30001_UDSb1_d0000</td>\n",
       "      <td>0.0</td>\n",
       "      <td>65.19</td>\n",
       "      <td>999.0</td>\n",
       "      <td>999.0</td>\n",
       "      <td>138.0</td>\n",
       "      <td>70.0</td>\n",
       "      <td>72.0</td>\n",
       "      <td>1.0</td>\n",
       "      <td>1.0</td>\n",
       "      <td>1.0</td>\n",
       "      <td>1.0</td>\n",
       "      <td>0.0</td>\n",
       "      <td>NaN</td>\n",
       "    </tr>\n",
       "    <tr>\n",
       "      <th>1</th>\n",
       "      <td>OAS30001_UDSb1_d0339</td>\n",
       "      <td>339.0</td>\n",
       "      <td>66.12</td>\n",
       "      <td>155.0</td>\n",
       "      <td>64.0</td>\n",
       "      <td>138.0</td>\n",
       "      <td>72.0</td>\n",
       "      <td>78.0</td>\n",
       "      <td>0.0</td>\n",
       "      <td>1.0</td>\n",
       "      <td>1.0</td>\n",
       "      <td>1.0</td>\n",
       "      <td>0.0</td>\n",
       "      <td>NaN</td>\n",
       "    </tr>\n",
       "    <tr>\n",
       "      <th>2</th>\n",
       "      <td>OAS30001_UDSb1_d0722</td>\n",
       "      <td>722.0</td>\n",
       "      <td>67.17</td>\n",
       "      <td>162.0</td>\n",
       "      <td>64.0</td>\n",
       "      <td>144.0</td>\n",
       "      <td>80.0</td>\n",
       "      <td>60.0</td>\n",
       "      <td>0.0</td>\n",
       "      <td>1.0</td>\n",
       "      <td>1.0</td>\n",
       "      <td>1.0</td>\n",
       "      <td>0.0</td>\n",
       "      <td>NaN</td>\n",
       "    </tr>\n",
       "    <tr>\n",
       "      <th>3</th>\n",
       "      <td>OAS30001_UDSb1_d1106</td>\n",
       "      <td>1106.0</td>\n",
       "      <td>68.22</td>\n",
       "      <td>167.0</td>\n",
       "      <td>63.5</td>\n",
       "      <td>130.0</td>\n",
       "      <td>82.0</td>\n",
       "      <td>68.0</td>\n",
       "      <td>0.0</td>\n",
       "      <td>1.0</td>\n",
       "      <td>1.0</td>\n",
       "      <td>1.0</td>\n",
       "      <td>0.0</td>\n",
       "      <td>NaN</td>\n",
       "    </tr>\n",
       "    <tr>\n",
       "      <th>4</th>\n",
       "      <td>OAS30001_UDSb1_d1456</td>\n",
       "      <td>1456.0</td>\n",
       "      <td>69.18</td>\n",
       "      <td>173.0</td>\n",
       "      <td>63.5</td>\n",
       "      <td>142.0</td>\n",
       "      <td>70.0</td>\n",
       "      <td>72.0</td>\n",
       "      <td>1.0</td>\n",
       "      <td>1.0</td>\n",
       "      <td>1.0</td>\n",
       "      <td>1.0</td>\n",
       "      <td>0.0</td>\n",
       "      <td>NaN</td>\n",
       "    </tr>\n",
       "  </tbody>\n",
       "</table>\n",
       "</div>"
      ],
      "text/plain": [
       "    OASIS_session_label  days_to_visit  age at visit  WEIGHT  HEIGHT  BPSYS  \\\n",
       "0  OAS30001_UDSb1_d0000            0.0         65.19   999.0   999.0  138.0   \n",
       "1  OAS30001_UDSb1_d0339          339.0         66.12   155.0    64.0  138.0   \n",
       "2  OAS30001_UDSb1_d0722          722.0         67.17   162.0    64.0  144.0   \n",
       "3  OAS30001_UDSb1_d1106         1106.0         68.22   167.0    63.5  130.0   \n",
       "4  OAS30001_UDSb1_d1456         1456.0         69.18   173.0    63.5  142.0   \n",
       "\n",
       "   BPDIAS  HRATE  VISION  VISCORR  VISWCORR  HEARING  HEARAID  dx1  \n",
       "0    70.0   72.0     1.0      1.0       1.0      1.0      0.0  NaN  \n",
       "1    72.0   78.0     0.0      1.0       1.0      1.0      0.0  NaN  \n",
       "2    80.0   60.0     0.0      1.0       1.0      1.0      0.0  NaN  \n",
       "3    82.0   68.0     0.0      1.0       1.0      1.0      0.0  NaN  \n",
       "4    70.0   72.0     1.0      1.0       1.0      1.0      0.0  NaN  "
      ]
     },
     "execution_count": 20,
     "metadata": {},
     "output_type": "execute_result"
    }
   ],
   "source": [
    "df_final.head()"
   ]
  },
  {
   "cell_type": "code",
   "execution_count": 21,
   "metadata": {},
   "outputs": [],
   "source": [
    "# split the data into train and test sets\n",
    "from sklearn.model_selection import train_test_split\n",
    "\n",
    "x = df_final.drop('dx1', axis=1)\n",
    "y = df_final['dx1']\n",
    "\n",
    "x_train, x_test, y_train, y_test = train_test_split(x, y, test_size=0.3, random_state=42)"
   ]
  }
 ],
 "metadata": {
  "kernelspec": {
   "display_name": "Python 3",
   "language": "python",
   "name": "python3"
  },
  "language_info": {
   "codemirror_mode": {
    "name": "ipython",
    "version": 3
   },
   "file_extension": ".py",
   "mimetype": "text/x-python",
   "name": "python",
   "nbconvert_exporter": "python",
   "pygments_lexer": "ipython3",
   "version": "3.11.2"
  }
 },
 "nbformat": 4,
 "nbformat_minor": 2
}
