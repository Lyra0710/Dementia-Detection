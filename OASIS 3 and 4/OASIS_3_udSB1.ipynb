{
 "cells": [
  {
   "cell_type": "markdown",
   "metadata": {},
   "source": [
    "### UDsb1 Physical Eval"
   ]
  },
  {
   "cell_type": "markdown",
   "metadata": {},
   "source": [
    "#### Preprocessing"
   ]
  },
  {
   "cell_type": "code",
   "execution_count": 33,
   "metadata": {},
   "outputs": [],
   "source": [
    "import pandas as pd\n",
    "import numpy as np"
   ]
  },
  {
   "cell_type": "code",
   "execution_count": 34,
   "metadata": {},
   "outputs": [],
   "source": [
    "df = pd.read_csv(\"OASIS3_UDSb1_physical_eval.csv\")"
   ]
  },
  {
   "cell_type": "code",
   "execution_count": 35,
   "metadata": {},
   "outputs": [],
   "source": [
    "# # Import the necessary module\n",
    "# from ydata_profiling import ProfileReport\n",
    "\n",
    "# # Create a ProfileReport object\n",
    "# report = ProfileReport(df)\n",
    "\n",
    "# # Generate the data profiling report\n",
    "# report.to_file('oasis_3_report.html')"
   ]
  },
  {
   "cell_type": "code",
   "execution_count": 36,
   "metadata": {},
   "outputs": [
    {
     "data": {
      "text/plain": [
       "OASISID                   0\n",
       "OASIS_session_label       0\n",
       "days_to_visit             0\n",
       "age at visit              0\n",
       "WEIGHT                 1003\n",
       "HEIGHT                 1763\n",
       "BPSYS                  1027\n",
       "BPDIAS                 1034\n",
       "HRATE                  1859\n",
       "VISION                 1848\n",
       "VISCORR                1850\n",
       "VISWCORR               3159\n",
       "HEARING                1849\n",
       "HEARAID                1858\n",
       "HEARWAID               7442\n",
       "dtype: int64"
      ]
     },
     "execution_count": 36,
     "metadata": {},
     "output_type": "execute_result"
    }
   ],
   "source": [
    "df.isnull().sum()"
   ]
  },
  {
   "cell_type": "code",
   "execution_count": 37,
   "metadata": {},
   "outputs": [
    {
     "data": {
      "text/plain": [
       "(8626, 15)"
      ]
     },
     "execution_count": 37,
     "metadata": {},
     "output_type": "execute_result"
    }
   ],
   "source": [
    "df.shape"
   ]
  },
  {
   "cell_type": "code",
   "execution_count": 38,
   "metadata": {},
   "outputs": [],
   "source": [
    "df.drop('HEARWAID', axis=1, inplace=True)"
   ]
  },
  {
   "cell_type": "code",
   "execution_count": 39,
   "metadata": {},
   "outputs": [
    {
     "name": "stderr",
     "output_type": "stream",
     "text": [
      "C:\\Users\\Ananya\\AppData\\Local\\Temp\\ipykernel_22368\\3216825617.py:2: FutureWarning: The default value of numeric_only in DataFrame.mean is deprecated. In a future version, it will default to False. In addition, specifying 'numeric_only=None' is deprecated. Select only valid columns or specify the value of numeric_only to silence this warning.\n",
      "  df.fillna(df.mean(), inplace=True)\n"
     ]
    }
   ],
   "source": [
    "# impute the missing values to the mean of the column\n",
    "df.fillna(df.mean(), inplace=True)"
   ]
  },
  {
   "cell_type": "code",
   "execution_count": 40,
   "metadata": {},
   "outputs": [
    {
     "data": {
      "text/plain": [
       "OASISID                0\n",
       "OASIS_session_label    0\n",
       "days_to_visit          0\n",
       "age at visit           0\n",
       "WEIGHT                 0\n",
       "HEIGHT                 0\n",
       "BPSYS                  0\n",
       "BPDIAS                 0\n",
       "HRATE                  0\n",
       "VISION                 0\n",
       "VISCORR                0\n",
       "VISWCORR               0\n",
       "HEARING                0\n",
       "HEARAID                0\n",
       "dtype: int64"
      ]
     },
     "execution_count": 40,
     "metadata": {},
     "output_type": "execute_result"
    }
   ],
   "source": [
    "df.isnull().sum()"
   ]
  },
  {
   "cell_type": "code",
   "execution_count": 41,
   "metadata": {},
   "outputs": [
    {
     "name": "stdout",
     "output_type": "stream",
     "text": [
      "<class 'pandas.core.frame.DataFrame'>\n",
      "RangeIndex: 8626 entries, 0 to 8625\n",
      "Data columns (total 14 columns):\n",
      " #   Column               Non-Null Count  Dtype  \n",
      "---  ------               --------------  -----  \n",
      " 0   OASISID              8626 non-null   object \n",
      " 1   OASIS_session_label  8626 non-null   object \n",
      " 2   days_to_visit        8626 non-null   int64  \n",
      " 3   age at visit         8626 non-null   float64\n",
      " 4   WEIGHT               8626 non-null   float64\n",
      " 5   HEIGHT               8626 non-null   float64\n",
      " 6   BPSYS                8626 non-null   float64\n",
      " 7   BPDIAS               8626 non-null   float64\n",
      " 8   HRATE                8626 non-null   float64\n",
      " 9   VISION               8626 non-null   float64\n",
      " 10  VISCORR              8626 non-null   float64\n",
      " 11  VISWCORR             8626 non-null   float64\n",
      " 12  HEARING              8626 non-null   float64\n",
      " 13  HEARAID              8626 non-null   float64\n",
      "dtypes: float64(11), int64(1), object(2)\n",
      "memory usage: 943.6+ KB\n"
     ]
    }
   ],
   "source": [
    "df.info()"
   ]
  },
  {
   "cell_type": "code",
   "execution_count": 42,
   "metadata": {},
   "outputs": [],
   "source": [
    "# convert days_to_visit to float\n",
    "df['days_to_visit'] = df['days_to_visit'].astype(float)"
   ]
  },
  {
   "cell_type": "code",
   "execution_count": 43,
   "metadata": {},
   "outputs": [
    {
     "name": "stdout",
     "output_type": "stream",
     "text": [
      "<class 'pandas.core.frame.DataFrame'>\n",
      "RangeIndex: 8626 entries, 0 to 8625\n",
      "Data columns (total 14 columns):\n",
      " #   Column               Non-Null Count  Dtype  \n",
      "---  ------               --------------  -----  \n",
      " 0   OASISID              8626 non-null   object \n",
      " 1   OASIS_session_label  8626 non-null   object \n",
      " 2   days_to_visit        8626 non-null   float64\n",
      " 3   age at visit         8626 non-null   float64\n",
      " 4   WEIGHT               8626 non-null   float64\n",
      " 5   HEIGHT               8626 non-null   float64\n",
      " 6   BPSYS                8626 non-null   float64\n",
      " 7   BPDIAS               8626 non-null   float64\n",
      " 8   HRATE                8626 non-null   float64\n",
      " 9   VISION               8626 non-null   float64\n",
      " 10  VISCORR              8626 non-null   float64\n",
      " 11  VISWCORR             8626 non-null   float64\n",
      " 12  HEARING              8626 non-null   float64\n",
      " 13  HEARAID              8626 non-null   float64\n",
      "dtypes: float64(12), object(2)\n",
      "memory usage: 943.6+ KB\n"
     ]
    }
   ],
   "source": [
    "df.info()"
   ]
  },
  {
   "cell_type": "markdown",
   "metadata": {},
   "source": [
    "### Taking dx1 column from b4"
   ]
  },
  {
   "cell_type": "markdown",
   "metadata": {},
   "source": [
    "#### Preprocessing"
   ]
  },
  {
   "cell_type": "code",
   "execution_count": 44,
   "metadata": {},
   "outputs": [],
   "source": [
    "df2 = pd.read_csv(\"OASIS3_UDSb4_cdr.csv\")"
   ]
  },
  {
   "cell_type": "code",
   "execution_count": 45,
   "metadata": {},
   "outputs": [
    {
     "data": {
      "text/plain": [
       "(8626, 23)"
      ]
     },
     "execution_count": 45,
     "metadata": {},
     "output_type": "execute_result"
    }
   ],
   "source": [
    "df2.shape"
   ]
  },
  {
   "cell_type": "markdown",
   "metadata": {},
   "source": [
    "##### Checking Skewness"
   ]
  },
  {
   "cell_type": "code",
   "execution_count": 46,
   "metadata": {},
   "outputs": [],
   "source": [
    "# %matplotlib inline\n",
    "\n",
    "# import matplotlib.pyplot as plt\n",
    "\n",
    "# # Your plotting code here\n",
    "\n",
    "# plt.show()  # Display the plot in the Jupyter Notebook output\n"
   ]
  },
  {
   "cell_type": "code",
   "execution_count": 47,
   "metadata": {},
   "outputs": [],
   "source": [
    "# create a new dataframe with only the columns we need\n",
    "df2 = df2[['OASIS_session_label', 'dx1']]\n"
   ]
  },
  {
   "cell_type": "code",
   "execution_count": 48,
   "metadata": {},
   "outputs": [
    {
     "name": "stdout",
     "output_type": "stream",
     "text": [
      "<class 'pandas.core.frame.DataFrame'>\n",
      "RangeIndex: 8626 entries, 0 to 8625\n",
      "Data columns (total 2 columns):\n",
      " #   Column               Non-Null Count  Dtype \n",
      "---  ------               --------------  ----- \n",
      " 0   OASIS_session_label  8626 non-null   object\n",
      " 1   dx1                  8625 non-null   object\n",
      "dtypes: object(2)\n",
      "memory usage: 134.9+ KB\n"
     ]
    }
   ],
   "source": [
    "df2.info()"
   ]
  },
  {
   "cell_type": "code",
   "execution_count": 49,
   "metadata": {},
   "outputs": [
    {
     "data": {
      "text/html": [
       "<div>\n",
       "<style scoped>\n",
       "    .dataframe tbody tr th:only-of-type {\n",
       "        vertical-align: middle;\n",
       "    }\n",
       "\n",
       "    .dataframe tbody tr th {\n",
       "        vertical-align: top;\n",
       "    }\n",
       "\n",
       "    .dataframe thead th {\n",
       "        text-align: right;\n",
       "    }\n",
       "</style>\n",
       "<table border=\"1\" class=\"dataframe\">\n",
       "  <thead>\n",
       "    <tr style=\"text-align: right;\">\n",
       "      <th></th>\n",
       "      <th>OASIS_session_label</th>\n",
       "      <th>dx1</th>\n",
       "    </tr>\n",
       "  </thead>\n",
       "  <tbody>\n",
       "    <tr>\n",
       "      <th>0</th>\n",
       "      <td>OAS30001_UDSb4_d0000</td>\n",
       "      <td>Cognitively normal</td>\n",
       "    </tr>\n",
       "    <tr>\n",
       "      <th>1</th>\n",
       "      <td>OAS30001_UDSb4_d0339</td>\n",
       "      <td>Cognitively normal</td>\n",
       "    </tr>\n",
       "    <tr>\n",
       "      <th>2</th>\n",
       "      <td>OAS30001_UDSb4_d0722</td>\n",
       "      <td>Cognitively normal</td>\n",
       "    </tr>\n",
       "    <tr>\n",
       "      <th>3</th>\n",
       "      <td>OAS30001_UDSb4_d1106</td>\n",
       "      <td>Cognitively normal</td>\n",
       "    </tr>\n",
       "    <tr>\n",
       "      <th>4</th>\n",
       "      <td>OAS30001_UDSb4_d1456</td>\n",
       "      <td>Cognitively normal</td>\n",
       "    </tr>\n",
       "  </tbody>\n",
       "</table>\n",
       "</div>"
      ],
      "text/plain": [
       "    OASIS_session_label                 dx1\n",
       "0  OAS30001_UDSb4_d0000  Cognitively normal\n",
       "1  OAS30001_UDSb4_d0339  Cognitively normal\n",
       "2  OAS30001_UDSb4_d0722  Cognitively normal\n",
       "3  OAS30001_UDSb4_d1106  Cognitively normal\n",
       "4  OAS30001_UDSb4_d1456  Cognitively normal"
      ]
     },
     "execution_count": 49,
     "metadata": {},
     "output_type": "execute_result"
    }
   ],
   "source": [
    "df2.head()"
   ]
  },
  {
   "cell_type": "code",
   "execution_count": 50,
   "metadata": {},
   "outputs": [
    {
     "data": {
      "text/html": [
       "<div>\n",
       "<style scoped>\n",
       "    .dataframe tbody tr th:only-of-type {\n",
       "        vertical-align: middle;\n",
       "    }\n",
       "\n",
       "    .dataframe tbody tr th {\n",
       "        vertical-align: top;\n",
       "    }\n",
       "\n",
       "    .dataframe thead th {\n",
       "        text-align: right;\n",
       "    }\n",
       "</style>\n",
       "<table border=\"1\" class=\"dataframe\">\n",
       "  <thead>\n",
       "    <tr style=\"text-align: right;\">\n",
       "      <th></th>\n",
       "      <th>OASISID</th>\n",
       "      <th>OASIS_session_label</th>\n",
       "      <th>days_to_visit</th>\n",
       "      <th>age at visit</th>\n",
       "      <th>WEIGHT</th>\n",
       "      <th>HEIGHT</th>\n",
       "      <th>BPSYS</th>\n",
       "      <th>BPDIAS</th>\n",
       "      <th>HRATE</th>\n",
       "      <th>VISION</th>\n",
       "      <th>VISCORR</th>\n",
       "      <th>VISWCORR</th>\n",
       "      <th>HEARING</th>\n",
       "      <th>HEARAID</th>\n",
       "    </tr>\n",
       "  </thead>\n",
       "  <tbody>\n",
       "    <tr>\n",
       "      <th>0</th>\n",
       "      <td>OAS30001</td>\n",
       "      <td>OAS30001_UDSb1_d0000</td>\n",
       "      <td>0.0</td>\n",
       "      <td>65.19</td>\n",
       "      <td>999.0</td>\n",
       "      <td>999.0</td>\n",
       "      <td>138.0</td>\n",
       "      <td>70.0</td>\n",
       "      <td>72.0</td>\n",
       "      <td>1.0</td>\n",
       "      <td>1.0</td>\n",
       "      <td>1.0</td>\n",
       "      <td>1.0</td>\n",
       "      <td>0.0</td>\n",
       "    </tr>\n",
       "    <tr>\n",
       "      <th>1</th>\n",
       "      <td>OAS30001</td>\n",
       "      <td>OAS30001_UDSb1_d0339</td>\n",
       "      <td>339.0</td>\n",
       "      <td>66.12</td>\n",
       "      <td>155.0</td>\n",
       "      <td>64.0</td>\n",
       "      <td>138.0</td>\n",
       "      <td>72.0</td>\n",
       "      <td>78.0</td>\n",
       "      <td>0.0</td>\n",
       "      <td>1.0</td>\n",
       "      <td>1.0</td>\n",
       "      <td>1.0</td>\n",
       "      <td>0.0</td>\n",
       "    </tr>\n",
       "    <tr>\n",
       "      <th>2</th>\n",
       "      <td>OAS30001</td>\n",
       "      <td>OAS30001_UDSb1_d0722</td>\n",
       "      <td>722.0</td>\n",
       "      <td>67.17</td>\n",
       "      <td>162.0</td>\n",
       "      <td>64.0</td>\n",
       "      <td>144.0</td>\n",
       "      <td>80.0</td>\n",
       "      <td>60.0</td>\n",
       "      <td>0.0</td>\n",
       "      <td>1.0</td>\n",
       "      <td>1.0</td>\n",
       "      <td>1.0</td>\n",
       "      <td>0.0</td>\n",
       "    </tr>\n",
       "    <tr>\n",
       "      <th>3</th>\n",
       "      <td>OAS30001</td>\n",
       "      <td>OAS30001_UDSb1_d1106</td>\n",
       "      <td>1106.0</td>\n",
       "      <td>68.22</td>\n",
       "      <td>167.0</td>\n",
       "      <td>63.5</td>\n",
       "      <td>130.0</td>\n",
       "      <td>82.0</td>\n",
       "      <td>68.0</td>\n",
       "      <td>0.0</td>\n",
       "      <td>1.0</td>\n",
       "      <td>1.0</td>\n",
       "      <td>1.0</td>\n",
       "      <td>0.0</td>\n",
       "    </tr>\n",
       "    <tr>\n",
       "      <th>4</th>\n",
       "      <td>OAS30001</td>\n",
       "      <td>OAS30001_UDSb1_d1456</td>\n",
       "      <td>1456.0</td>\n",
       "      <td>69.18</td>\n",
       "      <td>173.0</td>\n",
       "      <td>63.5</td>\n",
       "      <td>142.0</td>\n",
       "      <td>70.0</td>\n",
       "      <td>72.0</td>\n",
       "      <td>1.0</td>\n",
       "      <td>1.0</td>\n",
       "      <td>1.0</td>\n",
       "      <td>1.0</td>\n",
       "      <td>0.0</td>\n",
       "    </tr>\n",
       "  </tbody>\n",
       "</table>\n",
       "</div>"
      ],
      "text/plain": [
       "    OASISID   OASIS_session_label  days_to_visit  age at visit  WEIGHT  \\\n",
       "0  OAS30001  OAS30001_UDSb1_d0000            0.0         65.19   999.0   \n",
       "1  OAS30001  OAS30001_UDSb1_d0339          339.0         66.12   155.0   \n",
       "2  OAS30001  OAS30001_UDSb1_d0722          722.0         67.17   162.0   \n",
       "3  OAS30001  OAS30001_UDSb1_d1106         1106.0         68.22   167.0   \n",
       "4  OAS30001  OAS30001_UDSb1_d1456         1456.0         69.18   173.0   \n",
       "\n",
       "   HEIGHT  BPSYS  BPDIAS  HRATE  VISION  VISCORR  VISWCORR  HEARING  HEARAID  \n",
       "0   999.0  138.0    70.0   72.0     1.0      1.0       1.0      1.0      0.0  \n",
       "1    64.0  138.0    72.0   78.0     0.0      1.0       1.0      1.0      0.0  \n",
       "2    64.0  144.0    80.0   60.0     0.0      1.0       1.0      1.0      0.0  \n",
       "3    63.5  130.0    82.0   68.0     0.0      1.0       1.0      1.0      0.0  \n",
       "4    63.5  142.0    70.0   72.0     1.0      1.0       1.0      1.0      0.0  "
      ]
     },
     "execution_count": 50,
     "metadata": {},
     "output_type": "execute_result"
    }
   ],
   "source": [
    "df.head()"
   ]
  },
  {
   "cell_type": "markdown",
   "metadata": {},
   "source": [
    "##### Merging"
   ]
  },
  {
   "cell_type": "code",
   "execution_count": 51,
   "metadata": {},
   "outputs": [],
   "source": [
    "# merge the two dataframes, df and df2, on OASIS_session_label based on the first 8 characters and last 5 characters\n",
    "# Extract the first 8 characters and last 5 characters from 'OASIS_session_label' in both dataframes\n",
    "df['OASIS_session_label_first8'] = df['OASIS_session_label'].str[:8]\n",
    "df['OASIS_session_label_last5'] = df['OASIS_session_label'].str[-5:]\n",
    "df2['OASIS_session_label_first8'] = df2['OASIS_session_label'].str[:8]\n",
    "df2['OASIS_session_label_last5'] = df2['OASIS_session_label'].str[-5:]\n",
    "\n",
    "# Merge the dataframes based on the first 8 and last 5 characters\n",
    "df_final = df.merge(df2, on=['OASIS_session_label_first8', 'OASIS_session_label_last5'], how='inner')\n",
    "\n",
    "# Drop the temporary columns if needed\n",
    "df_final.drop(['OASIS_session_label_first8', 'OASIS_session_label_last5'], axis=1, inplace=True)"
   ]
  },
  {
   "cell_type": "code",
   "execution_count": 52,
   "metadata": {},
   "outputs": [
    {
     "name": "stdout",
     "output_type": "stream",
     "text": [
      "<class 'pandas.core.frame.DataFrame'>\n",
      "Int64Index: 8602 entries, 0 to 8601\n",
      "Data columns (total 16 columns):\n",
      " #   Column                 Non-Null Count  Dtype  \n",
      "---  ------                 --------------  -----  \n",
      " 0   OASISID                8602 non-null   object \n",
      " 1   OASIS_session_label_x  8602 non-null   object \n",
      " 2   days_to_visit          8602 non-null   float64\n",
      " 3   age at visit           8602 non-null   float64\n",
      " 4   WEIGHT                 8602 non-null   float64\n",
      " 5   HEIGHT                 8602 non-null   float64\n",
      " 6   BPSYS                  8602 non-null   float64\n",
      " 7   BPDIAS                 8602 non-null   float64\n",
      " 8   HRATE                  8602 non-null   float64\n",
      " 9   VISION                 8602 non-null   float64\n",
      " 10  VISCORR                8602 non-null   float64\n",
      " 11  VISWCORR               8602 non-null   float64\n",
      " 12  HEARING                8602 non-null   float64\n",
      " 13  HEARAID                8602 non-null   float64\n",
      " 14  OASIS_session_label_y  8602 non-null   object \n",
      " 15  dx1                    8601 non-null   object \n",
      "dtypes: float64(12), object(4)\n",
      "memory usage: 1.1+ MB\n"
     ]
    }
   ],
   "source": [
    "df_final.info()"
   ]
  },
  {
   "cell_type": "code",
   "execution_count": 53,
   "metadata": {},
   "outputs": [
    {
     "data": {
      "text/html": [
       "<div>\n",
       "<style scoped>\n",
       "    .dataframe tbody tr th:only-of-type {\n",
       "        vertical-align: middle;\n",
       "    }\n",
       "\n",
       "    .dataframe tbody tr th {\n",
       "        vertical-align: top;\n",
       "    }\n",
       "\n",
       "    .dataframe thead th {\n",
       "        text-align: right;\n",
       "    }\n",
       "</style>\n",
       "<table border=\"1\" class=\"dataframe\">\n",
       "  <thead>\n",
       "    <tr style=\"text-align: right;\">\n",
       "      <th></th>\n",
       "      <th>OASISID</th>\n",
       "      <th>OASIS_session_label_x</th>\n",
       "      <th>days_to_visit</th>\n",
       "      <th>age at visit</th>\n",
       "      <th>WEIGHT</th>\n",
       "      <th>HEIGHT</th>\n",
       "      <th>BPSYS</th>\n",
       "      <th>BPDIAS</th>\n",
       "      <th>HRATE</th>\n",
       "      <th>VISION</th>\n",
       "      <th>VISCORR</th>\n",
       "      <th>VISWCORR</th>\n",
       "      <th>HEARING</th>\n",
       "      <th>HEARAID</th>\n",
       "      <th>OASIS_session_label_y</th>\n",
       "      <th>dx1</th>\n",
       "    </tr>\n",
       "  </thead>\n",
       "  <tbody>\n",
       "    <tr>\n",
       "      <th>0</th>\n",
       "      <td>OAS30001</td>\n",
       "      <td>OAS30001_UDSb1_d0000</td>\n",
       "      <td>0.0</td>\n",
       "      <td>65.19</td>\n",
       "      <td>999.0</td>\n",
       "      <td>999.0</td>\n",
       "      <td>138.0</td>\n",
       "      <td>70.0</td>\n",
       "      <td>72.0</td>\n",
       "      <td>1.0</td>\n",
       "      <td>1.0</td>\n",
       "      <td>1.0</td>\n",
       "      <td>1.0</td>\n",
       "      <td>0.0</td>\n",
       "      <td>OAS30001_UDSb4_d0000</td>\n",
       "      <td>Cognitively normal</td>\n",
       "    </tr>\n",
       "    <tr>\n",
       "      <th>1</th>\n",
       "      <td>OAS30001</td>\n",
       "      <td>OAS30001_UDSb1_d0339</td>\n",
       "      <td>339.0</td>\n",
       "      <td>66.12</td>\n",
       "      <td>155.0</td>\n",
       "      <td>64.0</td>\n",
       "      <td>138.0</td>\n",
       "      <td>72.0</td>\n",
       "      <td>78.0</td>\n",
       "      <td>0.0</td>\n",
       "      <td>1.0</td>\n",
       "      <td>1.0</td>\n",
       "      <td>1.0</td>\n",
       "      <td>0.0</td>\n",
       "      <td>OAS30001_UDSb4_d0339</td>\n",
       "      <td>Cognitively normal</td>\n",
       "    </tr>\n",
       "    <tr>\n",
       "      <th>2</th>\n",
       "      <td>OAS30001</td>\n",
       "      <td>OAS30001_UDSb1_d0722</td>\n",
       "      <td>722.0</td>\n",
       "      <td>67.17</td>\n",
       "      <td>162.0</td>\n",
       "      <td>64.0</td>\n",
       "      <td>144.0</td>\n",
       "      <td>80.0</td>\n",
       "      <td>60.0</td>\n",
       "      <td>0.0</td>\n",
       "      <td>1.0</td>\n",
       "      <td>1.0</td>\n",
       "      <td>1.0</td>\n",
       "      <td>0.0</td>\n",
       "      <td>OAS30001_UDSb4_d0722</td>\n",
       "      <td>Cognitively normal</td>\n",
       "    </tr>\n",
       "    <tr>\n",
       "      <th>3</th>\n",
       "      <td>OAS30001</td>\n",
       "      <td>OAS30001_UDSb1_d1106</td>\n",
       "      <td>1106.0</td>\n",
       "      <td>68.22</td>\n",
       "      <td>167.0</td>\n",
       "      <td>63.5</td>\n",
       "      <td>130.0</td>\n",
       "      <td>82.0</td>\n",
       "      <td>68.0</td>\n",
       "      <td>0.0</td>\n",
       "      <td>1.0</td>\n",
       "      <td>1.0</td>\n",
       "      <td>1.0</td>\n",
       "      <td>0.0</td>\n",
       "      <td>OAS30001_UDSb4_d1106</td>\n",
       "      <td>Cognitively normal</td>\n",
       "    </tr>\n",
       "    <tr>\n",
       "      <th>4</th>\n",
       "      <td>OAS30001</td>\n",
       "      <td>OAS30001_UDSb1_d1456</td>\n",
       "      <td>1456.0</td>\n",
       "      <td>69.18</td>\n",
       "      <td>173.0</td>\n",
       "      <td>63.5</td>\n",
       "      <td>142.0</td>\n",
       "      <td>70.0</td>\n",
       "      <td>72.0</td>\n",
       "      <td>1.0</td>\n",
       "      <td>1.0</td>\n",
       "      <td>1.0</td>\n",
       "      <td>1.0</td>\n",
       "      <td>0.0</td>\n",
       "      <td>OAS30001_UDSb4_d1456</td>\n",
       "      <td>Cognitively normal</td>\n",
       "    </tr>\n",
       "  </tbody>\n",
       "</table>\n",
       "</div>"
      ],
      "text/plain": [
       "    OASISID OASIS_session_label_x  days_to_visit  age at visit  WEIGHT  \\\n",
       "0  OAS30001  OAS30001_UDSb1_d0000            0.0         65.19   999.0   \n",
       "1  OAS30001  OAS30001_UDSb1_d0339          339.0         66.12   155.0   \n",
       "2  OAS30001  OAS30001_UDSb1_d0722          722.0         67.17   162.0   \n",
       "3  OAS30001  OAS30001_UDSb1_d1106         1106.0         68.22   167.0   \n",
       "4  OAS30001  OAS30001_UDSb1_d1456         1456.0         69.18   173.0   \n",
       "\n",
       "   HEIGHT  BPSYS  BPDIAS  HRATE  VISION  VISCORR  VISWCORR  HEARING  HEARAID  \\\n",
       "0   999.0  138.0    70.0   72.0     1.0      1.0       1.0      1.0      0.0   \n",
       "1    64.0  138.0    72.0   78.0     0.0      1.0       1.0      1.0      0.0   \n",
       "2    64.0  144.0    80.0   60.0     0.0      1.0       1.0      1.0      0.0   \n",
       "3    63.5  130.0    82.0   68.0     0.0      1.0       1.0      1.0      0.0   \n",
       "4    63.5  142.0    70.0   72.0     1.0      1.0       1.0      1.0      0.0   \n",
       "\n",
       "  OASIS_session_label_y                 dx1  \n",
       "0  OAS30001_UDSb4_d0000  Cognitively normal  \n",
       "1  OAS30001_UDSb4_d0339  Cognitively normal  \n",
       "2  OAS30001_UDSb4_d0722  Cognitively normal  \n",
       "3  OAS30001_UDSb4_d1106  Cognitively normal  \n",
       "4  OAS30001_UDSb4_d1456  Cognitively normal  "
      ]
     },
     "execution_count": 53,
     "metadata": {},
     "output_type": "execute_result"
    }
   ],
   "source": [
    "df_final.head()"
   ]
  },
  {
   "cell_type": "code",
   "execution_count": 54,
   "metadata": {},
   "outputs": [],
   "source": [
    "# store df_final as a csv file\n",
    "df_final.to_csv('OASIS3_UDSb1_merged.csv', index=False)"
   ]
  },
  {
   "cell_type": "code",
   "execution_count": 55,
   "metadata": {},
   "outputs": [],
   "source": [
    "# # Import the necessary module\n",
    "# from ydata_profiling import ProfileReport\n",
    "\n",
    "# # Create a ProfileReport object\n",
    "# report = ProfileReport(df)\n",
    "\n",
    "# # Generate the data profiling report\n",
    "# report.to_file('merged_report.html')"
   ]
  },
  {
   "cell_type": "code",
   "execution_count": 56,
   "metadata": {},
   "outputs": [],
   "source": [
    "df_final.drop('OASIS_session_label_x', axis=1, inplace=True)"
   ]
  },
  {
   "cell_type": "code",
   "execution_count": 57,
   "metadata": {},
   "outputs": [],
   "source": [
    "df_final.drop('OASIS_session_label_y', axis=1, inplace=True)"
   ]
  },
  {
   "cell_type": "code",
   "execution_count": 58,
   "metadata": {},
   "outputs": [],
   "source": [
    "df_final.drop('OASISID', axis=1, inplace=True)"
   ]
  },
  {
   "cell_type": "code",
   "execution_count": 59,
   "metadata": {},
   "outputs": [
    {
     "data": {
      "text/html": [
       "<div>\n",
       "<style scoped>\n",
       "    .dataframe tbody tr th:only-of-type {\n",
       "        vertical-align: middle;\n",
       "    }\n",
       "\n",
       "    .dataframe tbody tr th {\n",
       "        vertical-align: top;\n",
       "    }\n",
       "\n",
       "    .dataframe thead th {\n",
       "        text-align: right;\n",
       "    }\n",
       "</style>\n",
       "<table border=\"1\" class=\"dataframe\">\n",
       "  <thead>\n",
       "    <tr style=\"text-align: right;\">\n",
       "      <th></th>\n",
       "      <th>days_to_visit</th>\n",
       "      <th>age at visit</th>\n",
       "      <th>WEIGHT</th>\n",
       "      <th>HEIGHT</th>\n",
       "      <th>BPSYS</th>\n",
       "      <th>BPDIAS</th>\n",
       "      <th>HRATE</th>\n",
       "      <th>VISION</th>\n",
       "      <th>VISCORR</th>\n",
       "      <th>VISWCORR</th>\n",
       "      <th>HEARING</th>\n",
       "      <th>HEARAID</th>\n",
       "      <th>dx1</th>\n",
       "    </tr>\n",
       "  </thead>\n",
       "  <tbody>\n",
       "    <tr>\n",
       "      <th>0</th>\n",
       "      <td>0.0</td>\n",
       "      <td>65.19</td>\n",
       "      <td>999.0</td>\n",
       "      <td>999.0</td>\n",
       "      <td>138.0</td>\n",
       "      <td>70.0</td>\n",
       "      <td>72.0</td>\n",
       "      <td>1.0</td>\n",
       "      <td>1.0</td>\n",
       "      <td>1.0</td>\n",
       "      <td>1.0</td>\n",
       "      <td>0.0</td>\n",
       "      <td>Cognitively normal</td>\n",
       "    </tr>\n",
       "    <tr>\n",
       "      <th>1</th>\n",
       "      <td>339.0</td>\n",
       "      <td>66.12</td>\n",
       "      <td>155.0</td>\n",
       "      <td>64.0</td>\n",
       "      <td>138.0</td>\n",
       "      <td>72.0</td>\n",
       "      <td>78.0</td>\n",
       "      <td>0.0</td>\n",
       "      <td>1.0</td>\n",
       "      <td>1.0</td>\n",
       "      <td>1.0</td>\n",
       "      <td>0.0</td>\n",
       "      <td>Cognitively normal</td>\n",
       "    </tr>\n",
       "    <tr>\n",
       "      <th>2</th>\n",
       "      <td>722.0</td>\n",
       "      <td>67.17</td>\n",
       "      <td>162.0</td>\n",
       "      <td>64.0</td>\n",
       "      <td>144.0</td>\n",
       "      <td>80.0</td>\n",
       "      <td>60.0</td>\n",
       "      <td>0.0</td>\n",
       "      <td>1.0</td>\n",
       "      <td>1.0</td>\n",
       "      <td>1.0</td>\n",
       "      <td>0.0</td>\n",
       "      <td>Cognitively normal</td>\n",
       "    </tr>\n",
       "    <tr>\n",
       "      <th>3</th>\n",
       "      <td>1106.0</td>\n",
       "      <td>68.22</td>\n",
       "      <td>167.0</td>\n",
       "      <td>63.5</td>\n",
       "      <td>130.0</td>\n",
       "      <td>82.0</td>\n",
       "      <td>68.0</td>\n",
       "      <td>0.0</td>\n",
       "      <td>1.0</td>\n",
       "      <td>1.0</td>\n",
       "      <td>1.0</td>\n",
       "      <td>0.0</td>\n",
       "      <td>Cognitively normal</td>\n",
       "    </tr>\n",
       "    <tr>\n",
       "      <th>4</th>\n",
       "      <td>1456.0</td>\n",
       "      <td>69.18</td>\n",
       "      <td>173.0</td>\n",
       "      <td>63.5</td>\n",
       "      <td>142.0</td>\n",
       "      <td>70.0</td>\n",
       "      <td>72.0</td>\n",
       "      <td>1.0</td>\n",
       "      <td>1.0</td>\n",
       "      <td>1.0</td>\n",
       "      <td>1.0</td>\n",
       "      <td>0.0</td>\n",
       "      <td>Cognitively normal</td>\n",
       "    </tr>\n",
       "  </tbody>\n",
       "</table>\n",
       "</div>"
      ],
      "text/plain": [
       "   days_to_visit  age at visit  WEIGHT  HEIGHT  BPSYS  BPDIAS  HRATE  VISION  \\\n",
       "0            0.0         65.19   999.0   999.0  138.0    70.0   72.0     1.0   \n",
       "1          339.0         66.12   155.0    64.0  138.0    72.0   78.0     0.0   \n",
       "2          722.0         67.17   162.0    64.0  144.0    80.0   60.0     0.0   \n",
       "3         1106.0         68.22   167.0    63.5  130.0    82.0   68.0     0.0   \n",
       "4         1456.0         69.18   173.0    63.5  142.0    70.0   72.0     1.0   \n",
       "\n",
       "   VISCORR  VISWCORR  HEARING  HEARAID                 dx1  \n",
       "0      1.0       1.0      1.0      0.0  Cognitively normal  \n",
       "1      1.0       1.0      1.0      0.0  Cognitively normal  \n",
       "2      1.0       1.0      1.0      0.0  Cognitively normal  \n",
       "3      1.0       1.0      1.0      0.0  Cognitively normal  \n",
       "4      1.0       1.0      1.0      0.0  Cognitively normal  "
      ]
     },
     "execution_count": 59,
     "metadata": {},
     "output_type": "execute_result"
    }
   ],
   "source": [
    "df_final.head()"
   ]
  },
  {
   "cell_type": "code",
   "execution_count": 60,
   "metadata": {},
   "outputs": [
    {
     "name": "stdout",
     "output_type": "stream",
     "text": [
      "<class 'pandas.core.frame.DataFrame'>\n",
      "Int64Index: 8602 entries, 0 to 8601\n",
      "Data columns (total 13 columns):\n",
      " #   Column         Non-Null Count  Dtype  \n",
      "---  ------         --------------  -----  \n",
      " 0   days_to_visit  8602 non-null   float64\n",
      " 1   age at visit   8602 non-null   float64\n",
      " 2   WEIGHT         8602 non-null   float64\n",
      " 3   HEIGHT         8602 non-null   float64\n",
      " 4   BPSYS          8602 non-null   float64\n",
      " 5   BPDIAS         8602 non-null   float64\n",
      " 6   HRATE          8602 non-null   float64\n",
      " 7   VISION         8602 non-null   float64\n",
      " 8   VISCORR        8602 non-null   float64\n",
      " 9   VISWCORR       8602 non-null   float64\n",
      " 10  HEARING        8602 non-null   float64\n",
      " 11  HEARAID        8602 non-null   float64\n",
      " 12  dx1            8601 non-null   object \n",
      "dtypes: float64(12), object(1)\n",
      "memory usage: 940.8+ KB\n"
     ]
    }
   ],
   "source": [
    "df_final.info()"
   ]
  },
  {
   "cell_type": "markdown",
   "metadata": {},
   "source": [
    "##### Encoding"
   ]
  },
  {
   "cell_type": "code",
   "execution_count": 61,
   "metadata": {},
   "outputs": [
    {
     "data": {
      "text/html": [
       "<div>\n",
       "<style scoped>\n",
       "    .dataframe tbody tr th:only-of-type {\n",
       "        vertical-align: middle;\n",
       "    }\n",
       "\n",
       "    .dataframe tbody tr th {\n",
       "        vertical-align: top;\n",
       "    }\n",
       "\n",
       "    .dataframe thead th {\n",
       "        text-align: right;\n",
       "    }\n",
       "</style>\n",
       "<table border=\"1\" class=\"dataframe\">\n",
       "  <thead>\n",
       "    <tr style=\"text-align: right;\">\n",
       "      <th></th>\n",
       "      <th>days_to_visit</th>\n",
       "      <th>age at visit</th>\n",
       "      <th>WEIGHT</th>\n",
       "      <th>HEIGHT</th>\n",
       "      <th>BPSYS</th>\n",
       "      <th>BPDIAS</th>\n",
       "      <th>HRATE</th>\n",
       "      <th>VISION</th>\n",
       "      <th>VISCORR</th>\n",
       "      <th>VISWCORR</th>\n",
       "      <th>HEARING</th>\n",
       "      <th>HEARAID</th>\n",
       "      <th>dx1</th>\n",
       "    </tr>\n",
       "  </thead>\n",
       "  <tbody>\n",
       "    <tr>\n",
       "      <th>0</th>\n",
       "      <td>0.0</td>\n",
       "      <td>65.19</td>\n",
       "      <td>999.0</td>\n",
       "      <td>999.0</td>\n",
       "      <td>138.0</td>\n",
       "      <td>70.0</td>\n",
       "      <td>72.0</td>\n",
       "      <td>1.0</td>\n",
       "      <td>1.0</td>\n",
       "      <td>1.0</td>\n",
       "      <td>1.0</td>\n",
       "      <td>0.0</td>\n",
       "      <td>25</td>\n",
       "    </tr>\n",
       "    <tr>\n",
       "      <th>1</th>\n",
       "      <td>339.0</td>\n",
       "      <td>66.12</td>\n",
       "      <td>155.0</td>\n",
       "      <td>64.0</td>\n",
       "      <td>138.0</td>\n",
       "      <td>72.0</td>\n",
       "      <td>78.0</td>\n",
       "      <td>0.0</td>\n",
       "      <td>1.0</td>\n",
       "      <td>1.0</td>\n",
       "      <td>1.0</td>\n",
       "      <td>0.0</td>\n",
       "      <td>25</td>\n",
       "    </tr>\n",
       "    <tr>\n",
       "      <th>2</th>\n",
       "      <td>722.0</td>\n",
       "      <td>67.17</td>\n",
       "      <td>162.0</td>\n",
       "      <td>64.0</td>\n",
       "      <td>144.0</td>\n",
       "      <td>80.0</td>\n",
       "      <td>60.0</td>\n",
       "      <td>0.0</td>\n",
       "      <td>1.0</td>\n",
       "      <td>1.0</td>\n",
       "      <td>1.0</td>\n",
       "      <td>0.0</td>\n",
       "      <td>25</td>\n",
       "    </tr>\n",
       "    <tr>\n",
       "      <th>3</th>\n",
       "      <td>1106.0</td>\n",
       "      <td>68.22</td>\n",
       "      <td>167.0</td>\n",
       "      <td>63.5</td>\n",
       "      <td>130.0</td>\n",
       "      <td>82.0</td>\n",
       "      <td>68.0</td>\n",
       "      <td>0.0</td>\n",
       "      <td>1.0</td>\n",
       "      <td>1.0</td>\n",
       "      <td>1.0</td>\n",
       "      <td>0.0</td>\n",
       "      <td>25</td>\n",
       "    </tr>\n",
       "    <tr>\n",
       "      <th>4</th>\n",
       "      <td>1456.0</td>\n",
       "      <td>69.18</td>\n",
       "      <td>173.0</td>\n",
       "      <td>63.5</td>\n",
       "      <td>142.0</td>\n",
       "      <td>70.0</td>\n",
       "      <td>72.0</td>\n",
       "      <td>1.0</td>\n",
       "      <td>1.0</td>\n",
       "      <td>1.0</td>\n",
       "      <td>1.0</td>\n",
       "      <td>0.0</td>\n",
       "      <td>25</td>\n",
       "    </tr>\n",
       "  </tbody>\n",
       "</table>\n",
       "</div>"
      ],
      "text/plain": [
       "   days_to_visit  age at visit  WEIGHT  HEIGHT  BPSYS  BPDIAS  HRATE  VISION  \\\n",
       "0            0.0         65.19   999.0   999.0  138.0    70.0   72.0     1.0   \n",
       "1          339.0         66.12   155.0    64.0  138.0    72.0   78.0     0.0   \n",
       "2          722.0         67.17   162.0    64.0  144.0    80.0   60.0     0.0   \n",
       "3         1106.0         68.22   167.0    63.5  130.0    82.0   68.0     0.0   \n",
       "4         1456.0         69.18   173.0    63.5  142.0    70.0   72.0     1.0   \n",
       "\n",
       "   VISCORR  VISWCORR  HEARING  HEARAID  dx1  \n",
       "0      1.0       1.0      1.0      0.0   25  \n",
       "1      1.0       1.0      1.0      0.0   25  \n",
       "2      1.0       1.0      1.0      0.0   25  \n",
       "3      1.0       1.0      1.0      0.0   25  \n",
       "4      1.0       1.0      1.0      0.0   25  "
      ]
     },
     "execution_count": 61,
     "metadata": {},
     "output_type": "execute_result"
    }
   ],
   "source": [
    "# encode column dx1 to numeric values. Label encoding\n",
    "from sklearn.preprocessing import LabelEncoder\n",
    "\n",
    "le = LabelEncoder()\n",
    "df_final['dx1'] = le.fit_transform(df_final['dx1'])\n",
    "\n",
    "df_final.head()\n"
   ]
  },
  {
   "cell_type": "code",
   "execution_count": 62,
   "metadata": {},
   "outputs": [
    {
     "data": {
      "text/plain": [
       "array([25, 51,  2, 48, 18,  9, 12, 43, 11,  3,  0, 42, 26, 38, 52, 49, 16,\n",
       "        1, 40,  8,  7, 15, 19, 35, 41, 37, 17, 47, 32, 20, 13,  4,  5, 27,\n",
       "       44, 36, 22, 45,  6, 50, 21, 34, 29, 28, 33, 53, 10, 46, 23, 14, 24,\n",
       "       30, 31, 39])"
      ]
     },
     "execution_count": 62,
     "metadata": {},
     "output_type": "execute_result"
    }
   ],
   "source": [
    "# check the uniqueness of dx1\n",
    "df_final['dx1'].unique()"
   ]
  },
  {
   "cell_type": "code",
   "execution_count": 63,
   "metadata": {},
   "outputs": [
    {
     "data": {
      "text/plain": [
       "25    6386\n",
       "2     1141\n",
       "51     474\n",
       "48      78\n",
       "35      47\n",
       "18      46\n",
       "0       43\n",
       "42      37\n",
       "17      25\n",
       "49      24\n",
       "41      23\n",
       "1       23\n",
       "26      19\n",
       "38      19\n",
       "37      18\n",
       "52      18\n",
       "43      17\n",
       "5       16\n",
       "3       14\n",
       "13      13\n",
       "16      12\n",
       "12      10\n",
       "4       10\n",
       "19      10\n",
       "47       7\n",
       "15       7\n",
       "7        6\n",
       "9        6\n",
       "6        6\n",
       "20       5\n",
       "44       4\n",
       "40       4\n",
       "23       3\n",
       "34       3\n",
       "50       3\n",
       "11       3\n",
       "27       2\n",
       "21       2\n",
       "30       2\n",
       "24       2\n",
       "36       1\n",
       "10       1\n",
       "31       1\n",
       "14       1\n",
       "8        1\n",
       "46       1\n",
       "33       1\n",
       "53       1\n",
       "22       1\n",
       "28       1\n",
       "29       1\n",
       "32       1\n",
       "45       1\n",
       "39       1\n",
       "Name: dx1, dtype: int64"
      ]
     },
     "execution_count": 63,
     "metadata": {},
     "output_type": "execute_result"
    }
   ],
   "source": [
    "df_final['dx1'].value_counts()"
   ]
  },
  {
   "cell_type": "code",
   "execution_count": 64,
   "metadata": {},
   "outputs": [],
   "source": [
    "# split the data into train and test sets\n",
    "from sklearn.model_selection import train_test_split\n",
    "\n",
    "x = df_final.drop('dx1', axis=1)\n",
    "y = df_final['dx1']\n",
    "\n",
    "x_train, x_test, y_train, y_test = train_test_split(x, y, test_size=0.3, random_state=42)"
   ]
  },
  {
   "cell_type": "markdown",
   "metadata": {},
   "source": [
    "##### Logistic Regression"
   ]
  },
  {
   "cell_type": "code",
   "execution_count": 65,
   "metadata": {},
   "outputs": [
    {
     "name": "stdout",
     "output_type": "stream",
     "text": [
      "Accuracy: 0.74\n",
      "Confusion Matrix:\n",
      "[[0 0 0 ... 0 0 0]\n",
      " [0 0 0 ... 0 0 0]\n",
      " [0 0 0 ... 0 0 0]\n",
      " ...\n",
      " [0 0 0 ... 0 0 0]\n",
      " [0 0 0 ... 0 0 0]\n",
      " [0 0 0 ... 0 0 0]]\n"
     ]
    },
    {
     "name": "stderr",
     "output_type": "stream",
     "text": [
      "C:\\Users\\Ananya\\AppData\\Roaming\\Python\\Python311\\site-packages\\sklearn\\linear_model\\_logistic.py:460: ConvergenceWarning: lbfgs failed to converge (status=1):\n",
      "STOP: TOTAL NO. of ITERATIONS REACHED LIMIT.\n",
      "\n",
      "Increase the number of iterations (max_iter) or scale the data as shown in:\n",
      "    https://scikit-learn.org/stable/modules/preprocessing.html\n",
      "Please also refer to the documentation for alternative solver options:\n",
      "    https://scikit-learn.org/stable/modules/linear_model.html#logistic-regression\n",
      "  n_iter_i = _check_optimize_result(\n"
     ]
    }
   ],
   "source": [
    "from sklearn.linear_model import LogisticRegression\n",
    "from sklearn.metrics import accuracy_score, confusion_matrix\n",
    "model = LogisticRegression()\n",
    "model.fit(x_train, y_train)\n",
    "predictions = model.predict(x_test)\n",
    "\n",
    "accuracy = accuracy_score(y_test, predictions)\n",
    "print(f\"Accuracy: {accuracy:.2f}\")\n",
    "conf_matrix = confusion_matrix(y_test, predictions)\n",
    "print(\"Confusion Matrix:\")\n",
    "print(conf_matrix)\n",
    "\n",
    "# log = {'model': 'Logistic Regression', 'accuracy': accuracy}\n",
    "# csv_logger.log(log)"
   ]
  },
  {
   "cell_type": "markdown",
   "metadata": {},
   "source": [
    "##### RNN"
   ]
  },
  {
   "cell_type": "code",
   "execution_count": null,
   "metadata": {},
   "outputs": [],
   "source": [
    "import torch\n",
    "import torch.nn as nn\n",
    "import torch.optim as optim\n",
    "import numpy as np\n",
    "\n",
    "# Step 1: Import the pre-made RNN model (e.g., nn.RNN or nn.LSTM)\n",
    "from torch.nn import LSTM\n",
    "\n",
    "# Step 2: Replace the custom RNN model with the pre-made model\n",
    "class RNNModel(nn.Module):\n",
    "    def __init__(self, input_size, hidden_size, num_layers, num_classes):\n",
    "        super(RNNModel, self).__init()\n",
    "        self.hidden_size = hidden_size\n",
    "        self.num_layers = num_layers\n",
    "        self.rnn = LSTM(input_size, hidden_size, num_layers, batch_first=True)\n",
    "        self.fc = nn.Linear(hidden_size, num_classes)\n",
    "\n",
    "    def forward(self, x):\n",
    "        h0 = torch.zeros(self.num_layers, x.size(0), self.hidden_size)\n",
    "        c0 = torch.zeros(self.num_layers, x.size(0), self.hidden_size)\n",
    "        out, _ = self.rnn(x, (h0, c0))\n",
    "        out = self.fc(out[:, -1, :])\n",
    "        return out\n",
    "\n",
    "# Step 3: Update model architecture, hyperparameters, and training\n",
    "input_size = 28\n",
    "hidden_size = 128\n",
    "num_layers = 2\n",
    "num_classes = 10\n",
    "learning_rate = 0.001\n",
    "num_epochs = 5\n",
    "\n",
    "model = RNNModel(input_size, hidden_size, num_layers, num_classes)\n",
    "criterion = nn.CrossEntropyLoss()\n",
    "optimizer = optim.Adam(model.parameters(), lr=learning_rate)\n",
    "\n",
    "# Training loop\n",
    "num_epochs =  # Number of training epochs\n",
    "for epoch in range(num_epochs):\n",
    "    # Forward pass\n",
    "    outputs = model(inputs)\n",
    "    loss = criterion(outputs, labels)\n",
    "    \n",
    "    # Backward pass and optimization\n",
    "    optimizer.zero_grad()\n",
    "    loss.backward()\n",
    "    optimizer.step()\n",
    "\n",
    "# Evaluation\n",
    "model.eval()\n",
    "with torch.no_grad():\n",
    "    test_outputs = model(test_inputs)\n",
    "    _, predicted = torch.max(test_outputs, 1)\n",
    "\n",
    "# Calculate accuracy and F1 score\n",
    "accuracy = accuracy_score(test_labels, predicted)\n",
    "f1 = f1_score(test_labels, predicted, average='weighted')\n",
    "\n",
    "print(f\"Accuracy: {accuracy}\")\n",
    "print(f\"F1 Score: {f1}\")\n"
   ]
  }
 ],
 "metadata": {
  "kernelspec": {
   "display_name": "Python 3",
   "language": "python",
   "name": "python3"
  },
  "language_info": {
   "codemirror_mode": {
    "name": "ipython",
    "version": 3
   },
   "file_extension": ".py",
   "mimetype": "text/x-python",
   "name": "python",
   "nbconvert_exporter": "python",
   "pygments_lexer": "ipython3",
   "version": "3.11.5"
  }
 },
 "nbformat": 4,
 "nbformat_minor": 2
}
