{
 "cells": [
  {
   "cell_type": "markdown",
   "metadata": {},
   "source": [
    "### Cognitive tests"
   ]
  },
  {
   "cell_type": "code",
   "execution_count": 1,
   "metadata": {},
   "outputs": [],
   "source": [
    "import pandas as pd\n",
    "import numpy as np"
   ]
  },
  {
   "cell_type": "code",
   "execution_count": 2,
   "metadata": {},
   "outputs": [],
   "source": [
    "df = pd.read_csv('OASIS4_data_Neuropsychometric.csv')"
   ]
  },
  {
   "cell_type": "code",
   "execution_count": 11,
   "metadata": {},
   "outputs": [
    {
     "data": {
      "application/vnd.jupyter.widget-view+json": {
       "model_id": "4417fe417adc47e495f66942a20a5a86",
       "version_major": 2,
       "version_minor": 0
      },
      "text/plain": [
       "Summarize dataset:   0%|          | 0/5 [00:00<?, ?it/s]"
      ]
     },
     "metadata": {},
     "output_type": "display_data"
    },
    {
     "data": {
      "application/vnd.jupyter.widget-view+json": {
       "model_id": "923412a213504068adb3a17acb849af3",
       "version_major": 2,
       "version_minor": 0
      },
      "text/plain": [
       "Generate report structure:   0%|          | 0/1 [00:00<?, ?it/s]"
      ]
     },
     "metadata": {},
     "output_type": "display_data"
    },
    {
     "data": {
      "application/vnd.jupyter.widget-view+json": {
       "model_id": "9e559fb99d7d4306b34cf276a83aa2b7",
       "version_major": 2,
       "version_minor": 0
      },
      "text/plain": [
       "Render HTML:   0%|          | 0/1 [00:00<?, ?it/s]"
      ]
     },
     "metadata": {},
     "output_type": "display_data"
    },
    {
     "data": {
      "application/vnd.jupyter.widget-view+json": {
       "model_id": "a7ab8849745f411692b903a0d5973621",
       "version_major": 2,
       "version_minor": 0
      },
      "text/plain": [
       "Export report to file:   0%|          | 0/1 [00:00<?, ?it/s]"
      ]
     },
     "metadata": {},
     "output_type": "display_data"
    }
   ],
   "source": [
    "# # Import the necessary module\n",
    "# from ydata_profiling import ProfileReport\n",
    "\n",
    "# # Create a ProfileReport object\n",
    "# report = ProfileReport(df)\n",
    "\n",
    "# # Generate the data profiling report\n",
    "# report.to_file('oasis_4_9.html')"
   ]
  },
  {
   "cell_type": "code",
   "execution_count": 3,
   "metadata": {},
   "outputs": [
    {
     "data": {
      "text/plain": [
       "(1265, 27)"
      ]
     },
     "execution_count": 3,
     "metadata": {},
     "output_type": "execute_result"
    }
   ],
   "source": [
    "df.shape"
   ]
  },
  {
   "cell_type": "code",
   "execution_count": 7,
   "metadata": {},
   "outputs": [
    {
     "data": {
      "text/plain": [
       "verb_fleunc         16\n",
       "boston              14\n",
       "mmse                 5\n",
       "mem_word            18\n",
       "recall_word         19\n",
       "short_blessed        6\n",
       "logimem             15\n",
       "traila_sec          15\n",
       "traila_line        152\n",
       "traila_error        96\n",
       "trailb_sec          24\n",
       "trailb_line        630\n",
       "trailb_error       288\n",
       "digitsym_second     30\n",
       "digitsym_error     351\n",
       "gds_satis          575\n",
       "gds_appetite       574\n",
       "gds_weightloss     574\n",
       "gds_sleeping       575\n",
       "gds_tired          576\n",
       "gds_move           577\n",
       "gds_worth          577\n",
       "gds_hopeless       577\n",
       "gds_total          584\n",
       "dtype: int64"
      ]
     },
     "execution_count": 7,
     "metadata": {},
     "output_type": "execute_result"
    }
   ],
   "source": [
    "df.isnull().sum()"
   ]
  },
  {
   "cell_type": "code",
   "execution_count": 6,
   "metadata": {},
   "outputs": [],
   "source": [
    "df.drop('oasis_id', inplace=True, axis=1)\n",
    "df.drop('neuropsych_id', inplace=True, axis=1)\n",
    "df.drop('visit_days', inplace=True, axis=1)"
   ]
  },
  {
   "cell_type": "code",
   "execution_count": 11,
   "metadata": {},
   "outputs": [
    {
     "data": {
      "text/plain": [
       "verb_fleunc         93\n",
       "boston              21\n",
       "mmse                 1\n",
       "mem_word            55\n",
       "recall_word        100\n",
       "short_blessed       12\n",
       "logimem             26\n",
       "traila_sec          47\n",
       "traila_line          1\n",
       "traila_error        42\n",
       "trailb_sec         462\n",
       "trailb_line         11\n",
       "trailb_error       336\n",
       "digitsym_second    582\n",
       "digitsym_error     320\n",
       "gds_satis            0\n",
       "gds_appetite         0\n",
       "gds_weightloss       0\n",
       "gds_sleeping         0\n",
       "gds_tired            0\n",
       "gds_move             0\n",
       "gds_worth            0\n",
       "gds_hopeless         0\n",
       "gds_total            0\n",
       "dtype: int64"
      ]
     },
     "execution_count": 11,
     "metadata": {},
     "output_type": "execute_result"
    }
   ],
   "source": [
    "# count the number of occurrences of 'M' in all columns\n",
    "(df == 'M').sum()"
   ]
  },
  {
   "cell_type": "markdown",
   "metadata": {},
   "source": [
    "##### Train Test Split"
   ]
  },
  {
   "cell_type": "code",
   "execution_count": 9,
   "metadata": {},
   "outputs": [],
   "source": [
    "# train test split\n",
    "from sklearn.model_selection import train_test_split\n",
    "x = df.drop('gds_total', axis=1)\n",
    "y = df['gds_total']\n",
    "\n",
    "x_train, x_test, y_train, y_test = train_test_split(x, y, test_size=0.2, random_state=42)"
   ]
  },
  {
   "cell_type": "code",
   "execution_count": 10,
   "metadata": {},
   "outputs": [
    {
     "ename": "ValueError",
     "evalue": "Cannot use mean strategy with non-numeric data:\ncould not convert string to float: 'M'",
     "output_type": "error",
     "traceback": [
      "\u001b[1;31m---------------------------------------------------------------------------\u001b[0m",
      "\u001b[1;31mValueError\u001b[0m                                Traceback (most recent call last)",
      "\u001b[1;32mc:\\Users\\Ananya\\OneDrive\\Projects and Labs\\Minor Project\\OASIS 4\\OASIS_4_9.ipynb Cell 10\u001b[0m line \u001b[0;36m4\n\u001b[0;32m      <a href='vscode-notebook-cell:/c%3A/Users/Ananya/OneDrive/Projects%20and%20Labs/Minor%20Project/OASIS%204/OASIS_4_9.ipynb#X12sZmlsZQ%3D%3D?line=1'>2</a>\u001b[0m \u001b[39mfrom\u001b[39;00m \u001b[39msklearn\u001b[39;00m\u001b[39m.\u001b[39;00m\u001b[39mimpute\u001b[39;00m \u001b[39mimport\u001b[39;00m SimpleImputer\n\u001b[0;32m      <a href='vscode-notebook-cell:/c%3A/Users/Ananya/OneDrive/Projects%20and%20Labs/Minor%20Project/OASIS%204/OASIS_4_9.ipynb#X12sZmlsZQ%3D%3D?line=2'>3</a>\u001b[0m imputer \u001b[39m=\u001b[39m SimpleImputer(strategy\u001b[39m=\u001b[39m\u001b[39m'\u001b[39m\u001b[39mmean\u001b[39m\u001b[39m'\u001b[39m)\n\u001b[1;32m----> <a href='vscode-notebook-cell:/c%3A/Users/Ananya/OneDrive/Projects%20and%20Labs/Minor%20Project/OASIS%204/OASIS_4_9.ipynb#X12sZmlsZQ%3D%3D?line=3'>4</a>\u001b[0m imputer\u001b[39m.\u001b[39;49mfit(x_train)\n\u001b[0;32m      <a href='vscode-notebook-cell:/c%3A/Users/Ananya/OneDrive/Projects%20and%20Labs/Minor%20Project/OASIS%204/OASIS_4_9.ipynb#X12sZmlsZQ%3D%3D?line=4'>5</a>\u001b[0m x_train \u001b[39m=\u001b[39m imputer\u001b[39m.\u001b[39mtransform(x_train)\n\u001b[0;32m      <a href='vscode-notebook-cell:/c%3A/Users/Ananya/OneDrive/Projects%20and%20Labs/Minor%20Project/OASIS%204/OASIS_4_9.ipynb#X12sZmlsZQ%3D%3D?line=5'>6</a>\u001b[0m x_test \u001b[39m=\u001b[39m imputer\u001b[39m.\u001b[39mtransform(x_test)\n",
      "File \u001b[1;32m~\\AppData\\Roaming\\Python\\Python311\\site-packages\\sklearn\\base.py:1152\u001b[0m, in \u001b[0;36m_fit_context.<locals>.decorator.<locals>.wrapper\u001b[1;34m(estimator, *args, **kwargs)\u001b[0m\n\u001b[0;32m   1145\u001b[0m     estimator\u001b[39m.\u001b[39m_validate_params()\n\u001b[0;32m   1147\u001b[0m \u001b[39mwith\u001b[39;00m config_context(\n\u001b[0;32m   1148\u001b[0m     skip_parameter_validation\u001b[39m=\u001b[39m(\n\u001b[0;32m   1149\u001b[0m         prefer_skip_nested_validation \u001b[39mor\u001b[39;00m global_skip_validation\n\u001b[0;32m   1150\u001b[0m     )\n\u001b[0;32m   1151\u001b[0m ):\n\u001b[1;32m-> 1152\u001b[0m     \u001b[39mreturn\u001b[39;00m fit_method(estimator, \u001b[39m*\u001b[39;49margs, \u001b[39m*\u001b[39;49m\u001b[39m*\u001b[39;49mkwargs)\n",
      "File \u001b[1;32m~\\AppData\\Roaming\\Python\\Python311\\site-packages\\sklearn\\impute\\_base.py:369\u001b[0m, in \u001b[0;36mSimpleImputer.fit\u001b[1;34m(self, X, y)\u001b[0m\n\u001b[0;32m    351\u001b[0m \u001b[39m@_fit_context\u001b[39m(prefer_skip_nested_validation\u001b[39m=\u001b[39m\u001b[39mTrue\u001b[39;00m)\n\u001b[0;32m    352\u001b[0m \u001b[39mdef\u001b[39;00m \u001b[39mfit\u001b[39m(\u001b[39mself\u001b[39m, X, y\u001b[39m=\u001b[39m\u001b[39mNone\u001b[39;00m):\n\u001b[0;32m    353\u001b[0m \u001b[39m    \u001b[39m\u001b[39m\"\"\"Fit the imputer on `X`.\u001b[39;00m\n\u001b[0;32m    354\u001b[0m \n\u001b[0;32m    355\u001b[0m \u001b[39m    Parameters\u001b[39;00m\n\u001b[1;32m   (...)\u001b[0m\n\u001b[0;32m    367\u001b[0m \u001b[39m        Fitted estimator.\u001b[39;00m\n\u001b[0;32m    368\u001b[0m \u001b[39m    \"\"\"\u001b[39;00m\n\u001b[1;32m--> 369\u001b[0m     X \u001b[39m=\u001b[39m \u001b[39mself\u001b[39;49m\u001b[39m.\u001b[39;49m_validate_input(X, in_fit\u001b[39m=\u001b[39;49m\u001b[39mTrue\u001b[39;49;00m)\n\u001b[0;32m    371\u001b[0m     \u001b[39m# default fill_value is 0 for numerical input and \"missing_value\"\u001b[39;00m\n\u001b[0;32m    372\u001b[0m     \u001b[39m# otherwise\u001b[39;00m\n\u001b[0;32m    373\u001b[0m     \u001b[39mif\u001b[39;00m \u001b[39mself\u001b[39m\u001b[39m.\u001b[39mfill_value \u001b[39mis\u001b[39;00m \u001b[39mNone\u001b[39;00m:\n",
      "File \u001b[1;32m~\\AppData\\Roaming\\Python\\Python311\\site-packages\\sklearn\\impute\\_base.py:330\u001b[0m, in \u001b[0;36mSimpleImputer._validate_input\u001b[1;34m(self, X, in_fit)\u001b[0m\n\u001b[0;32m    324\u001b[0m \u001b[39mif\u001b[39;00m \u001b[39m\"\u001b[39m\u001b[39mcould not convert\u001b[39m\u001b[39m\"\u001b[39m \u001b[39min\u001b[39;00m \u001b[39mstr\u001b[39m(ve):\n\u001b[0;32m    325\u001b[0m     new_ve \u001b[39m=\u001b[39m \u001b[39mValueError\u001b[39;00m(\n\u001b[0;32m    326\u001b[0m         \u001b[39m\"\u001b[39m\u001b[39mCannot use \u001b[39m\u001b[39m{}\u001b[39;00m\u001b[39m strategy with non-numeric data:\u001b[39m\u001b[39m\\n\u001b[39;00m\u001b[39m{}\u001b[39;00m\u001b[39m\"\u001b[39m\u001b[39m.\u001b[39mformat(\n\u001b[0;32m    327\u001b[0m             \u001b[39mself\u001b[39m\u001b[39m.\u001b[39mstrategy, ve\n\u001b[0;32m    328\u001b[0m         )\n\u001b[0;32m    329\u001b[0m     )\n\u001b[1;32m--> 330\u001b[0m     \u001b[39mraise\u001b[39;00m new_ve \u001b[39mfrom\u001b[39;00m \u001b[39mNone\u001b[39m\n\u001b[0;32m    331\u001b[0m \u001b[39melse\u001b[39;00m:\n\u001b[0;32m    332\u001b[0m     \u001b[39mraise\u001b[39;00m ve\n",
      "\u001b[1;31mValueError\u001b[0m: Cannot use mean strategy with non-numeric data:\ncould not convert string to float: 'M'"
     ]
    }
   ],
   "source": [
    "# use simple imputer to fill in missing values\n",
    "from sklearn.impute import SimpleImputer\n",
    "imputer = SimpleImputer(strategy='mean')\n",
    "imputer.fit(x_train)\n",
    "x_train = imputer.transform(x_train)\n",
    "x_test = imputer.transform(x_test)"
   ]
  }
 ],
 "metadata": {
  "kernelspec": {
   "display_name": "Python 3",
   "language": "python",
   "name": "python3"
  },
  "language_info": {
   "codemirror_mode": {
    "name": "ipython",
    "version": 3
   },
   "file_extension": ".py",
   "mimetype": "text/x-python",
   "name": "python",
   "nbconvert_exporter": "python",
   "pygments_lexer": "ipython3",
   "version": "3.11.2"
  }
 },
 "nbformat": 4,
 "nbformat_minor": 2
}
