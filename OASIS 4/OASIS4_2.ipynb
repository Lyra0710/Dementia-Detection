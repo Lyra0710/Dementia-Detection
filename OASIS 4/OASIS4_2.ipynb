{
 "cells": [
  {
   "cell_type": "code",
   "execution_count": 1,
   "metadata": {},
   "outputs": [],
   "source": [
    "import pandas as pd\n",
    "from sklearn.metrics import accuracy_score, confusion_matrix"
   ]
  },
  {
   "cell_type": "code",
   "execution_count": 3,
   "metadata": {},
   "outputs": [],
   "source": [
    "df = pd.read_csv(\"OASIS4_data_clinical.csv\")"
   ]
  },
  {
   "cell_type": "code",
   "execution_count": 4,
   "metadata": {},
   "outputs": [],
   "source": [
    "%matplotlib inline\n",
    "\n",
    "import matplotlib.pyplot as plt\n",
    "\n",
    "# Your plotting code here\n",
    "\n",
    "plt.show()  # Display the plot in the Jupyter Notebook output\n"
   ]
  },
  {
   "cell_type": "code",
   "execution_count": 6,
   "metadata": {},
   "outputs": [
    {
     "data": {
      "application/vnd.jupyter.widget-view+json": {
       "model_id": "69a1da6a27e74a90b273c047979c3184",
       "version_major": 2,
       "version_minor": 0
      },
      "text/plain": [
       "Summarize dataset:   0%|          | 0/5 [00:00<?, ?it/s]"
      ]
     },
     "metadata": {},
     "output_type": "display_data"
    },
    {
     "data": {
      "application/vnd.jupyter.widget-view+json": {
       "model_id": "c4bef292dd19409e98c48a6b97415351",
       "version_major": 2,
       "version_minor": 0
      },
      "text/plain": [
       "Generate report structure:   0%|          | 0/1 [00:00<?, ?it/s]"
      ]
     },
     "metadata": {},
     "output_type": "display_data"
    },
    {
     "data": {
      "application/vnd.jupyter.widget-view+json": {
       "model_id": "f5054585435a49ad9a89dbd5d04e08d1",
       "version_major": 2,
       "version_minor": 0
      },
      "text/plain": [
       "Render HTML:   0%|          | 0/1 [00:00<?, ?it/s]"
      ]
     },
     "metadata": {},
     "output_type": "display_data"
    },
    {
     "data": {
      "application/vnd.jupyter.widget-view+json": {
       "model_id": "ec6a44e451d24dc78f7a5dbd13afde05",
       "version_major": 2,
       "version_minor": 0
      },
      "text/plain": [
       "Export report to file:   0%|          | 0/1 [00:00<?, ?it/s]"
      ]
     },
     "metadata": {},
     "output_type": "display_data"
    }
   ],
   "source": [
    "# Import the necessary module\n",
    "from ydata_profiling import ProfileReport\n",
    "\n",
    "# Create a ProfileReport object\n",
    "report = ProfileReport(df)\n",
    "\n",
    "# Generate the data profiling report\n",
    "report.to_file('oasis_4_2.html')"
   ]
  },
  {
   "cell_type": "code",
   "execution_count": 8,
   "metadata": {},
   "outputs": [],
   "source": [
    "df.dropna(inplace=True)"
   ]
  },
  {
   "cell_type": "code",
   "execution_count": 11,
   "metadata": {},
   "outputs": [],
   "source": [
    "df.drop('oasis_id' , axis=1,inplace=True)\n",
    "df.drop('demographics_id', axis=1,inplace=True)\n",
    "df.drop('demographics_firstvisit', axis=1,inplace=True)"
   ]
  },
  {
   "cell_type": "code",
   "execution_count": 12,
   "metadata": {},
   "outputs": [
    {
     "name": "stdout",
     "output_type": "stream",
     "text": [
      "<class 'pandas.core.frame.DataFrame'>\n",
      "Int64Index: 660 entries, 0 to 662\n",
      "Data columns (total 24 columns):\n",
      " #   Column                Non-Null Count  Dtype  \n",
      "---  ------                --------------  -----  \n",
      " 0   sex                   660 non-null    int64  \n",
      " 1   age                   660 non-null    int64  \n",
      " 2   edu                   660 non-null    int64  \n",
      " 3   race                  660 non-null    int64  \n",
      " 4   hispanic              660 non-null    int64  \n",
      " 5   marriage              660 non-null    int64  \n",
      " 6   declong               660 non-null    float64\n",
      " 7   decage                660 non-null    int64  \n",
      " 8   smoke                 660 non-null    int64  \n",
      " 9   height                660 non-null    float64\n",
      " 10  weight                660 non-null    float64\n",
      " 11  bmi                   660 non-null    float64\n",
      " 12  health_history1       660 non-null    int64  \n",
      " 13  health_history2       660 non-null    int64  \n",
      " 14  health_history3       660 non-null    int64  \n",
      " 15  health_history4       660 non-null    int64  \n",
      " 16  health_history5       660 non-null    int64  \n",
      " 17  health_history6       660 non-null    int64  \n",
      " 18  health_history7       660 non-null    int64  \n",
      " 19  health_history10      660 non-null    int64  \n",
      " 20  health_history11      660 non-null    int64  \n",
      " 21  health_history12      660 non-null    int64  \n",
      " 22  final_dx              660 non-null    object \n",
      " 23  final_dx_categorized  660 non-null    int64  \n",
      "dtypes: float64(4), int64(19), object(1)\n",
      "memory usage: 128.9+ KB\n"
     ]
    }
   ],
   "source": [
    "df.info()"
   ]
  }
 ],
 "metadata": {
  "kernelspec": {
   "display_name": "Python 3",
   "language": "python",
   "name": "python3"
  },
  "language_info": {
   "codemirror_mode": {
    "name": "ipython",
    "version": 3
   },
   "file_extension": ".py",
   "mimetype": "text/x-python",
   "name": "python",
   "nbconvert_exporter": "python",
   "pygments_lexer": "ipython3",
   "version": "3.11.2"
  }
 },
 "nbformat": 4,
 "nbformat_minor": 2
}
