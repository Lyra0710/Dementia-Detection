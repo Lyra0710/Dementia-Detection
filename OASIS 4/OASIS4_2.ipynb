{
 "cells": [
  {
   "cell_type": "code",
   "execution_count": 1,
   "metadata": {},
   "outputs": [],
   "source": [
    "import pandas as pd\n",
    "from sklearn.metrics import accuracy_score, confusion_matrix"
   ]
  },
  {
   "cell_type": "code",
   "execution_count": 2,
   "metadata": {},
   "outputs": [],
   "source": [
    "df = pd.read_csv(\"OASIS4_data_clinical.csv\")"
   ]
  },
  {
   "cell_type": "code",
   "execution_count": 3,
   "metadata": {},
   "outputs": [],
   "source": [
    "%matplotlib inline\n",
    "\n",
    "import matplotlib.pyplot as plt\n",
    "\n",
    "# Your plotting code here\n",
    "\n",
    "plt.show()  # Display the plot in the Jupyter Notebook output\n"
   ]
  },
  {
   "cell_type": "code",
   "execution_count": 4,
   "metadata": {},
   "outputs": [
    {
     "data": {
      "application/vnd.jupyter.widget-view+json": {
       "model_id": "f1e349ddfa0746f5aa313d4edb33fd0b",
       "version_major": 2,
       "version_minor": 0
      },
      "text/plain": [
       "Summarize dataset:   0%|          | 0/5 [00:00<?, ?it/s]"
      ]
     },
     "metadata": {},
     "output_type": "display_data"
    },
    {
     "data": {
      "application/vnd.jupyter.widget-view+json": {
       "model_id": "7d7c0bfb4b304b2097f8c320dd0fbf0a",
       "version_major": 2,
       "version_minor": 0
      },
      "text/plain": [
       "Generate report structure:   0%|          | 0/1 [00:00<?, ?it/s]"
      ]
     },
     "metadata": {},
     "output_type": "display_data"
    },
    {
     "data": {
      "application/vnd.jupyter.widget-view+json": {
       "model_id": "53818ab519494c1caad5b6c5c49b3b1e",
       "version_major": 2,
       "version_minor": 0
      },
      "text/plain": [
       "Render HTML:   0%|          | 0/1 [00:00<?, ?it/s]"
      ]
     },
     "metadata": {},
     "output_type": "display_data"
    },
    {
     "data": {
      "application/vnd.jupyter.widget-view+json": {
       "model_id": "8546fad15fd04bc08c16133bc5f7bb99",
       "version_major": 2,
       "version_minor": 0
      },
      "text/plain": [
       "Export report to file:   0%|          | 0/1 [00:00<?, ?it/s]"
      ]
     },
     "metadata": {},
     "output_type": "display_data"
    }
   ],
   "source": [
    "# Import the necessary module\n",
    "from ydata_profiling import ProfileReport\n",
    "\n",
    "# Create a ProfileReport object\n",
    "report = ProfileReport(df)\n",
    "\n",
    "# Generate the data profiling report\n",
    "report.to_file('oasis_4_2.html')"
   ]
  },
  {
   "cell_type": "code",
   "execution_count": 5,
   "metadata": {},
   "outputs": [],
   "source": [
    "df.dropna(inplace=True)"
   ]
  },
  {
   "cell_type": "code",
   "execution_count": 6,
   "metadata": {},
   "outputs": [],
   "source": [
    "df.drop('oasis_id' , axis=1,inplace=True)\n",
    "df.drop('demographics_id', axis=1,inplace=True)\n",
    "df.drop('demographics_firstvisit', axis=1,inplace=True)"
   ]
  },
  {
   "cell_type": "code",
   "execution_count": 7,
   "metadata": {},
   "outputs": [
    {
     "name": "stdout",
     "output_type": "stream",
     "text": [
      "<class 'pandas.core.frame.DataFrame'>\n",
      "Int64Index: 660 entries, 0 to 662\n",
      "Data columns (total 24 columns):\n",
      " #   Column                Non-Null Count  Dtype  \n",
      "---  ------                --------------  -----  \n",
      " 0   sex                   660 non-null    int64  \n",
      " 1   age                   660 non-null    int64  \n",
      " 2   edu                   660 non-null    int64  \n",
      " 3   race                  660 non-null    int64  \n",
      " 4   hispanic              660 non-null    int64  \n",
      " 5   marriage              660 non-null    int64  \n",
      " 6   declong               660 non-null    float64\n",
      " 7   decage                660 non-null    int64  \n",
      " 8   smoke                 660 non-null    int64  \n",
      " 9   height                660 non-null    float64\n",
      " 10  weight                660 non-null    float64\n",
      " 11  bmi                   660 non-null    float64\n",
      " 12  health_history1       660 non-null    int64  \n",
      " 13  health_history2       660 non-null    int64  \n",
      " 14  health_history3       660 non-null    int64  \n",
      " 15  health_history4       660 non-null    int64  \n",
      " 16  health_history5       660 non-null    int64  \n",
      " 17  health_history6       660 non-null    int64  \n",
      " 18  health_history7       660 non-null    int64  \n",
      " 19  health_history10      660 non-null    int64  \n",
      " 20  health_history11      660 non-null    int64  \n",
      " 21  health_history12      660 non-null    int64  \n",
      " 22  final_dx              660 non-null    object \n",
      " 23  final_dx_categorized  660 non-null    int64  \n",
      "dtypes: float64(4), int64(19), object(1)\n",
      "memory usage: 128.9+ KB\n"
     ]
    }
   ],
   "source": [
    "df.info()"
   ]
  },
  {
   "cell_type": "code",
   "execution_count": 8,
   "metadata": {},
   "outputs": [],
   "source": [
    "# check all the columns in df and convert all the int columns to float, except 'cdr'\n",
    "for col in df.columns:\n",
    "    if df[col].dtype == 'int64':\n",
    "        df[col] = df[col].astype('float64')"
   ]
  },
  {
   "cell_type": "markdown",
   "metadata": {},
   "source": [
    "##### Train-Test Split"
   ]
  },
  {
   "cell_type": "code",
   "execution_count": 9,
   "metadata": {},
   "outputs": [],
   "source": [
    "df.drop('hispanic', axis=1,inplace=True)"
   ]
  },
  {
   "cell_type": "code",
   "execution_count": 10,
   "metadata": {},
   "outputs": [
    {
     "name": "stdout",
     "output_type": "stream",
     "text": [
      "<class 'pandas.core.frame.DataFrame'>\n",
      "Int64Index: 660 entries, 0 to 662\n",
      "Data columns (total 23 columns):\n",
      " #   Column                Non-Null Count  Dtype  \n",
      "---  ------                --------------  -----  \n",
      " 0   sex                   660 non-null    float64\n",
      " 1   age                   660 non-null    float64\n",
      " 2   edu                   660 non-null    float64\n",
      " 3   race                  660 non-null    float64\n",
      " 4   marriage              660 non-null    float64\n",
      " 5   declong               660 non-null    float64\n",
      " 6   decage                660 non-null    float64\n",
      " 7   smoke                 660 non-null    float64\n",
      " 8   height                660 non-null    float64\n",
      " 9   weight                660 non-null    float64\n",
      " 10  bmi                   660 non-null    float64\n",
      " 11  health_history1       660 non-null    float64\n",
      " 12  health_history2       660 non-null    float64\n",
      " 13  health_history3       660 non-null    float64\n",
      " 14  health_history4       660 non-null    float64\n",
      " 15  health_history5       660 non-null    float64\n",
      " 16  health_history6       660 non-null    float64\n",
      " 17  health_history7       660 non-null    float64\n",
      " 18  health_history10      660 non-null    float64\n",
      " 19  health_history11      660 non-null    float64\n",
      " 20  health_history12      660 non-null    float64\n",
      " 21  final_dx              660 non-null    object \n",
      " 22  final_dx_categorized  660 non-null    float64\n",
      "dtypes: float64(22), object(1)\n",
      "memory usage: 123.8+ KB\n"
     ]
    }
   ],
   "source": [
    "df.info()"
   ]
  },
  {
   "cell_type": "code",
   "execution_count": 11,
   "metadata": {},
   "outputs": [],
   "source": [
    "# encode final_dx\n",
    "df.drop('final_dx', axis=1,inplace=True)"
   ]
  },
  {
   "cell_type": "code",
   "execution_count": 12,
   "metadata": {},
   "outputs": [],
   "source": [
    "from sklearn.model_selection import train_test_split\n",
    "x = df.drop(['final_dx_categorized'], axis=1)\n",
    "y = df[['final_dx_categorized']]\n",
    "x_train, x_test, y_train, y_test = train_test_split(x, y, test_size=0.2, random_state=42)"
   ]
  },
  {
   "cell_type": "code",
   "execution_count": 13,
   "metadata": {},
   "outputs": [],
   "source": [
    "from imblearn.over_sampling import SMOTE\n",
    "sm = SMOTE(random_state=42)\n",
    "columns_to_smote = x_train.columns[12:22]  # Assuming 12 to 21 are the column indices\n",
    "x_train_resampled, y_train_resampled = sm.fit_resample(x_train[columns_to_smote], y_train)"
   ]
  },
  {
   "cell_type": "code",
   "execution_count": 15,
   "metadata": {},
   "outputs": [],
   "source": [
    "from sklearn.preprocessing import StandardScaler\n",
    "\n",
    "scaler = StandardScaler()\n",
    "x_train_subset = x_train.iloc[:, 2:]\n",
    "x_train_scaled = scaler.fit_transform(x_train_subset)\n",
    "x_train.iloc[:, 2:] = x_train_scaled\n",
    "\n",
    "x_test_subset = x_test.iloc[:, 2:]\n",
    "x_test_scaled = scaler.transform(x_test_subset)\n",
    "x_test.iloc[:, 2:] = x_test_scaled\n"
   ]
  },
  {
   "cell_type": "code",
   "execution_count": null,
   "metadata": {},
   "outputs": [],
   "source": [
    "import csv\n",
    "import os\n",
    "class CSVLogger:\n",
    "    def __init__(self, filename, fieldnames):\n",
    "        self.filename = filename\n",
    "        self.fieldnames = fieldnames\n",
    "\n",
    "        # Create and initialize the CSV file\n",
    "        if not os.path.isfile(self.filename):\n",
    "            with open(self.filename, 'w', newline='') as csvfile:\n",
    "                writer = csv.DictWriter(csvfile, fieldnames=self.fieldnames)\n",
    "                writer.writeheader()\n",
    "        else:\n",
    "            with open(self.filename, 'a', newline='') as csvfile:\n",
    "                writer = csv.DictWriter(csvfile, fieldnames=self.fieldnames)\n",
    "                writer.writerow({})\n",
    "\n",
    "    def log(self, data):\n",
    "        # Append data to the CSV file\n",
    "        with open(self.filename, 'a', newline='') as csvfile:\n",
    "            writer = csv.DictWriter(csvfile, fieldnames=self.fieldnames)\n",
    "            writer.writerow(data)"
   ]
  },
  {
   "cell_type": "code",
   "execution_count": null,
   "metadata": {},
   "outputs": [],
   "source": [
    "# create a CSVLogger object\n",
    "csv_logger = CSVLogger( 'results.csv', ['model', 'accuracy'] )\n"
   ]
  }
 ],
 "metadata": {
  "kernelspec": {
   "display_name": "Python 3",
   "language": "python",
   "name": "python3"
  },
  "language_info": {
   "codemirror_mode": {
    "name": "ipython",
    "version": 3
   },
   "file_extension": ".py",
   "mimetype": "text/x-python",
   "name": "python",
   "nbconvert_exporter": "python",
   "pygments_lexer": "ipython3",
   "version": "3.11.2"
  }
 },
 "nbformat": 4,
 "nbformat_minor": 2
}
